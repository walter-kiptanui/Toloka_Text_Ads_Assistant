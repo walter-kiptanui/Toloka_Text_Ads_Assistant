{
 "cells": [
  {
   "cell_type": "markdown",
   "id": "f5fdf3a4",
   "metadata": {},
   "source": [
    "OBJECTIVE IS TO BUILD A TEXT CLASSIFICATION MODEL AND DEPLOY IT"
   ]
  },
  {
   "cell_type": "code",
   "execution_count": 1,
   "id": "f95fb315",
   "metadata": {},
   "outputs": [],
   "source": [
    "import pandas as pd\n",
    "import numpy as np"
   ]
  },
  {
   "cell_type": "code",
   "execution_count": 2,
   "id": "71dc1b7a",
   "metadata": {},
   "outputs": [
    {
     "name": "stderr",
     "output_type": "stream",
     "text": [
      "[nltk_data] Error loading stopwords: <urlopen error [Errno 11001]\n",
      "[nltk_data]     getaddrinfo failed>\n"
     ]
    }
   ],
   "source": [
    "#text\n",
    "import nltk\n",
    "nltk.download(\"stopwords\")\n",
    "import string\n",
    "import re\n",
    "import json\n",
    "from bs4 import BeautifulSoup"
   ]
  },
  {
   "cell_type": "code",
   "execution_count": 3,
   "id": "f0176d08",
   "metadata": {},
   "outputs": [],
   "source": [
    "#Data Preprocessing & Markerting\n",
    "from sklearn.model_selection import train_test_split\n",
    "from sklearn.feature_extraction.text import TfidfVectorizer, CountVectorizer"
   ]
  },
  {
   "cell_type": "code",
   "execution_count": 4,
   "id": "267bd5e7",
   "metadata": {},
   "outputs": [],
   "source": [
    "#Machine Learning Libraries\n",
    "from sklearn.naive_bayes import MultinomialNB\n",
    "from sklearn.ensemble import RandomForestClassifier\n",
    "from sklearn.linear_model import LogisticRegression"
   ]
  },
  {
   "cell_type": "code",
   "execution_count": 5,
   "id": "eed4c351",
   "metadata": {},
   "outputs": [],
   "source": [
    "#Importing evaluation metrics\n",
    "from sklearn.metrics import log_loss, accuracy_score, f1_score, confusion_matrix, classification_report"
   ]
  },
  {
   "cell_type": "code",
   "execution_count": 6,
   "id": "bbe05f2c",
   "metadata": {},
   "outputs": [],
   "source": [
    "#Deployment module\n",
    "import streamlit as st\n",
    "import pickle\n",
    "import joblib\n",
    "from joblib import dump"
   ]
  },
  {
   "cell_type": "code",
   "execution_count": 7,
   "id": "264e031c",
   "metadata": {},
   "outputs": [
    {
     "data": {
      "text/html": [
       "<div>\n",
       "<style scoped>\n",
       "    .dataframe tbody tr th:only-of-type {\n",
       "        vertical-align: middle;\n",
       "    }\n",
       "\n",
       "    .dataframe tbody tr th {\n",
       "        vertical-align: top;\n",
       "    }\n",
       "\n",
       "    .dataframe thead th {\n",
       "        text-align: right;\n",
       "    }\n",
       "</style>\n",
       "<table border=\"1\" class=\"dataframe\">\n",
       "  <thead>\n",
       "    <tr style=\"text-align: right;\">\n",
       "      <th></th>\n",
       "      <th>TaskId</th>\n",
       "      <th>User_Search_Term</th>\n",
       "      <th>Ad</th>\n",
       "      <th>Website</th>\n",
       "      <th>Relevance</th>\n",
       "    </tr>\n",
       "  </thead>\n",
       "  <tbody>\n",
       "    <tr>\n",
       "      <th>0</th>\n",
       "      <td>1</td>\n",
       "      <td>wwww ncquickpass com</td>\n",
       "      <td>Nc Quick Pass - Pay Your Bill Online</td>\n",
       "      <td>www.doxo.com/pay/nc-quick-pass</td>\n",
       "      <td>Other</td>\n",
       "    </tr>\n",
       "    <tr>\n",
       "      <th>1</th>\n",
       "      <td>2</td>\n",
       "      <td>peloton plano tx</td>\n",
       "      <td>Studio Cycle Comparison - Find The Best Exerci...</td>\n",
       "      <td>www.nordictrack.com/Studio-Cycles/S22i</td>\n",
       "      <td>Other</td>\n",
       "    </tr>\n",
       "    <tr>\n",
       "      <th>2</th>\n",
       "      <td>3</td>\n",
       "      <td>antelope canyon</td>\n",
       "      <td>Hotels near Antelope Canyon - 100% Real Custom...</td>\n",
       "      <td>www.booking.com/Antelope-Canyon/Hotels</td>\n",
       "      <td>Other</td>\n",
       "    </tr>\n",
       "    <tr>\n",
       "      <th>3</th>\n",
       "      <td>4</td>\n",
       "      <td>get vaccine after covid</td>\n",
       "      <td>Janssen COVID-19 Vaccine - Authorized For Emer...</td>\n",
       "      <td>www.janssencovid19vaccine.com</td>\n",
       "      <td>Other</td>\n",
       "    </tr>\n",
       "    <tr>\n",
       "      <th>4</th>\n",
       "      <td>5</td>\n",
       "      <td>ahs.com/my-accountlogin</td>\n",
       "      <td>Find First american home warranty login - Chec...</td>\n",
       "      <td>www.searchandshopping.org/Your Search/Results</td>\n",
       "      <td>Other</td>\n",
       "    </tr>\n",
       "    <tr>\n",
       "      <th>...</th>\n",
       "      <td>...</td>\n",
       "      <td>...</td>\n",
       "      <td>...</td>\n",
       "      <td>...</td>\n",
       "      <td>...</td>\n",
       "    </tr>\n",
       "    <tr>\n",
       "      <th>971</th>\n",
       "      <td>972</td>\n",
       "      <td>keto recipes when using balsamic vinaigrette</td>\n",
       "      <td>Keto Recipes - Easy Keto Cooking Ideas - Easy ...</td>\n",
       "      <td>www.diggsopp/keto/recipes</td>\n",
       "      <td>Good</td>\n",
       "    </tr>\n",
       "    <tr>\n",
       "      <th>972</th>\n",
       "      <td>973</td>\n",
       "      <td>for sale by owner tionesta pa</td>\n",
       "      <td>All Tionesta Lots for Sale - Land in Tionesta, PA</td>\n",
       "      <td>homes.com</td>\n",
       "      <td>Good</td>\n",
       "    </tr>\n",
       "    <tr>\n",
       "      <th>973</th>\n",
       "      <td>974</td>\n",
       "      <td>top ten mba programs</td>\n",
       "      <td>Online Master in Software Dev. - Boston Univer...</td>\n",
       "      <td>bumetprograms.bu.edu/MS_Software/Development</td>\n",
       "      <td>Other</td>\n",
       "    </tr>\n",
       "    <tr>\n",
       "      <th>974</th>\n",
       "      <td>975</td>\n",
       "      <td>kindle app</td>\n",
       "      <td>Kindle app - Amazon Kindle App - Free Android ...</td>\n",
       "      <td>www.appconner.com/free-app/kindle</td>\n",
       "      <td>Good</td>\n",
       "    </tr>\n",
       "    <tr>\n",
       "      <th>975</th>\n",
       "      <td>976</td>\n",
       "      <td>anthem vision</td>\n",
       "      <td>Anthem HealthKeepers Virginia - Enroll For Hea...</td>\n",
       "      <td>enroll.anthem.com</td>\n",
       "      <td>Good</td>\n",
       "    </tr>\n",
       "  </tbody>\n",
       "</table>\n",
       "<p>976 rows × 5 columns</p>\n",
       "</div>"
      ],
      "text/plain": [
       "     TaskId                              User_Search_Term  \\\n",
       "0         1                          wwww ncquickpass com   \n",
       "1         2                              peloton plano tx   \n",
       "2         3                               antelope canyon   \n",
       "3         4                       get vaccine after covid   \n",
       "4         5                       ahs.com/my-accountlogin   \n",
       "..      ...                                           ...   \n",
       "971     972  keto recipes when using balsamic vinaigrette   \n",
       "972     973                 for sale by owner tionesta pa   \n",
       "973     974                          top ten mba programs   \n",
       "974     975                                    kindle app   \n",
       "975     976                                 anthem vision   \n",
       "\n",
       "                                                    Ad  \\\n",
       "0                 Nc Quick Pass - Pay Your Bill Online   \n",
       "1    Studio Cycle Comparison - Find The Best Exerci...   \n",
       "2    Hotels near Antelope Canyon - 100% Real Custom...   \n",
       "3    Janssen COVID-19 Vaccine - Authorized For Emer...   \n",
       "4    Find First american home warranty login - Chec...   \n",
       "..                                                 ...   \n",
       "971  Keto Recipes - Easy Keto Cooking Ideas - Easy ...   \n",
       "972  All Tionesta Lots for Sale - Land in Tionesta, PA   \n",
       "973  Online Master in Software Dev. - Boston Univer...   \n",
       "974  Kindle app - Amazon Kindle App - Free Android ...   \n",
       "975  Anthem HealthKeepers Virginia - Enroll For Hea...   \n",
       "\n",
       "                                           Website Relevance  \n",
       "0                   www.doxo.com/pay/nc-quick-pass     Other  \n",
       "1           www.nordictrack.com/Studio-Cycles/S22i     Other  \n",
       "2           www.booking.com/Antelope-Canyon/Hotels     Other  \n",
       "3                    www.janssencovid19vaccine.com     Other  \n",
       "4    www.searchandshopping.org/Your Search/Results     Other  \n",
       "..                                             ...       ...  \n",
       "971                      www.diggsopp/keto/recipes      Good  \n",
       "972                                      homes.com      Good  \n",
       "973   bumetprograms.bu.edu/MS_Software/Development     Other  \n",
       "974              www.appconner.com/free-app/kindle      Good  \n",
       "975                              enroll.anthem.com      Good  \n",
       "\n",
       "[976 rows x 5 columns]"
      ]
     },
     "execution_count": 7,
     "metadata": {},
     "output_type": "execute_result"
    }
   ],
   "source": [
    "#Reading in the csv file\n",
    "df = pd.read_csv('E:/data science/MODEL DEPLOYMENT/TAAC/taac_assistant_taac_7.csv')\n",
    "df"
   ]
  },
  {
   "cell_type": "code",
   "execution_count": 8,
   "id": "71eea4a3",
   "metadata": {},
   "outputs": [
    {
     "data": {
      "text/html": [
       "<div>\n",
       "<style scoped>\n",
       "    .dataframe tbody tr th:only-of-type {\n",
       "        vertical-align: middle;\n",
       "    }\n",
       "\n",
       "    .dataframe tbody tr th {\n",
       "        vertical-align: top;\n",
       "    }\n",
       "\n",
       "    .dataframe thead th {\n",
       "        text-align: right;\n",
       "    }\n",
       "</style>\n",
       "<table border=\"1\" class=\"dataframe\">\n",
       "  <thead>\n",
       "    <tr style=\"text-align: right;\">\n",
       "      <th></th>\n",
       "      <th>TaskId</th>\n",
       "      <th>User_Search_Term</th>\n",
       "      <th>Ad</th>\n",
       "      <th>Website</th>\n",
       "      <th>Relevance</th>\n",
       "    </tr>\n",
       "  </thead>\n",
       "  <tbody>\n",
       "    <tr>\n",
       "      <th>0</th>\n",
       "      <td>1</td>\n",
       "      <td>wwww ncquickpass com</td>\n",
       "      <td>Nc Quick Pass - Pay Your Bill Online</td>\n",
       "      <td>www.doxo.com/pay/nc-quick-pass</td>\n",
       "      <td>0</td>\n",
       "    </tr>\n",
       "    <tr>\n",
       "      <th>1</th>\n",
       "      <td>2</td>\n",
       "      <td>peloton plano tx</td>\n",
       "      <td>Studio Cycle Comparison - Find The Best Exerci...</td>\n",
       "      <td>www.nordictrack.com/Studio-Cycles/S22i</td>\n",
       "      <td>0</td>\n",
       "    </tr>\n",
       "    <tr>\n",
       "      <th>2</th>\n",
       "      <td>3</td>\n",
       "      <td>antelope canyon</td>\n",
       "      <td>Hotels near Antelope Canyon - 100% Real Custom...</td>\n",
       "      <td>www.booking.com/Antelope-Canyon/Hotels</td>\n",
       "      <td>0</td>\n",
       "    </tr>\n",
       "    <tr>\n",
       "      <th>3</th>\n",
       "      <td>4</td>\n",
       "      <td>get vaccine after covid</td>\n",
       "      <td>Janssen COVID-19 Vaccine - Authorized For Emer...</td>\n",
       "      <td>www.janssencovid19vaccine.com</td>\n",
       "      <td>0</td>\n",
       "    </tr>\n",
       "    <tr>\n",
       "      <th>4</th>\n",
       "      <td>5</td>\n",
       "      <td>ahs.com/my-accountlogin</td>\n",
       "      <td>Find First american home warranty login - Chec...</td>\n",
       "      <td>www.searchandshopping.org/Your Search/Results</td>\n",
       "      <td>0</td>\n",
       "    </tr>\n",
       "    <tr>\n",
       "      <th>5</th>\n",
       "      <td>6</td>\n",
       "      <td>nike</td>\n",
       "      <td>Shop Womens Shops: Amazon - Amazon.com Officia...</td>\n",
       "      <td>www.amazon.com/apparel/womens-shops</td>\n",
       "      <td>1</td>\n",
       "    </tr>\n",
       "    <tr>\n",
       "      <th>6</th>\n",
       "      <td>7</td>\n",
       "      <td>cfl fixture</td>\n",
       "      <td>Flashlight Accessories</td>\n",
       "      <td>www.Grainfer.com/Flashlights</td>\n",
       "      <td>0</td>\n",
       "    </tr>\n",
       "    <tr>\n",
       "      <th>7</th>\n",
       "      <td>8</td>\n",
       "      <td>nationwide pet insurance</td>\n",
       "      <td>2021's Top 10 Pet Insurance - Buyer's Guide (N...</td>\n",
       "      <td>buyersguide.org/Pet-Insurance</td>\n",
       "      <td>1</td>\n",
       "    </tr>\n",
       "    <tr>\n",
       "      <th>8</th>\n",
       "      <td>9</td>\n",
       "      <td>nike</td>\n",
       "      <td>Nike Official Site - Just Do It - Shop The Lat...</td>\n",
       "      <td>www.nike.com</td>\n",
       "      <td>1</td>\n",
       "    </tr>\n",
       "    <tr>\n",
       "      <th>9</th>\n",
       "      <td>10</td>\n",
       "      <td>used cars</td>\n",
       "      <td>CarMax Used Cars - Visit carmax.com - Large Na...</td>\n",
       "      <td>www.carmax.com/cars</td>\n",
       "      <td>1</td>\n",
       "    </tr>\n",
       "  </tbody>\n",
       "</table>\n",
       "</div>"
      ],
      "text/plain": [
       "   TaskId          User_Search_Term  \\\n",
       "0       1      wwww ncquickpass com   \n",
       "1       2          peloton plano tx   \n",
       "2       3           antelope canyon   \n",
       "3       4   get vaccine after covid   \n",
       "4       5   ahs.com/my-accountlogin   \n",
       "5       6                      nike   \n",
       "6       7               cfl fixture   \n",
       "7       8  nationwide pet insurance   \n",
       "8       9                      nike   \n",
       "9      10                 used cars   \n",
       "\n",
       "                                                  Ad  \\\n",
       "0               Nc Quick Pass - Pay Your Bill Online   \n",
       "1  Studio Cycle Comparison - Find The Best Exerci...   \n",
       "2  Hotels near Antelope Canyon - 100% Real Custom...   \n",
       "3  Janssen COVID-19 Vaccine - Authorized For Emer...   \n",
       "4  Find First american home warranty login - Chec...   \n",
       "5  Shop Womens Shops: Amazon - Amazon.com Officia...   \n",
       "6                             Flashlight Accessories   \n",
       "7  2021's Top 10 Pet Insurance - Buyer's Guide (N...   \n",
       "8  Nike Official Site - Just Do It - Shop The Lat...   \n",
       "9  CarMax Used Cars - Visit carmax.com - Large Na...   \n",
       "\n",
       "                                         Website  Relevance  \n",
       "0                 www.doxo.com/pay/nc-quick-pass          0  \n",
       "1         www.nordictrack.com/Studio-Cycles/S22i          0  \n",
       "2         www.booking.com/Antelope-Canyon/Hotels          0  \n",
       "3                  www.janssencovid19vaccine.com          0  \n",
       "4  www.searchandshopping.org/Your Search/Results          0  \n",
       "5            www.amazon.com/apparel/womens-shops          1  \n",
       "6                   www.Grainfer.com/Flashlights          0  \n",
       "7                  buyersguide.org/Pet-Insurance          1  \n",
       "8                                   www.nike.com          1  \n",
       "9                            www.carmax.com/cars          1  "
      ]
     },
     "execution_count": 8,
     "metadata": {},
     "output_type": "execute_result"
    }
   ],
   "source": [
    "#We can transform the Relevance column into our target varable\n",
    "\n",
    "mapping = {\n",
    "    'Good' : 1,\n",
    "    'Other' : 0,\n",
    "}\n",
    "df['Relevance'] = df['Relevance'].replace(mapping)\n",
    "df.head(10)"
   ]
  },
  {
   "cell_type": "code",
   "execution_count": 9,
   "id": "bac52730",
   "metadata": {},
   "outputs": [
    {
     "data": {
      "text/plain": [
       "<AxesSubplot:>"
      ]
     },
     "execution_count": 9,
     "metadata": {},
     "output_type": "execute_result"
    },
    {
     "data": {
      "image/png": "[encoded data removed]",
      "text/plain": [
       "<Figure size 432x288 with 1 Axes>"
      ]
     },
     "metadata": {
      "needs_background": "light"
     },
     "output_type": "display_data"
    }
   ],
   "source": [
    "#Doing a visualization to check the overall distribution of the scores\n",
    "df[\"Relevance\"].value_counts().plot(kind = 'barh')"
   ]
  },
  {
   "cell_type": "code",
   "execution_count": 10,
   "id": "75d52ed1",
   "metadata": {},
   "outputs": [
    {
     "name": "stderr",
     "output_type": "stream",
     "text": [
      "2023-11-15 09:18:08.927 INFO    numexpr.utils: NumExpr defaulting to 8 threads.\n"
     ]
    }
   ],
   "source": [
    "# Combine the three feature columns into one, separated by a space\n",
    "df['Search_Term_Ad_Website'] = df['User_Search_Term'] + ' ' + df['Ad'] + ' ' + df['Website']\n",
    "\n",
    "# Drop the individual feature columns if needed\n",
    "df = df.drop(['User_Search_Term', 'Ad', 'Website'], axis=1)\n",
    "\n",
    "# Now, 'combined_features' will contain the combined text from the three columns\n"
   ]
  },
  {
   "cell_type": "code",
   "execution_count": 11,
   "id": "12109f38",
   "metadata": {},
   "outputs": [
    {
     "data": {
      "text/html": [
       "<div>\n",
       "<style scoped>\n",
       "    .dataframe tbody tr th:only-of-type {\n",
       "        vertical-align: middle;\n",
       "    }\n",
       "\n",
       "    .dataframe tbody tr th {\n",
       "        vertical-align: top;\n",
       "    }\n",
       "\n",
       "    .dataframe thead th {\n",
       "        text-align: right;\n",
       "    }\n",
       "</style>\n",
       "<table border=\"1\" class=\"dataframe\">\n",
       "  <thead>\n",
       "    <tr style=\"text-align: right;\">\n",
       "      <th></th>\n",
       "      <th>TaskId</th>\n",
       "      <th>Relevance</th>\n",
       "      <th>Search_Term_Ad_Website</th>\n",
       "    </tr>\n",
       "  </thead>\n",
       "  <tbody>\n",
       "    <tr>\n",
       "      <th>0</th>\n",
       "      <td>1</td>\n",
       "      <td>0</td>\n",
       "      <td>wwww ncquickpass com Nc Quick Pass - Pay Your ...</td>\n",
       "    </tr>\n",
       "    <tr>\n",
       "      <th>1</th>\n",
       "      <td>2</td>\n",
       "      <td>0</td>\n",
       "      <td>peloton plano tx Studio Cycle Comparison - Fin...</td>\n",
       "    </tr>\n",
       "    <tr>\n",
       "      <th>2</th>\n",
       "      <td>3</td>\n",
       "      <td>0</td>\n",
       "      <td>antelope canyon Hotels near Antelope Canyon - ...</td>\n",
       "    </tr>\n",
       "    <tr>\n",
       "      <th>3</th>\n",
       "      <td>4</td>\n",
       "      <td>0</td>\n",
       "      <td>get vaccine after covid Janssen COVID-19 Vacci...</td>\n",
       "    </tr>\n",
       "    <tr>\n",
       "      <th>4</th>\n",
       "      <td>5</td>\n",
       "      <td>0</td>\n",
       "      <td>ahs.com/my-accountlogin Find First american ho...</td>\n",
       "    </tr>\n",
       "  </tbody>\n",
       "</table>\n",
       "</div>"
      ],
      "text/plain": [
       "   TaskId  Relevance                             Search_Term_Ad_Website\n",
       "0       1          0  wwww ncquickpass com Nc Quick Pass - Pay Your ...\n",
       "1       2          0  peloton plano tx Studio Cycle Comparison - Fin...\n",
       "2       3          0  antelope canyon Hotels near Antelope Canyon - ...\n",
       "3       4          0  get vaccine after covid Janssen COVID-19 Vacci...\n",
       "4       5          0  ahs.com/my-accountlogin Find First american ho..."
      ]
     },
     "execution_count": 11,
     "metadata": {},
     "output_type": "execute_result"
    }
   ],
   "source": [
    "#Reading in the combined features dataset\n",
    "df.head(5)"
   ]
  },
  {
   "cell_type": "code",
   "execution_count": 12,
   "id": "09fd79a0",
   "metadata": {},
   "outputs": [
    {
     "data": {
      "text/html": [
       "<div>\n",
       "<style scoped>\n",
       "    .dataframe tbody tr th:only-of-type {\n",
       "        vertical-align: middle;\n",
       "    }\n",
       "\n",
       "    .dataframe tbody tr th {\n",
       "        vertical-align: top;\n",
       "    }\n",
       "\n",
       "    .dataframe thead th {\n",
       "        text-align: right;\n",
       "    }\n",
       "</style>\n",
       "<table border=\"1\" class=\"dataframe\">\n",
       "  <thead>\n",
       "    <tr style=\"text-align: right;\">\n",
       "      <th></th>\n",
       "      <th>Relevance</th>\n",
       "      <th>Search_Term_Ad_Website</th>\n",
       "    </tr>\n",
       "  </thead>\n",
       "  <tbody>\n",
       "    <tr>\n",
       "      <th>0</th>\n",
       "      <td>0</td>\n",
       "      <td>wwww ncquickpass com Nc Quick Pass - Pay Your ...</td>\n",
       "    </tr>\n",
       "    <tr>\n",
       "      <th>1</th>\n",
       "      <td>0</td>\n",
       "      <td>peloton plano tx Studio Cycle Comparison - Fin...</td>\n",
       "    </tr>\n",
       "    <tr>\n",
       "      <th>2</th>\n",
       "      <td>0</td>\n",
       "      <td>antelope canyon Hotels near Antelope Canyon - ...</td>\n",
       "    </tr>\n",
       "    <tr>\n",
       "      <th>3</th>\n",
       "      <td>0</td>\n",
       "      <td>get vaccine after covid Janssen COVID-19 Vacci...</td>\n",
       "    </tr>\n",
       "    <tr>\n",
       "      <th>4</th>\n",
       "      <td>0</td>\n",
       "      <td>ahs.com/my-accountlogin Find First american ho...</td>\n",
       "    </tr>\n",
       "  </tbody>\n",
       "</table>\n",
       "</div>"
      ],
      "text/plain": [
       "   Relevance                             Search_Term_Ad_Website\n",
       "0          0  wwww ncquickpass com Nc Quick Pass - Pay Your ...\n",
       "1          0  peloton plano tx Studio Cycle Comparison - Fin...\n",
       "2          0  antelope canyon Hotels near Antelope Canyon - ...\n",
       "3          0  get vaccine after covid Janssen COVID-19 Vacci...\n",
       "4          0  ahs.com/my-accountlogin Find First american ho..."
      ]
     },
     "execution_count": 12,
     "metadata": {},
     "output_type": "execute_result"
    }
   ],
   "source": [
    "new_df = df.drop(columns = ['TaskId'])\n",
    "new_df.head()"
   ]
  },
  {
   "cell_type": "code",
   "execution_count": 13,
   "id": "bdb411b4",
   "metadata": {},
   "outputs": [],
   "source": [
    "#We want to preprocess/clean this text first to remove things like punctuation symbols & ensure that our summary\n",
    "#text is in lower case\n",
    "\n",
    "space_replace = re.compile('[/(){}\\[\\]\\|@,;)]')"
   ]
  },
  {
   "cell_type": "code",
   "execution_count": 14,
   "id": "5fe33027",
   "metadata": {},
   "outputs": [],
   "source": [
    "#Replace all parts where we have punctuation marks with an empty space\n",
    "bad_symbols = re.compile('[^0-9a-z #+_]')"
   ]
  },
  {
   "cell_type": "code",
   "execution_count": 15,
   "id": "bc83af52",
   "metadata": {},
   "outputs": [],
   "source": [
    "stopwords = nltk.corpus.stopwords.words('english')"
   ]
  },
  {
   "cell_type": "code",
   "execution_count": 16,
   "id": "eaac1775",
   "metadata": {},
   "outputs": [],
   "source": [
    "#remove url links from text\n",
    "urls = re.compile('http[s]?://(?:[a-zA-Z]|[0-9]|[$-_@.&+]|''[!*\\(\\),]|(?:%[0-9a-fA-F][0-9a-fA-F]))+' 'rt')"
   ]
  },
  {
   "cell_type": "code",
   "execution_count": 17,
   "id": "19109645",
   "metadata": {},
   "outputs": [],
   "source": [
    "def text_cleaning(text):\n",
    "    text = BeautifulSoup(text, \"lxml\").text\n",
    "    #Removing any html decoding <?>\n",
    "    text = text.lower()\n",
    "    text = space_replace.sub(' ', text)\n",
    "    #replacing symbols with a space\n",
    "    text = bad_symbols.sub('',text)\n",
    "    #Deleting symbols from text\n",
    "    text = ' '.join(word for word in text.split() if word not in stopwords)\n",
    "    #Removing stopwords \n",
    "    text = urls.sub('', text) \n",
    "    return text"
   ]
  },
  {
   "cell_type": "code",
   "execution_count": 18,
   "id": "f1f22fa1",
   "metadata": {},
   "outputs": [
    {
     "data": {
      "text/html": [
       "<div>\n",
       "<style scoped>\n",
       "    .dataframe tbody tr th:only-of-type {\n",
       "        vertical-align: middle;\n",
       "    }\n",
       "\n",
       "    .dataframe tbody tr th {\n",
       "        vertical-align: top;\n",
       "    }\n",
       "\n",
       "    .dataframe thead th {\n",
       "        text-align: right;\n",
       "    }\n",
       "</style>\n",
       "<table border=\"1\" class=\"dataframe\">\n",
       "  <thead>\n",
       "    <tr style=\"text-align: right;\">\n",
       "      <th></th>\n",
       "      <th>Relevance</th>\n",
       "      <th>Search_Term_Ad_Website</th>\n",
       "    </tr>\n",
       "  </thead>\n",
       "  <tbody>\n",
       "    <tr>\n",
       "      <th>0</th>\n",
       "      <td>0</td>\n",
       "      <td>wwww ncquickpass com nc quick pass pay bill on...</td>\n",
       "    </tr>\n",
       "    <tr>\n",
       "      <th>1</th>\n",
       "      <td>0</td>\n",
       "      <td>peloton plano tx studio cycle comparison find ...</td>\n",
       "    </tr>\n",
       "    <tr>\n",
       "      <th>2</th>\n",
       "      <td>0</td>\n",
       "      <td>antelope canyon hotels near antelope canyon 10...</td>\n",
       "    </tr>\n",
       "    <tr>\n",
       "      <th>3</th>\n",
       "      <td>0</td>\n",
       "      <td>get vaccine covid janssen covid19 vaccine auth...</td>\n",
       "    </tr>\n",
       "    <tr>\n",
       "      <th>4</th>\n",
       "      <td>0</td>\n",
       "      <td>ahscom myaccountlogin find first american home...</td>\n",
       "    </tr>\n",
       "  </tbody>\n",
       "</table>\n",
       "</div>"
      ],
      "text/plain": [
       "   Relevance                             Search_Term_Ad_Website\n",
       "0          0  wwww ncquickpass com nc quick pass pay bill on...\n",
       "1          0  peloton plano tx studio cycle comparison find ...\n",
       "2          0  antelope canyon hotels near antelope canyon 10...\n",
       "3          0  get vaccine covid janssen covid19 vaccine auth...\n",
       "4          0  ahscom myaccountlogin find first american home..."
      ]
     },
     "execution_count": 18,
     "metadata": {},
     "output_type": "execute_result"
    }
   ],
   "source": [
    "#applying our text cleaning function to our dataset\n",
    "new_df['Search_Term_Ad_Website'] = new_df['Search_Term_Ad_Website'].apply(text_cleaning)\n",
    "new_df.head()"
   ]
  },
  {
   "cell_type": "code",
   "execution_count": 19,
   "id": "12c2e84c",
   "metadata": {},
   "outputs": [],
   "source": [
    "#Now cleaning the text\n",
    "def preprocessor(text):\n",
    "    text = re.sub('<[^>]*>','', text)  #effectively removes html tags\n",
    "    emoticons = re.findall('(?::|:|=)(?:-)?(?:\\)|\\(D|P)', text)\n",
    "    text = re.sub('[\\W]+','', text.lower() + ''.join(emoticons).replace('-',''))\n",
    "    return text"
   ]
  },
  {
   "cell_type": "code",
   "execution_count": 20,
   "id": "0832beee",
   "metadata": {},
   "outputs": [],
   "source": [
    "#Split our data\n",
    "x = new_df['Search_Term_Ad_Website']\n",
    "y = new_df['Relevance']"
   ]
  },
  {
   "cell_type": "code",
   "execution_count": 21,
   "id": "2403e595",
   "metadata": {},
   "outputs": [],
   "source": [
    "#Splitting the data for training\n",
    "x_train, x_test, y_train, y_test = train_test_split(x, y, test_size = 0.3, random_state = 42)"
   ]
  },
  {
   "cell_type": "code",
   "execution_count": 22,
   "id": "a276f33a",
   "metadata": {},
   "outputs": [
    {
     "data": {
      "text/plain": [
       "603    1\n",
       "568    1\n",
       "Name: Relevance, dtype: int64"
      ]
     },
     "execution_count": 22,
     "metadata": {},
     "output_type": "execute_result"
    }
   ],
   "source": [
    "y_train.head(2)"
   ]
  },
  {
   "cell_type": "markdown",
   "id": "20e49ba1",
   "metadata": {},
   "source": [
    "DATA TRANSFORMATION"
   ]
  },
  {
   "cell_type": "code",
   "execution_count": 23,
   "id": "a51317a5",
   "metadata": {},
   "outputs": [],
   "source": [
    "from sklearn.pipeline import Pipeline\n",
    "from sklearn.linear_model import LogisticRegression\n",
    "from sklearn.feature_extraction.text import TfidfVectorizer, CountVectorizer\n",
    "from sklearn.metrics import accuracy_score, classification_report\n",
    "from sklearn.naive_bayes import MultinomialNB\n",
    "from sklearn.model_selection import cross_val_score"
   ]
  },
  {
   "cell_type": "code",
   "execution_count": 24,
   "id": "2e22f474",
   "metadata": {},
   "outputs": [],
   "source": [
    "#Transforming  the text to vector (numerical form) then fed to our model"
   ]
  },
  {
   "cell_type": "code",
   "execution_count": 25,
   "id": "a699b2aa",
   "metadata": {},
   "outputs": [],
   "source": [
    "count_vect = CountVectorizer()\n",
    "tfidf_vect = TfidfVectorizer()"
   ]
  },
  {
   "cell_type": "code",
   "execution_count": 26,
   "id": "c6c7e3f4",
   "metadata": {},
   "outputs": [],
   "source": [
    "#We now need to transform our x_train and y_train so they are transformed \n",
    "#from text data to vectors"
   ]
  },
  {
   "cell_type": "code",
   "execution_count": 27,
   "id": "ba08f947",
   "metadata": {},
   "outputs": [],
   "source": [
    "#we will compare the performance of the 2 models"
   ]
  },
  {
   "cell_type": "code",
   "execution_count": 28,
   "id": "a7996b68",
   "metadata": {},
   "outputs": [],
   "source": [
    "x_train_cv = count_vect.fit_transform(x_train)\n",
    "x_test_cv = count_vect.transform(x_test)"
   ]
  },
  {
   "cell_type": "code",
   "execution_count": 29,
   "id": "40606a52",
   "metadata": {},
   "outputs": [],
   "source": [
    "x_train_tfidf = tfidf_vect.fit_transform(x_train)\n",
    "x_test_tfidf = tfidf_vect.transform(x_train)"
   ]
  },
  {
   "cell_type": "code",
   "execution_count": 30,
   "id": "05cca728",
   "metadata": {},
   "outputs": [],
   "source": [
    "#For test, we use only transform\n",
    "#For train, we use fit_transform"
   ]
  },
  {
   "cell_type": "code",
   "execution_count": 31,
   "id": "a6282f30",
   "metadata": {},
   "outputs": [
    {
     "name": "stdout",
     "output_type": "stream",
     "text": [
      "x_train: 603    tinnitus ear protection ears ringing treatment...\n",
      "568    hilton related hotels scraton wilks barre area...\n",
      "859    springhill suites coeur alene idaho springhhil...\n",
      "422    bread savings bank reviews best online bank ac...\n",
      "901    fortiva credit card pre approved apply card of...\n",
      "Name: Search_Term_Ad_Website, dtype: object\n",
      "y_train: 603    1\n",
      "568    1\n",
      "859    1\n",
      "422    1\n",
      "901    0\n",
      "Name: Relevance, dtype: int64\n"
     ]
    }
   ],
   "source": [
    "# Print the first few rows of x_train and y_train\n",
    "print(\"x_train:\", x_train.head())\n",
    "print(\"y_train:\", y_train.head())"
   ]
  },
  {
   "cell_type": "code",
   "execution_count": 32,
   "id": "0da5d1bd",
   "metadata": {},
   "outputs": [
    {
     "data": {
      "text/plain": [
       "603    1\n",
       "568    1\n",
       "859    1\n",
       "422    1\n",
       "901    0\n",
       "Name: Relevance, dtype: int64"
      ]
     },
     "execution_count": 32,
     "metadata": {},
     "output_type": "execute_result"
    }
   ],
   "source": [
    "y_train.head()"
   ]
  },
  {
   "cell_type": "code",
   "execution_count": 33,
   "id": "03d8d316",
   "metadata": {},
   "outputs": [
    {
     "data": {
      "text/plain": [
       "603    tinnitus ear protection ears ringing treatment...\n",
       "568    hilton related hotels scraton wilks barre area...\n",
       "859    springhill suites coeur alene idaho springhhil...\n",
       "422    bread savings bank reviews best online bank ac...\n",
       "901    fortiva credit card pre approved apply card of...\n",
       "Name: Search_Term_Ad_Website, dtype: object"
      ]
     },
     "execution_count": 33,
     "metadata": {},
     "output_type": "execute_result"
    }
   ],
   "source": [
    "x_train.head()"
   ]
  },
  {
   "cell_type": "code",
   "execution_count": 34,
   "id": "d5c923f7",
   "metadata": {},
   "outputs": [
    {
     "data": {
      "text/plain": [
       "(683,)"
      ]
     },
     "execution_count": 34,
     "metadata": {},
     "output_type": "execute_result"
    }
   ],
   "source": [
    "#Shape of train data\n",
    "y_train.shape"
   ]
  },
  {
   "cell_type": "code",
   "execution_count": 35,
   "id": "11ba1438",
   "metadata": {},
   "outputs": [
    {
     "data": {
      "text/plain": [
       "(683,)"
      ]
     },
     "execution_count": 35,
     "metadata": {},
     "output_type": "execute_result"
    }
   ],
   "source": [
    "#Shape of train data\n",
    "x_train.shape"
   ]
  },
  {
   "cell_type": "code",
   "execution_count": 36,
   "id": "8fa09736",
   "metadata": {},
   "outputs": [
    {
     "data": {
      "text/plain": [
       "(683, 3716)"
      ]
     },
     "execution_count": 36,
     "metadata": {},
     "output_type": "execute_result"
    }
   ],
   "source": [
    "x_train_cv.shape"
   ]
  },
  {
   "cell_type": "code",
   "execution_count": 37,
   "id": "aa2a22dd",
   "metadata": {},
   "outputs": [
    {
     "data": {
      "text/plain": [
       "(683, 3716)"
      ]
     },
     "execution_count": 37,
     "metadata": {},
     "output_type": "execute_result"
    }
   ],
   "source": [
    "x_train_tfidf.shape"
   ]
  },
  {
   "cell_type": "markdown",
   "id": "cf01fac3",
   "metadata": {},
   "source": [
    "MODELLING"
   ]
  },
  {
   "cell_type": "code",
   "execution_count": 38,
   "id": "9530aaa6",
   "metadata": {},
   "outputs": [],
   "source": [
    "multinomial_nb = MultinomialNB()\n",
    "multinomial_nb.fit(x_train_cv, y_train)\n",
    "predictions_cv = multinomial_nb.predict(x_test_cv)\n",
    "score_cv = accuracy_score(predictions_cv, y_test)"
   ]
  },
  {
   "cell_type": "code",
   "execution_count": 39,
   "id": "0d3ff394",
   "metadata": {},
   "outputs": [],
   "source": [
    "logistic_rgr = LogisticRegression()\n",
    "logistic_rgr.fit(x_train_cv, y_train)\n",
    "predictions_cv_rgr = logistic_rgr.predict(x_test_cv)\n",
    "score_cv_rgr = accuracy_score(predictions_cv_rgr, y_test)"
   ]
  },
  {
   "cell_type": "code",
   "execution_count": 40,
   "id": "709338c2",
   "metadata": {},
   "outputs": [],
   "source": [
    "random_fr = RandomForestClassifier()\n",
    "random_fr.fit(x_train_cv, y_train)\n",
    "predictions_cv_fr = random_fr.predict(x_test_cv)\n",
    "score_cv_fr = accuracy_score(predictions_cv_fr, y_test)"
   ]
  },
  {
   "cell_type": "code",
   "execution_count": 41,
   "id": "1bccc3b2",
   "metadata": {},
   "outputs": [
    {
     "data": {
      "text/plain": [
       "0.6416666666666667"
      ]
     },
     "execution_count": 41,
     "metadata": {},
     "output_type": "execute_result"
    }
   ],
   "source": [
    "score_cv"
   ]
  },
  {
   "cell_type": "code",
   "execution_count": 42,
   "id": "1949b62c",
   "metadata": {},
   "outputs": [
    {
     "data": {
      "text/plain": [
       "0.6791666666666667"
      ]
     },
     "execution_count": 42,
     "metadata": {},
     "output_type": "execute_result"
    }
   ],
   "source": [
    "score_cv_rgr"
   ]
  },
  {
   "cell_type": "code",
   "execution_count": 43,
   "id": "53ed4341",
   "metadata": {},
   "outputs": [
    {
     "data": {
      "text/plain": [
       "0.6833333333333333"
      ]
     },
     "execution_count": 43,
     "metadata": {},
     "output_type": "execute_result"
    }
   ],
   "source": [
    "score_cv_fr"
   ]
  },
  {
   "cell_type": "code",
   "execution_count": 44,
   "id": "ef0c4ccf",
   "metadata": {},
   "outputs": [],
   "source": [
    "y_pred = multinomial_nb.predict(x_test_cv)"
   ]
  },
  {
   "cell_type": "code",
   "execution_count": 45,
   "id": "d2eb843a",
   "metadata": {},
   "outputs": [
    {
     "data": {
      "text/plain": [
       "array([[ 48,  43],\n",
       "       [ 43, 106]], dtype=int64)"
      ]
     },
     "execution_count": 45,
     "metadata": {},
     "output_type": "execute_result"
    }
   ],
   "source": [
    "confusion_matrix(y_test,y_pred)"
   ]
  },
  {
   "cell_type": "code",
   "execution_count": 46,
   "id": "80278650",
   "metadata": {},
   "outputs": [
    {
     "data": {
      "text/plain": [
       "array([1, 1, 1, 0, 1, 1, 0, 0, 0, 0, 0, 0, 1, 1, 0, 1, 1, 1, 1, 1, 0, 1,\n",
       "       0, 1, 0, 1, 1, 1, 1, 1, 1, 1, 1, 1, 1, 1, 1, 1, 1, 0, 0, 1, 0, 0,\n",
       "       1, 1, 1, 1, 1, 1, 1, 1, 1, 1, 0, 0, 0, 0, 1, 1, 1, 0, 1, 1, 0, 1,\n",
       "       1, 0, 0, 1, 1, 0, 1, 1, 1, 1, 1, 1, 1, 1, 1, 0, 1, 1, 1, 1, 0, 1,\n",
       "       1, 0, 1, 0, 1, 1, 1, 0, 1, 1, 0, 1, 0, 0, 1, 1, 1, 1, 1, 1, 1, 1,\n",
       "       1, 1, 1, 1, 1, 1, 0, 0, 0, 1, 0, 1, 0, 1, 0, 0, 1, 0, 0, 1, 1, 1,\n",
       "       0, 1, 0, 1, 0, 0, 1, 1, 1, 0, 1, 0, 1, 1, 0, 0, 1, 0, 1, 1, 1, 1,\n",
       "       1, 1, 0, 1, 0, 0, 0, 0, 0, 0, 1, 0, 1, 1, 1, 0, 0, 1, 0, 0, 1, 0,\n",
       "       1, 1, 0, 1, 0, 1, 1, 0, 1, 0, 1, 1, 1, 1, 0, 0, 0, 1, 1, 0, 0, 0,\n",
       "       1, 1, 0, 1, 0, 0, 0, 0, 1, 1, 1, 1, 0, 1, 0, 0, 1, 1, 1, 0, 1, 1,\n",
       "       1, 0, 0, 0, 1, 0, 0, 1, 1, 1, 1, 0, 1, 0, 1, 0, 1, 1, 0, 1],\n",
       "      dtype=int64)"
      ]
     },
     "execution_count": 46,
     "metadata": {},
     "output_type": "execute_result"
    }
   ],
   "source": [
    "y_pred"
   ]
  },
  {
   "cell_type": "code",
   "execution_count": 47,
   "id": "428a1b91",
   "metadata": {},
   "outputs": [
    {
     "name": "stdout",
     "output_type": "stream",
     "text": [
      "              precision    recall  f1-score   support\n",
      "\n",
      "           0       0.53      0.53      0.53        91\n",
      "           1       0.71      0.71      0.71       149\n",
      "\n",
      "    accuracy                           0.64       240\n",
      "   macro avg       0.62      0.62      0.62       240\n",
      "weighted avg       0.64      0.64      0.64       240\n",
      "\n"
     ]
    }
   ],
   "source": [
    "print(classification_report(y_test,y_pred))"
   ]
  },
  {
   "cell_type": "code",
   "execution_count": 48,
   "id": "7b3f8013",
   "metadata": {},
   "outputs": [
    {
     "data": {
      "text/plain": [
       "array([[ 51,  40],\n",
       "       [ 37, 112]], dtype=int64)"
      ]
     },
     "execution_count": 48,
     "metadata": {},
     "output_type": "execute_result"
    }
   ],
   "source": [
    "y_pred_rgr = logistic_rgr.predict(x_test_cv)\n",
    "confusion_matrix(y_test,y_pred_rgr)"
   ]
  },
  {
   "cell_type": "code",
   "execution_count": 49,
   "id": "fe4938e9",
   "metadata": {},
   "outputs": [
    {
     "name": "stdout",
     "output_type": "stream",
     "text": [
      "              precision    recall  f1-score   support\n",
      "\n",
      "           0       0.58      0.56      0.57        91\n",
      "           1       0.74      0.75      0.74       149\n",
      "\n",
      "    accuracy                           0.68       240\n",
      "   macro avg       0.66      0.66      0.66       240\n",
      "weighted avg       0.68      0.68      0.68       240\n",
      "\n"
     ]
    }
   ],
   "source": [
    "print(classification_report(y_test,y_pred_rgr))"
   ]
  },
  {
   "cell_type": "code",
   "execution_count": 50,
   "id": "6de6cce8",
   "metadata": {},
   "outputs": [
    {
     "data": {
      "text/plain": [
       "array([[ 22,  69],\n",
       "       [  7, 142]], dtype=int64)"
      ]
     },
     "execution_count": 50,
     "metadata": {},
     "output_type": "execute_result"
    }
   ],
   "source": [
    "y_pred_fr = random_fr.predict(x_test_cv)\n",
    "confusion_matrix(y_test,y_pred_fr)"
   ]
  },
  {
   "cell_type": "code",
   "execution_count": 51,
   "id": "875ad236",
   "metadata": {},
   "outputs": [
    {
     "name": "stdout",
     "output_type": "stream",
     "text": [
      "              precision    recall  f1-score   support\n",
      "\n",
      "           0       0.76      0.24      0.37        91\n",
      "           1       0.67      0.95      0.79       149\n",
      "\n",
      "    accuracy                           0.68       240\n",
      "   macro avg       0.72      0.60      0.58       240\n",
      "weighted avg       0.71      0.68      0.63       240\n",
      "\n"
     ]
    }
   ],
   "source": [
    "print(classification_report(y_test,y_pred_fr))"
   ]
  },
  {
   "cell_type": "code",
   "execution_count": 62,
   "id": "1acc1e97",
   "metadata": {},
   "outputs": [
    {
     "name": "stdout",
     "output_type": "stream",
     "text": [
      "Predicted Label: [1]\n"
     ]
    }
   ],
   "source": [
    "def text_cleaning(text):\n",
    "    # Your text cleaning code here\n",
    "    text = BeautifulSoup(text, \"lxml\").text\n",
    "    #Removing any html decoding <?>\n",
    "    text = text.lower()\n",
    "    text = space_replace.sub(' ', text)\n",
    "    #replacing symbols with a space\n",
    "    text = bad_symbols.sub('',text)\n",
    "    #Deleting symbols from text\n",
    "    text = ' '.join(word for word in text.split() if word not in stopwords)\n",
    "    #Removing stopwords \n",
    "    text = urls.sub('', text)\n",
    "    return text\n",
    "\n",
    "def predict_label(model, count_vect, user_search_term, ad, website):\n",
    "    # Combine the text data from the three columns into a single string\n",
    "    combined_text = f\"{user_search_term} {ad} {website}\"\n",
    "\n",
    "    # Clean the combined text\n",
    "    cleaned_text = text_cleaning(combined_text)\n",
    "\n",
    "    # Vectorize the text using the same vectorizer used during training\n",
    "    text_features = count_vect.transform([cleaned_text])\n",
    "\n",
    "    # Make a prediction using the trained model\n",
    "    prediction = model.predict(text_features)\n",
    "\n",
    "    # Return the predicted label\n",
    "    return prediction\n",
    "\n",
    "# Example usage:\n",
    "col1_text = \"wine enthusiast wilamette valley\"\n",
    "col2_text = \"Silver Falls Hike & Wine\"\n",
    "col3_text = \"tripadvisor.com\"\n",
    "\n",
    "predicted_label = predict_label(multinomial_nb, count_vect, col1_text, col2_text, col3_text)\n",
    "print(f\"Predicted Label: {predicted_label}\")\n"
   ]
  },
  {
   "cell_type": "code",
   "execution_count": 63,
   "id": "e9fd73dc",
   "metadata": {},
   "outputs": [
    {
     "name": "stdout",
     "output_type": "stream",
     "text": [
      "Predicted Label: [1]\n"
     ]
    }
   ],
   "source": [
    "predicted_label_rgr = predict_label(logistic_rgr, count_vect, col1_text, col2_text, col3_text)\n",
    "print(f\"Predicted Label: {predicted_label}\")"
   ]
  },
  {
   "cell_type": "code",
   "execution_count": 64,
   "id": "79ac6d10",
   "metadata": {},
   "outputs": [
    {
     "name": "stdout",
     "output_type": "stream",
     "text": [
      "Predicted Label: [1]\n"
     ]
    }
   ],
   "source": [
    "predicted_label_fr = predict_label(random_fr, count_vect, col1_text, col2_text, col3_text)\n",
    "print(f\"Predicted Label: {predicted_label}\")"
   ]
  },
  {
   "cell_type": "code",
   "execution_count": null,
   "id": "efd72e5f",
   "metadata": {},
   "outputs": [],
   "source": []
  }
 ],
 "metadata": {
  "kernelspec": {
   "display_name": "Python 3",
   "language": "python",
   "name": "python3"
  },
  "language_info": {
   "codemirror_mode": {
    "name": "ipython",
    "version": 3
   },
   "file_extension": ".py",
   "mimetype": "text/x-python",
   "name": "python",
   "nbconvert_exporter": "python",
   "pygments_lexer": "ipython3",
   "version": "3.8.8"
  }
 },
 "nbformat": 4,
 "nbformat_minor": 5
}
