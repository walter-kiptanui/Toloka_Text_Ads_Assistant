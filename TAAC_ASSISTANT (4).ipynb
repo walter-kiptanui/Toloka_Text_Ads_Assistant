{
  "cells": [
    {
      "cell_type": "code",
      "execution_count": 1,
      "metadata": {
        "id": "IPbJVQNNLHmx"
      },
      "outputs": [],
      "source": [
        "import pandas as pd"
      ]
    },
    {
      "cell_type": "markdown",
      "source": [
        "## The training data for 'Is the Ad a Good Match to the Search Term' is given. It consists of 15 training instances. That means there are 15 rows. This dataset is small for a machine learning task. However, another dataset will be added during the qualification."
      ],
      "metadata": {
        "id": "JbycNfIGFfLT"
      }
    },
    {
      "cell_type": "code",
      "execution_count": 13,
      "metadata": {
        "id": "sXSZH3y-A-Ir"
      },
      "outputs": [],
      "source": [
        "df= pd.read_csv('taac_assistant_taac_1.csv')"
      ]
    },
    {
      "cell_type": "code",
      "execution_count": null,
      "metadata": {
        "colab": {
          "base_uri": "https://localhost:8080/",
          "height": 320
        },
        "id": "VLEUXm_cBsAx",
        "outputId": "d68d7db3-0622-41a2-805c-eebdfea3eb84"
      },
      "outputs": [
        {
          "output_type": "execute_result",
          "data": {
            "text/plain": [
              "   TaskId         User_Search_Term  \\\n",
              "0       1     wwww ncquickpass com   \n",
              "1       2         peloton plano tx   \n",
              "2       3          antelope canyon   \n",
              "3       4  get vaccine after covid   \n",
              "4       5  ahs.com/my-accountlogin   \n",
              "\n",
              "                                                  Ad  \\\n",
              "0               Nc Quick Pass - Pay Your Bill Online   \n",
              "1  Studio Cycle Comparison - Find The Best Exerci...   \n",
              "2  Hotels near Antelope Canyon - 100% Real Custom...   \n",
              "3  Janssen COVID-19 Vaccine - Authorized For Emer...   \n",
              "4  Find First american home warranty login - Chec...   \n",
              "\n",
              "                                         Website Relevance  \n",
              "0                 www.doxo.com/pay/nc-quick-pass     Other  \n",
              "1         www.nordictrack.com/Studio-Cycles/S22i     Other  \n",
              "2         www.booking.com/Antelope-Canyon/Hotels     Other  \n",
              "3                  www.janssencovid19vaccine.com     Other  \n",
              "4  www.searchandshopping.org/Your Search/Results     Other  "
            ],
            "text/html": [
              "\n",
              "\n",
              "  <div id=\"df-ce7ab203-d3fa-469e-a53c-1b6126114e97\">\n",
              "    <div class=\"colab-df-container\">\n",
              "      <div>\n",
              "<style scoped>\n",
              "    .dataframe tbody tr th:only-of-type {\n",
              "        vertical-align: middle;\n",
              "    }\n",
              "\n",
              "    .dataframe tbody tr th {\n",
              "        vertical-align: top;\n",
              "    }\n",
              "\n",
              "    .dataframe thead th {\n",
              "        text-align: right;\n",
              "    }\n",
              "</style>\n",
              "<table border=\"1\" class=\"dataframe\">\n",
              "  <thead>\n",
              "    <tr style=\"text-align: right;\">\n",
              "      <th></th>\n",
              "      <th>TaskId</th>\n",
              "      <th>User_Search_Term</th>\n",
              "      <th>Ad</th>\n",
              "      <th>Website</th>\n",
              "      <th>Relevance</th>\n",
              "    </tr>\n",
              "  </thead>\n",
              "  <tbody>\n",
              "    <tr>\n",
              "      <th>0</th>\n",
              "      <td>1</td>\n",
              "      <td>wwww ncquickpass com</td>\n",
              "      <td>Nc Quick Pass - Pay Your Bill Online</td>\n",
              "      <td>www.doxo.com/pay/nc-quick-pass</td>\n",
              "      <td>Other</td>\n",
              "    </tr>\n",
              "    <tr>\n",
              "      <th>1</th>\n",
              "      <td>2</td>\n",
              "      <td>peloton plano tx</td>\n",
              "      <td>Studio Cycle Comparison - Find The Best Exerci...</td>\n",
              "      <td>www.nordictrack.com/Studio-Cycles/S22i</td>\n",
              "      <td>Other</td>\n",
              "    </tr>\n",
              "    <tr>\n",
              "      <th>2</th>\n",
              "      <td>3</td>\n",
              "      <td>antelope canyon</td>\n",
              "      <td>Hotels near Antelope Canyon - 100% Real Custom...</td>\n",
              "      <td>www.booking.com/Antelope-Canyon/Hotels</td>\n",
              "      <td>Other</td>\n",
              "    </tr>\n",
              "    <tr>\n",
              "      <th>3</th>\n",
              "      <td>4</td>\n",
              "      <td>get vaccine after covid</td>\n",
              "      <td>Janssen COVID-19 Vaccine - Authorized For Emer...</td>\n",
              "      <td>www.janssencovid19vaccine.com</td>\n",
              "      <td>Other</td>\n",
              "    </tr>\n",
              "    <tr>\n",
              "      <th>4</th>\n",
              "      <td>5</td>\n",
              "      <td>ahs.com/my-accountlogin</td>\n",
              "      <td>Find First american home warranty login - Chec...</td>\n",
              "      <td>www.searchandshopping.org/Your Search/Results</td>\n",
              "      <td>Other</td>\n",
              "    </tr>\n",
              "  </tbody>\n",
              "</table>\n",
              "</div>\n",
              "      <button class=\"colab-df-convert\" onclick=\"convertToInteractive('df-ce7ab203-d3fa-469e-a53c-1b6126114e97')\"\n",
              "              title=\"Convert this dataframe to an interactive table.\"\n",
              "              style=\"display:none;\">\n",
              "\n",
              "  <svg xmlns=\"http://www.w3.org/2000/svg\" height=\"24px\"viewBox=\"0 0 24 24\"\n",
              "       width=\"24px\">\n",
              "    <path d=\"M0 0h24v24H0V0z\" fill=\"none\"/>\n",
              "    <path d=\"M18.56 5.44l.94 2.06.94-2.06 2.06-.94-2.06-.94-.94-2.06-.94 2.06-2.06.94zm-11 1L8.5 8.5l.94-2.06 2.06-.94-2.06-.94L8.5 2.5l-.94 2.06-2.06.94zm10 10l.94 2.06.94-2.06 2.06-.94-2.06-.94-.94-2.06-.94 2.06-2.06.94z\"/><path d=\"M17.41 7.96l-1.37-1.37c-.4-.4-.92-.59-1.43-.59-.52 0-1.04.2-1.43.59L10.3 9.45l-7.72 7.72c-.78.78-.78 2.05 0 2.83L4 21.41c.39.39.9.59 1.41.59.51 0 1.02-.2 1.41-.59l7.78-7.78 2.81-2.81c.8-.78.8-2.07 0-2.86zM5.41 20L4 18.59l7.72-7.72 1.47 1.35L5.41 20z\"/>\n",
              "  </svg>\n",
              "      </button>\n",
              "\n",
              "\n",
              "\n",
              "    <div id=\"df-29ea6889-5b0c-4fad-bc8b-1dcc3b047016\">\n",
              "      <button class=\"colab-df-quickchart\" onclick=\"quickchart('df-29ea6889-5b0c-4fad-bc8b-1dcc3b047016')\"\n",
              "              title=\"Suggest charts.\"\n",
              "              style=\"display:none;\">\n",
              "\n",
              "<svg xmlns=\"http://www.w3.org/2000/svg\" height=\"24px\"viewBox=\"0 0 24 24\"\n",
              "     width=\"24px\">\n",
              "    <g>\n",
              "        <path d=\"M19 3H5c-1.1 0-2 .9-2 2v14c0 1.1.9 2 2 2h14c1.1 0 2-.9 2-2V5c0-1.1-.9-2-2-2zM9 17H7v-7h2v7zm4 0h-2V7h2v10zm4 0h-2v-4h2v4z\"/>\n",
              "    </g>\n",
              "</svg>\n",
              "      </button>\n",
              "    </div>\n",
              "\n",
              "<style>\n",
              "  .colab-df-quickchart {\n",
              "    background-color: #E8F0FE;\n",
              "    border: none;\n",
              "    border-radius: 50%;\n",
              "    cursor: pointer;\n",
              "    display: none;\n",
              "    fill: #1967D2;\n",
              "    height: 32px;\n",
              "    padding: 0 0 0 0;\n",
              "    width: 32px;\n",
              "  }\n",
              "\n",
              "  .colab-df-quickchart:hover {\n",
              "    background-color: #E2EBFA;\n",
              "    box-shadow: 0px 1px 2px rgba(60, 64, 67, 0.3), 0px 1px 3px 1px rgba(60, 64, 67, 0.15);\n",
              "    fill: #174EA6;\n",
              "  }\n",
              "\n",
              "  [theme=dark] .colab-df-quickchart {\n",
              "    background-color: #3B4455;\n",
              "    fill: #D2E3FC;\n",
              "  }\n",
              "\n",
              "  [theme=dark] .colab-df-quickchart:hover {\n",
              "    background-color: #434B5C;\n",
              "    box-shadow: 0px 1px 3px 1px rgba(0, 0, 0, 0.15);\n",
              "    filter: drop-shadow(0px 1px 2px rgba(0, 0, 0, 0.3));\n",
              "    fill: #FFFFFF;\n",
              "  }\n",
              "</style>\n",
              "\n",
              "    <script>\n",
              "      async function quickchart(key) {\n",
              "        const containerElement = document.querySelector('#' + key);\n",
              "        const charts = await google.colab.kernel.invokeFunction(\n",
              "            'suggestCharts', [key], {});\n",
              "      }\n",
              "    </script>\n",
              "\n",
              "      <script>\n",
              "\n",
              "function displayQuickchartButton(domScope) {\n",
              "  let quickchartButtonEl =\n",
              "    domScope.querySelector('#df-29ea6889-5b0c-4fad-bc8b-1dcc3b047016 button.colab-df-quickchart');\n",
              "  quickchartButtonEl.style.display =\n",
              "    google.colab.kernel.accessAllowed ? 'block' : 'none';\n",
              "}\n",
              "\n",
              "        displayQuickchartButton(document);\n",
              "      </script>\n",
              "      <style>\n",
              "    .colab-df-container {\n",
              "      display:flex;\n",
              "      flex-wrap:wrap;\n",
              "      gap: 12px;\n",
              "    }\n",
              "\n",
              "    .colab-df-convert {\n",
              "      background-color: #E8F0FE;\n",
              "      border: none;\n",
              "      border-radius: 50%;\n",
              "      cursor: pointer;\n",
              "      display: none;\n",
              "      fill: #1967D2;\n",
              "      height: 32px;\n",
              "      padding: 0 0 0 0;\n",
              "      width: 32px;\n",
              "    }\n",
              "\n",
              "    .colab-df-convert:hover {\n",
              "      background-color: #E2EBFA;\n",
              "      box-shadow: 0px 1px 2px rgba(60, 64, 67, 0.3), 0px 1px 3px 1px rgba(60, 64, 67, 0.15);\n",
              "      fill: #174EA6;\n",
              "    }\n",
              "\n",
              "    [theme=dark] .colab-df-convert {\n",
              "      background-color: #3B4455;\n",
              "      fill: #D2E3FC;\n",
              "    }\n",
              "\n",
              "    [theme=dark] .colab-df-convert:hover {\n",
              "      background-color: #434B5C;\n",
              "      box-shadow: 0px 1px 3px 1px rgba(0, 0, 0, 0.15);\n",
              "      filter: drop-shadow(0px 1px 2px rgba(0, 0, 0, 0.3));\n",
              "      fill: #FFFFFF;\n",
              "    }\n",
              "  </style>\n",
              "\n",
              "      <script>\n",
              "        const buttonEl =\n",
              "          document.querySelector('#df-ce7ab203-d3fa-469e-a53c-1b6126114e97 button.colab-df-convert');\n",
              "        buttonEl.style.display =\n",
              "          google.colab.kernel.accessAllowed ? 'block' : 'none';\n",
              "\n",
              "        async function convertToInteractive(key) {\n",
              "          const element = document.querySelector('#df-ce7ab203-d3fa-469e-a53c-1b6126114e97');\n",
              "          const dataTable =\n",
              "            await google.colab.kernel.invokeFunction('convertToInteractive',\n",
              "                                                     [key], {});\n",
              "          if (!dataTable) return;\n",
              "\n",
              "          const docLinkHtml = 'Like what you see? Visit the ' +\n",
              "            '<a target=\"_blank\" href=https://colab.research.google.com/notebooks/data_table.ipynb>data table notebook</a>'\n",
              "            + ' to learn more about interactive tables.';\n",
              "          element.innerHTML = '';\n",
              "          dataTable['output_type'] = 'display_data';\n",
              "          await google.colab.output.renderOutput(dataTable, element);\n",
              "          const docLink = document.createElement('div');\n",
              "          docLink.innerHTML = docLinkHtml;\n",
              "          element.appendChild(docLink);\n",
              "        }\n",
              "      </script>\n",
              "    </div>\n",
              "  </div>\n"
            ]
          },
          "metadata": {},
          "execution_count": 3
        }
      ],
      "source": [
        "df.head()"
      ]
    },
    {
      "cell_type": "code",
      "execution_count": 14,
      "metadata": {
        "colab": {
          "base_uri": "https://localhost:8080/",
          "height": 502
        },
        "id": "s2PCQyD6FsIj",
        "outputId": "15c1a1a0-a55d-4449-b7cc-007ed741ba50"
      },
      "outputs": [
        {
          "output_type": "execute_result",
          "data": {
            "text/plain": [
              "   TaskId          User_Search_Term  \\\n",
              "0       1      wwww ncquickpass com   \n",
              "1       2          peloton plano tx   \n",
              "2       3           antelope canyon   \n",
              "3       4   get vaccine after covid   \n",
              "4       5   ahs.com/my-accountlogin   \n",
              "5       6                      nike   \n",
              "6       7               cfl fixture   \n",
              "7       8  nationwide pet insurance   \n",
              "8       9                      nike   \n",
              "9      10                 used cars   \n",
              "\n",
              "                                                  Ad  \\\n",
              "0               Nc Quick Pass - Pay Your Bill Online   \n",
              "1  Studio Cycle Comparison - Find The Best Exerci...   \n",
              "2  Hotels near Antelope Canyon - 100% Real Custom...   \n",
              "3  Janssen COVID-19 Vaccine - Authorized For Emer...   \n",
              "4  Find First american home warranty login - Chec...   \n",
              "5  Shop Womens Shops: Amazon - Amazon.com Officia...   \n",
              "6                             Flashlight Accessories   \n",
              "7  2021's Top 10 Pet Insurance - Buyer's Guide (N...   \n",
              "8  Nike Official Site - Just Do It - Shop The Lat...   \n",
              "9  CarMax Used Cars - Visit carmax.com - Large Na...   \n",
              "\n",
              "                                         Website  Relevance  \n",
              "0                 www.doxo.com/pay/nc-quick-pass          0  \n",
              "1         www.nordictrack.com/Studio-Cycles/S22i          0  \n",
              "2         www.booking.com/Antelope-Canyon/Hotels          0  \n",
              "3                  www.janssencovid19vaccine.com          0  \n",
              "4  www.searchandshopping.org/Your Search/Results          0  \n",
              "5            www.amazon.com/apparel/womens-shops          1  \n",
              "6                   www.Grainfer.com/Flashlights          0  \n",
              "7                  buyersguide.org/Pet-Insurance          1  \n",
              "8                                   www.nike.com          1  \n",
              "9                            www.carmax.com/cars          1  "
            ],
            "text/html": [
              "\n",
              "  <div id=\"df-b4d223b0-c08f-49a8-ad32-e2526200c46e\" class=\"colab-df-container\">\n",
              "    <div>\n",
              "<style scoped>\n",
              "    .dataframe tbody tr th:only-of-type {\n",
              "        vertical-align: middle;\n",
              "    }\n",
              "\n",
              "    .dataframe tbody tr th {\n",
              "        vertical-align: top;\n",
              "    }\n",
              "\n",
              "    .dataframe thead th {\n",
              "        text-align: right;\n",
              "    }\n",
              "</style>\n",
              "<table border=\"1\" class=\"dataframe\">\n",
              "  <thead>\n",
              "    <tr style=\"text-align: right;\">\n",
              "      <th></th>\n",
              "      <th>TaskId</th>\n",
              "      <th>User_Search_Term</th>\n",
              "      <th>Ad</th>\n",
              "      <th>Website</th>\n",
              "      <th>Relevance</th>\n",
              "    </tr>\n",
              "  </thead>\n",
              "  <tbody>\n",
              "    <tr>\n",
              "      <th>0</th>\n",
              "      <td>1</td>\n",
              "      <td>wwww ncquickpass com</td>\n",
              "      <td>Nc Quick Pass - Pay Your Bill Online</td>\n",
              "      <td>www.doxo.com/pay/nc-quick-pass</td>\n",
              "      <td>0</td>\n",
              "    </tr>\n",
              "    <tr>\n",
              "      <th>1</th>\n",
              "      <td>2</td>\n",
              "      <td>peloton plano tx</td>\n",
              "      <td>Studio Cycle Comparison - Find The Best Exerci...</td>\n",
              "      <td>www.nordictrack.com/Studio-Cycles/S22i</td>\n",
              "      <td>0</td>\n",
              "    </tr>\n",
              "    <tr>\n",
              "      <th>2</th>\n",
              "      <td>3</td>\n",
              "      <td>antelope canyon</td>\n",
              "      <td>Hotels near Antelope Canyon - 100% Real Custom...</td>\n",
              "      <td>www.booking.com/Antelope-Canyon/Hotels</td>\n",
              "      <td>0</td>\n",
              "    </tr>\n",
              "    <tr>\n",
              "      <th>3</th>\n",
              "      <td>4</td>\n",
              "      <td>get vaccine after covid</td>\n",
              "      <td>Janssen COVID-19 Vaccine - Authorized For Emer...</td>\n",
              "      <td>www.janssencovid19vaccine.com</td>\n",
              "      <td>0</td>\n",
              "    </tr>\n",
              "    <tr>\n",
              "      <th>4</th>\n",
              "      <td>5</td>\n",
              "      <td>ahs.com/my-accountlogin</td>\n",
              "      <td>Find First american home warranty login - Chec...</td>\n",
              "      <td>www.searchandshopping.org/Your Search/Results</td>\n",
              "      <td>0</td>\n",
              "    </tr>\n",
              "    <tr>\n",
              "      <th>5</th>\n",
              "      <td>6</td>\n",
              "      <td>nike</td>\n",
              "      <td>Shop Womens Shops: Amazon - Amazon.com Officia...</td>\n",
              "      <td>www.amazon.com/apparel/womens-shops</td>\n",
              "      <td>1</td>\n",
              "    </tr>\n",
              "    <tr>\n",
              "      <th>6</th>\n",
              "      <td>7</td>\n",
              "      <td>cfl fixture</td>\n",
              "      <td>Flashlight Accessories</td>\n",
              "      <td>www.Grainfer.com/Flashlights</td>\n",
              "      <td>0</td>\n",
              "    </tr>\n",
              "    <tr>\n",
              "      <th>7</th>\n",
              "      <td>8</td>\n",
              "      <td>nationwide pet insurance</td>\n",
              "      <td>2021's Top 10 Pet Insurance - Buyer's Guide (N...</td>\n",
              "      <td>buyersguide.org/Pet-Insurance</td>\n",
              "      <td>1</td>\n",
              "    </tr>\n",
              "    <tr>\n",
              "      <th>8</th>\n",
              "      <td>9</td>\n",
              "      <td>nike</td>\n",
              "      <td>Nike Official Site - Just Do It - Shop The Lat...</td>\n",
              "      <td>www.nike.com</td>\n",
              "      <td>1</td>\n",
              "    </tr>\n",
              "    <tr>\n",
              "      <th>9</th>\n",
              "      <td>10</td>\n",
              "      <td>used cars</td>\n",
              "      <td>CarMax Used Cars - Visit carmax.com - Large Na...</td>\n",
              "      <td>www.carmax.com/cars</td>\n",
              "      <td>1</td>\n",
              "    </tr>\n",
              "  </tbody>\n",
              "</table>\n",
              "</div>\n",
              "    <div class=\"colab-df-buttons\">\n",
              "\n",
              "  <div class=\"colab-df-container\">\n",
              "    <button class=\"colab-df-convert\" onclick=\"convertToInteractive('df-b4d223b0-c08f-49a8-ad32-e2526200c46e')\"\n",
              "            title=\"Convert this dataframe to an interactive table.\"\n",
              "            style=\"display:none;\">\n",
              "\n",
              "  <svg xmlns=\"http://www.w3.org/2000/svg\" height=\"24px\" viewBox=\"0 -960 960 960\">\n",
              "    <path d=\"M120-120v-720h720v720H120Zm60-500h600v-160H180v160Zm220 220h160v-160H400v160Zm0 220h160v-160H400v160ZM180-400h160v-160H180v160Zm440 0h160v-160H620v160ZM180-180h160v-160H180v160Zm440 0h160v-160H620v160Z\"/>\n",
              "  </svg>\n",
              "    </button>\n",
              "\n",
              "  <style>\n",
              "    .colab-df-container {\n",
              "      display:flex;\n",
              "      gap: 12px;\n",
              "    }\n",
              "\n",
              "    .colab-df-convert {\n",
              "      background-color: #E8F0FE;\n",
              "      border: none;\n",
              "      border-radius: 50%;\n",
              "      cursor: pointer;\n",
              "      display: none;\n",
              "      fill: #1967D2;\n",
              "      height: 32px;\n",
              "      padding: 0 0 0 0;\n",
              "      width: 32px;\n",
              "    }\n",
              "\n",
              "    .colab-df-convert:hover {\n",
              "      background-color: #E2EBFA;\n",
              "      box-shadow: 0px 1px 2px rgba(60, 64, 67, 0.3), 0px 1px 3px 1px rgba(60, 64, 67, 0.15);\n",
              "      fill: #174EA6;\n",
              "    }\n",
              "\n",
              "    .colab-df-buttons div {\n",
              "      margin-bottom: 4px;\n",
              "    }\n",
              "\n",
              "    [theme=dark] .colab-df-convert {\n",
              "      background-color: #3B4455;\n",
              "      fill: #D2E3FC;\n",
              "    }\n",
              "\n",
              "    [theme=dark] .colab-df-convert:hover {\n",
              "      background-color: #434B5C;\n",
              "      box-shadow: 0px 1px 3px 1px rgba(0, 0, 0, 0.15);\n",
              "      filter: drop-shadow(0px 1px 2px rgba(0, 0, 0, 0.3));\n",
              "      fill: #FFFFFF;\n",
              "    }\n",
              "  </style>\n",
              "\n",
              "    <script>\n",
              "      const buttonEl =\n",
              "        document.querySelector('#df-b4d223b0-c08f-49a8-ad32-e2526200c46e button.colab-df-convert');\n",
              "      buttonEl.style.display =\n",
              "        google.colab.kernel.accessAllowed ? 'block' : 'none';\n",
              "\n",
              "      async function convertToInteractive(key) {\n",
              "        const element = document.querySelector('#df-b4d223b0-c08f-49a8-ad32-e2526200c46e');\n",
              "        const dataTable =\n",
              "          await google.colab.kernel.invokeFunction('convertToInteractive',\n",
              "                                                    [key], {});\n",
              "        if (!dataTable) return;\n",
              "\n",
              "        const docLinkHtml = 'Like what you see? Visit the ' +\n",
              "          '<a target=\"_blank\" href=https://colab.research.google.com/notebooks/data_table.ipynb>data table notebook</a>'\n",
              "          + ' to learn more about interactive tables.';\n",
              "        element.innerHTML = '';\n",
              "        dataTable['output_type'] = 'display_data';\n",
              "        await google.colab.output.renderOutput(dataTable, element);\n",
              "        const docLink = document.createElement('div');\n",
              "        docLink.innerHTML = docLinkHtml;\n",
              "        element.appendChild(docLink);\n",
              "      }\n",
              "    </script>\n",
              "  </div>\n",
              "\n",
              "\n",
              "<div id=\"df-c5154262-ce61-438c-8079-7addc0f4a98a\">\n",
              "  <button class=\"colab-df-quickchart\" onclick=\"quickchart('df-c5154262-ce61-438c-8079-7addc0f4a98a')\"\n",
              "            title=\"Suggest charts.\"\n",
              "            style=\"display:none;\">\n",
              "\n",
              "<svg xmlns=\"http://www.w3.org/2000/svg\" height=\"24px\"viewBox=\"0 0 24 24\"\n",
              "     width=\"24px\">\n",
              "    <g>\n",
              "        <path d=\"M19 3H5c-1.1 0-2 .9-2 2v14c0 1.1.9 2 2 2h14c1.1 0 2-.9 2-2V5c0-1.1-.9-2-2-2zM9 17H7v-7h2v7zm4 0h-2V7h2v10zm4 0h-2v-4h2v4z\"/>\n",
              "    </g>\n",
              "</svg>\n",
              "  </button>\n",
              "\n",
              "<style>\n",
              "  .colab-df-quickchart {\n",
              "      --bg-color: #E8F0FE;\n",
              "      --fill-color: #1967D2;\n",
              "      --hover-bg-color: #E2EBFA;\n",
              "      --hover-fill-color: #174EA6;\n",
              "      --disabled-fill-color: #AAA;\n",
              "      --disabled-bg-color: #DDD;\n",
              "  }\n",
              "\n",
              "  [theme=dark] .colab-df-quickchart {\n",
              "      --bg-color: #3B4455;\n",
              "      --fill-color: #D2E3FC;\n",
              "      --hover-bg-color: #434B5C;\n",
              "      --hover-fill-color: #FFFFFF;\n",
              "      --disabled-bg-color: #3B4455;\n",
              "      --disabled-fill-color: #666;\n",
              "  }\n",
              "\n",
              "  .colab-df-quickchart {\n",
              "    background-color: var(--bg-color);\n",
              "    border: none;\n",
              "    border-radius: 50%;\n",
              "    cursor: pointer;\n",
              "    display: none;\n",
              "    fill: var(--fill-color);\n",
              "    height: 32px;\n",
              "    padding: 0;\n",
              "    width: 32px;\n",
              "  }\n",
              "\n",
              "  .colab-df-quickchart:hover {\n",
              "    background-color: var(--hover-bg-color);\n",
              "    box-shadow: 0 1px 2px rgba(60, 64, 67, 0.3), 0 1px 3px 1px rgba(60, 64, 67, 0.15);\n",
              "    fill: var(--button-hover-fill-color);\n",
              "  }\n",
              "\n",
              "  .colab-df-quickchart-complete:disabled,\n",
              "  .colab-df-quickchart-complete:disabled:hover {\n",
              "    background-color: var(--disabled-bg-color);\n",
              "    fill: var(--disabled-fill-color);\n",
              "    box-shadow: none;\n",
              "  }\n",
              "\n",
              "  .colab-df-spinner {\n",
              "    border: 2px solid var(--fill-color);\n",
              "    border-color: transparent;\n",
              "    border-bottom-color: var(--fill-color);\n",
              "    animation:\n",
              "      spin 1s steps(1) infinite;\n",
              "  }\n",
              "\n",
              "  @keyframes spin {\n",
              "    0% {\n",
              "      border-color: transparent;\n",
              "      border-bottom-color: var(--fill-color);\n",
              "      border-left-color: var(--fill-color);\n",
              "    }\n",
              "    20% {\n",
              "      border-color: transparent;\n",
              "      border-left-color: var(--fill-color);\n",
              "      border-top-color: var(--fill-color);\n",
              "    }\n",
              "    30% {\n",
              "      border-color: transparent;\n",
              "      border-left-color: var(--fill-color);\n",
              "      border-top-color: var(--fill-color);\n",
              "      border-right-color: var(--fill-color);\n",
              "    }\n",
              "    40% {\n",
              "      border-color: transparent;\n",
              "      border-right-color: var(--fill-color);\n",
              "      border-top-color: var(--fill-color);\n",
              "    }\n",
              "    60% {\n",
              "      border-color: transparent;\n",
              "      border-right-color: var(--fill-color);\n",
              "    }\n",
              "    80% {\n",
              "      border-color: transparent;\n",
              "      border-right-color: var(--fill-color);\n",
              "      border-bottom-color: var(--fill-color);\n",
              "    }\n",
              "    90% {\n",
              "      border-color: transparent;\n",
              "      border-bottom-color: var(--fill-color);\n",
              "    }\n",
              "  }\n",
              "</style>\n",
              "\n",
              "  <script>\n",
              "    async function quickchart(key) {\n",
              "      const quickchartButtonEl =\n",
              "        document.querySelector('#' + key + ' button');\n",
              "      quickchartButtonEl.disabled = true;  // To prevent multiple clicks.\n",
              "      quickchartButtonEl.classList.add('colab-df-spinner');\n",
              "      try {\n",
              "        const charts = await google.colab.kernel.invokeFunction(\n",
              "            'suggestCharts', [key], {});\n",
              "      } catch (error) {\n",
              "        console.error('Error during call to suggestCharts:', error);\n",
              "      }\n",
              "      quickchartButtonEl.classList.remove('colab-df-spinner');\n",
              "      quickchartButtonEl.classList.add('colab-df-quickchart-complete');\n",
              "    }\n",
              "    (() => {\n",
              "      let quickchartButtonEl =\n",
              "        document.querySelector('#df-c5154262-ce61-438c-8079-7addc0f4a98a button');\n",
              "      quickchartButtonEl.style.display =\n",
              "        google.colab.kernel.accessAllowed ? 'block' : 'none';\n",
              "    })();\n",
              "  </script>\n",
              "</div>\n",
              "    </div>\n",
              "  </div>\n"
            ]
          },
          "metadata": {},
          "execution_count": 14
        }
      ],
      "source": [
        "#Converting the Relevance to numerical values to enable analysis\n",
        "#Convert Relevance to numerical\n",
        "mapping = {\n",
        "    'Good' : 1,\n",
        "    'Other' : 0,\n",
        "}\n",
        "df['Relevance'] = df['Relevance'].replace(mapping)\n",
        "df.head(10)"
      ]
    },
    {
      "cell_type": "code",
      "source": [
        "#df.isna().value_counts()\n",
        "# Check for missing values\n",
        "df.isnull().sum().any()"
      ],
      "metadata": {
        "colab": {
          "base_uri": "https://localhost:8080/"
        },
        "id": "gfPtvJGGTvc_",
        "outputId": "6405c483-3764-4044-c1de-956694c68c3b"
      },
      "execution_count": 15,
      "outputs": [
        {
          "output_type": "execute_result",
          "data": {
            "text/plain": [
              "False"
            ]
          },
          "metadata": {},
          "execution_count": 15
        }
      ]
    },
    {
      "cell_type": "code",
      "source": [
        "# Identify rows with missing values\n",
        "rows_with_missing_values = df[df.isnull().any(axis=1)]\n",
        "\n",
        "# Print the rows with missing values\n",
        "print(\"Rows with missing values:\")\n",
        "print(rows_with_missing_values)"
      ],
      "metadata": {
        "colab": {
          "base_uri": "https://localhost:8080/"
        },
        "id": "cUF7-UtWZPlT",
        "outputId": "f6b66415-14ed-40af-caa0-a704158bde4b"
      },
      "execution_count": 16,
      "outputs": [
        {
          "output_type": "stream",
          "name": "stdout",
          "text": [
            "Rows with missing values:\n",
            "Empty DataFrame\n",
            "Columns: [TaskId, User_Search_Term, Ad, Website, Relevance]\n",
            "Index: []\n"
          ]
        }
      ]
    },
    {
      "cell_type": "code",
      "execution_count": 17,
      "metadata": {
        "id": "nNLDGGhOGI4E"
      },
      "outputs": [],
      "source": [
        "## Get the Independent Features\n",
        "\n",
        "X=df.drop(columns =['TaskId', 'Relevance'])"
      ]
    },
    {
      "cell_type": "code",
      "execution_count": 18,
      "metadata": {
        "id": "CnkK9yoDGVf_"
      },
      "outputs": [],
      "source": [
        "## Get the Dependent features\n",
        "y=df['Relevance']"
      ]
    },
    {
      "cell_type": "code",
      "execution_count": 19,
      "metadata": {
        "colab": {
          "base_uri": "https://localhost:8080/"
        },
        "id": "ZYPpBYsbGdV1",
        "outputId": "b86ffcc2-5b17-4995-d52b-61f2aaea55a5"
      },
      "outputs": [
        {
          "output_type": "execute_result",
          "data": {
            "text/plain": [
              "1    74\n",
              "0    54\n",
              "Name: Relevance, dtype: int64"
            ]
          },
          "metadata": {},
          "execution_count": 19
        }
      ],
      "source": [
        "y.value_counts()"
      ]
    },
    {
      "cell_type": "markdown",
      "source": [],
      "metadata": {
        "id": "eo8Gu-8MIiE4"
      }
    },
    {
      "cell_type": "code",
      "source": [
        "#It can be seen that the data is generally balanced"
      ],
      "metadata": {
        "id": "aCavOPwFIjfo"
      },
      "execution_count": 20,
      "outputs": []
    },
    {
      "cell_type": "code",
      "execution_count": 21,
      "metadata": {
        "colab": {
          "base_uri": "https://localhost:8080/"
        },
        "id": "AkvNzD3RGrR4",
        "outputId": "7bbf9cf1-4e6c-4772-e9ec-f25b6333502e"
      },
      "outputs": [
        {
          "output_type": "execute_result",
          "data": {
            "text/plain": [
              "(128, 3)"
            ]
          },
          "metadata": {},
          "execution_count": 21
        }
      ],
      "source": [
        "X.shape"
      ]
    },
    {
      "cell_type": "code",
      "execution_count": 22,
      "metadata": {
        "colab": {
          "base_uri": "https://localhost:8080/"
        },
        "id": "QjwpxKlRHwYp",
        "outputId": "38b2ef7b-854d-49b8-8af9-4f2601326150"
      },
      "outputs": [
        {
          "output_type": "execute_result",
          "data": {
            "text/plain": [
              "(128,)"
            ]
          },
          "metadata": {},
          "execution_count": 22
        }
      ],
      "source": [
        "y.shape"
      ]
    },
    {
      "cell_type": "code",
      "execution_count": 23,
      "metadata": {
        "id": "eP04tsIXH2yQ"
      },
      "outputs": [],
      "source": [
        "import tensorflow as tf"
      ]
    },
    {
      "cell_type": "code",
      "execution_count": 24,
      "metadata": {
        "colab": {
          "base_uri": "https://localhost:8080/",
          "height": 35
        },
        "id": "faQYG8jjH_H-",
        "outputId": "0a449be2-2b61-4cf0-b0a7-9083718d743c"
      },
      "outputs": [
        {
          "output_type": "execute_result",
          "data": {
            "text/plain": [
              "'2.13.0'"
            ],
            "application/vnd.google.colaboratory.intrinsic+json": {
              "type": "string"
            }
          },
          "metadata": {},
          "execution_count": 24
        }
      ],
      "source": [
        "tf.__version__"
      ]
    },
    {
      "cell_type": "code",
      "execution_count": 25,
      "metadata": {
        "id": "tzDNgB7uIL6Y"
      },
      "outputs": [],
      "source": [
        "from tensorflow.keras.layers import Embedding\n",
        "from tensorflow.keras.preprocessing.sequence import pad_sequences\n",
        "from tensorflow.keras.models import Sequential\n",
        "from tensorflow.keras.preprocessing.text import one_hot\n",
        "from tensorflow.keras.layers import LSTM\n",
        "from tensorflow.keras.layers import Dense\n",
        "from tensorflow.keras.layers import Bidirectional\n",
        "from tensorflow.keras.layers import Dropout"
      ]
    },
    {
      "cell_type": "code",
      "execution_count": 26,
      "metadata": {
        "id": "sBWarW7NIPIi"
      },
      "outputs": [],
      "source": [
        "### Vocabulary size\n",
        "voc_size=10"
      ]
    },
    {
      "cell_type": "markdown",
      "metadata": {
        "id": "2WZbsNhjIzc-"
      },
      "source": [
        "Onehot Representation"
      ]
    },
    {
      "cell_type": "code",
      "execution_count": 27,
      "metadata": {
        "id": "DujLnc4NI_WU"
      },
      "outputs": [],
      "source": [
        "messages=X.copy()"
      ]
    },
    {
      "cell_type": "code",
      "execution_count": 28,
      "metadata": {
        "colab": {
          "base_uri": "https://localhost:8080/",
          "height": 35
        },
        "id": "1TQWbb2vJH-8",
        "outputId": "1eb017ce-ab4e-470d-fb90-d533b6eb5c50"
      },
      "outputs": [
        {
          "output_type": "execute_result",
          "data": {
            "text/plain": [
              "'peloton plano tx'"
            ],
            "application/vnd.google.colaboratory.intrinsic+json": {
              "type": "string"
            }
          },
          "metadata": {},
          "execution_count": 28
        }
      ],
      "source": [
        "messages['User_Search_Term'][1]"
      ]
    },
    {
      "cell_type": "code",
      "source": [
        "messages['Ad'][1]"
      ],
      "metadata": {
        "colab": {
          "base_uri": "https://localhost:8080/",
          "height": 35
        },
        "id": "fNuykS-tzm9w",
        "outputId": "39da92de-7cc7-4c77-a6ef-d417cf900487"
      },
      "execution_count": 29,
      "outputs": [
        {
          "output_type": "execute_result",
          "data": {
            "text/plain": [
              "'Studio Cycle Comparison - Find The Best Exercise Bike - NordicTrack Official Site'"
            ],
            "application/vnd.google.colaboratory.intrinsic+json": {
              "type": "string"
            }
          },
          "metadata": {},
          "execution_count": 29
        }
      ]
    },
    {
      "cell_type": "code",
      "execution_count": 30,
      "metadata": {
        "id": "ohYij27EJfMa"
      },
      "outputs": [],
      "source": [
        "messages.reset_index(inplace=True)"
      ]
    },
    {
      "cell_type": "code",
      "execution_count": 31,
      "metadata": {
        "id": "rLDNXtokJrPI"
      },
      "outputs": [],
      "source": [
        "import nltk\n",
        "import re\n",
        "from nltk.corpus import stopwords"
      ]
    },
    {
      "cell_type": "code",
      "execution_count": 32,
      "metadata": {
        "colab": {
          "base_uri": "https://localhost:8080/"
        },
        "id": "dqLaPzp9Jwv4",
        "outputId": "24493efa-454e-4a0d-e6ce-a1335218894c"
      },
      "outputs": [
        {
          "output_type": "stream",
          "name": "stderr",
          "text": [
            "[nltk_data] Downloading package stopwords to /root/nltk_data...\n",
            "[nltk_data]   Unzipping corpora/stopwords.zip.\n"
          ]
        },
        {
          "output_type": "execute_result",
          "data": {
            "text/plain": [
              "True"
            ]
          },
          "metadata": {},
          "execution_count": 32
        }
      ],
      "source": [
        "nltk.download('stopwords')"
      ]
    },
    {
      "cell_type": "code",
      "execution_count": 33,
      "metadata": {
        "colab": {
          "base_uri": "https://localhost:8080/"
        },
        "id": "cqVGeUsjJ6kO",
        "outputId": "eb0f321b-1a58-4db9-db76-27756ad7196a"
      },
      "outputs": [
        {
          "output_type": "stream",
          "name": "stdout",
          "text": [
            "0\n",
            "1\n",
            "2\n",
            "3\n",
            "4\n",
            "5\n",
            "6\n",
            "7\n",
            "8\n",
            "9\n",
            "10\n",
            "11\n",
            "12\n",
            "13\n",
            "14\n",
            "15\n",
            "16\n",
            "17\n",
            "18\n",
            "19\n",
            "20\n",
            "21\n",
            "22\n",
            "23\n",
            "24\n",
            "25\n",
            "26\n",
            "27\n",
            "28\n",
            "29\n",
            "30\n",
            "31\n",
            "32\n",
            "33\n",
            "34\n",
            "35\n",
            "36\n",
            "37\n",
            "38\n",
            "39\n",
            "40\n",
            "41\n",
            "42\n",
            "43\n",
            "44\n",
            "45\n",
            "46\n",
            "47\n",
            "48\n",
            "49\n",
            "50\n",
            "51\n",
            "52\n",
            "53\n",
            "54\n",
            "55\n",
            "56\n",
            "57\n",
            "58\n",
            "59\n",
            "60\n",
            "61\n",
            "62\n",
            "63\n",
            "64\n",
            "65\n",
            "66\n",
            "67\n",
            "68\n",
            "69\n",
            "70\n",
            "71\n",
            "72\n",
            "73\n",
            "74\n",
            "75\n",
            "76\n",
            "77\n",
            "78\n",
            "79\n",
            "80\n",
            "81\n",
            "82\n",
            "83\n",
            "84\n",
            "85\n",
            "86\n",
            "87\n",
            "88\n",
            "89\n",
            "90\n",
            "91\n",
            "92\n",
            "93\n",
            "94\n",
            "95\n",
            "96\n",
            "97\n",
            "98\n",
            "99\n",
            "100\n",
            "101\n",
            "102\n",
            "103\n",
            "104\n",
            "105\n",
            "106\n",
            "107\n",
            "108\n",
            "109\n",
            "110\n",
            "111\n",
            "112\n",
            "113\n",
            "114\n",
            "115\n",
            "116\n",
            "117\n",
            "118\n",
            "119\n",
            "120\n",
            "121\n",
            "122\n",
            "123\n",
            "124\n",
            "125\n",
            "126\n",
            "127\n"
          ]
        }
      ],
      "source": [
        "### Dataset Preprocessing\n",
        "from nltk.stem.porter import PorterStemmer\n",
        "ps = PorterStemmer()\n",
        "corpus = []\n",
        "for i in range(0, len(messages)):\n",
        "    print(i)\n",
        "    review = re.sub('[^a-zA-Z]', ' ', messages['User_Search_Term'][i])\n",
        "    review = review.lower()\n",
        "    review = review.split()\n",
        "\n",
        "    review = [ps.stem(word) for word in review if not word in stopwords.words('english')]\n",
        "    review = ' '.join(review)\n",
        "    corpus.append(review)"
      ]
    },
    {
      "cell_type": "code",
      "execution_count": 34,
      "metadata": {
        "colab": {
          "base_uri": "https://localhost:8080/"
        },
        "id": "f5uzyFzWKkPA",
        "outputId": "c3c26168-4da5-42ce-f01a-d63d286499ed"
      },
      "outputs": [
        {
          "output_type": "execute_result",
          "data": {
            "text/plain": [
              "['wwww ncquickpass com',\n",
              " 'peloton plano tx',\n",
              " 'antelop canyon',\n",
              " 'get vaccin covid',\n",
              " 'ah com accountlogin',\n",
              " 'nike',\n",
              " 'cfl fixtur',\n",
              " 'nationwid pet insur',\n",
              " 'nike',\n",
              " 'use car',\n",
              " 'car rental lubbock tx',\n",
              " 'augusta tech adn',\n",
              " 'hampton inn guntersvil al',\n",
              " 'white strip',\n",
              " 'florist laguna beach',\n",
              " 'rachel ray nylon spoon',\n",
              " 'dental mouthwash fix teeth',\n",
              " 'june florist brooklyn',\n",
              " 'buy marbl floor tile',\n",
              " 'safeway com',\n",
              " 'enterpris rent car',\n",
              " 'flight atlanta fort sill ok',\n",
              " 'virgin',\n",
              " 'adob clean',\n",
              " 'dialysi clinic hire near',\n",
              " 'best place sell old playboy magazin',\n",
              " 'comput viru',\n",
              " 'hepat b',\n",
              " 'social secur administr',\n",
              " 'goldman sach platinum',\n",
              " 'homegood com offici websit',\n",
              " 'madam pompadour wallpap mural',\n",
              " 'southwest airlin',\n",
              " 'cowboy schedul',\n",
              " 'realmushroom',\n",
              " 'abbotsford hear center',\n",
              " 'amazon',\n",
              " 'aliana health',\n",
              " 'bilater maxilari sinu diseas',\n",
              " 'first time homebuy',\n",
              " 'norton vpn',\n",
              " 'world educ servic',\n",
              " 'new ford f regular cab sale near',\n",
              " 'creat weekli payrol calendar',\n",
              " 'archiv printer',\n",
              " 'onlin text messag servic free',\n",
              " 'discount carpet tile',\n",
              " 'mexico vs hondura',\n",
              " 'wheelchair access resort va',\n",
              " 'groceri pull cart wheel',\n",
              " 'lamp repair bellow bt',\n",
              " 'make good real estat invest',\n",
              " 'power guid spiritu enlighten book',\n",
              " 'swifter clean bathroom floor',\n",
              " 'cadillac',\n",
              " 'journal cognit develop',\n",
              " 'first digit credit card',\n",
              " 'peloton plano tx',\n",
              " 'best wash machin brand',\n",
              " 'exterior lap side',\n",
              " 'dsxf lithonia',\n",
              " 'logomix inc',\n",
              " 'snap tool box lock set',\n",
              " 'flight la guardia new yourk airport',\n",
              " 'alcohol rehab northern california',\n",
              " 'budget mover houston',\n",
              " 'english school near',\n",
              " 'cheapest carpet instal',\n",
              " 'password manag',\n",
              " 'gold dealer',\n",
              " 'phone holder fit cuphold',\n",
              " 'construct cost templat',\n",
              " 'cheap ticket last minut deal',\n",
              " 'discount plane ticket',\n",
              " 'buy lidan tablet',\n",
              " 'new found land puppi florida',\n",
              " 'free ai gener imag',\n",
              " 'mortgag refianc',\n",
              " 'best cabin pa philli',\n",
              " 'fix credit',\n",
              " 'get lawyer car accid',\n",
              " 'dark web',\n",
              " 'get lawyer car accid',\n",
              " 'supplement secur incom elig',\n",
              " 'distanc learn graduat program',\n",
              " 'lexu vehicl',\n",
              " 'trivago com flight',\n",
              " 'clear neon green raincoat',\n",
              " 'cold pain relief spray',\n",
              " 'wallet size photo',\n",
              " 'aurora flat lubbock',\n",
              " 'much expens asphalt shingl metal roof',\n",
              " 'etsi shop onlin',\n",
              " 'alaska railroad',\n",
              " 'mdbridg',\n",
              " 'simpli healthcar',\n",
              " 'maryland state kent counti properti tax portal',\n",
              " 'global pay',\n",
              " 'servicenow financi histor yahoo',\n",
              " 'best cabl internet bundl',\n",
              " 'ap ipad client fill paperwork free',\n",
              " 'equiti forex',\n",
              " 'best insul water bottl straw flip',\n",
              " 'bacon broccoli raisin salad',\n",
              " 'independ titl liberti hill',\n",
              " 'hire near gastonia',\n",
              " 'lower c without medic',\n",
              " 'inter miami',\n",
              " 'sl net mortgag',\n",
              " 'yearli pickup truck leas compani',\n",
              " 'asap cheap ticket',\n",
              " 'car model',\n",
              " 'carmax',\n",
              " 'equavl yield munici money market tax',\n",
              " 'tax foundat',\n",
              " 'manhattan ny',\n",
              " 'delawar franchis tax',\n",
              " 'sierra vista tax',\n",
              " 'auledio tier countertop fruit basket bowl veget storag crew',\n",
              " 'www lacar org',\n",
              " 'bacon mapl donut originb',\n",
              " 'ladi cloth',\n",
              " 'subaru ascent',\n",
              " 'sentinel figur',\n",
              " 'hoteld mortgag rate',\n",
              " 'airpod ee',\n",
              " 'toyota corolla hatchback',\n",
              " 'aluminum fenc repair near']"
            ]
          },
          "metadata": {},
          "execution_count": 34
        }
      ],
      "source": [
        "corpus"
      ]
    },
    {
      "cell_type": "code",
      "execution_count": 35,
      "metadata": {
        "colab": {
          "base_uri": "https://localhost:8080/"
        },
        "id": "fbVv9Pp1K5Yr",
        "outputId": "61549aaa-da11-4992-fccc-4daae5725926"
      },
      "outputs": [
        {
          "output_type": "execute_result",
          "data": {
            "text/plain": [
              "[[1, 2, 8],\n",
              " [7, 1, 4],\n",
              " [8, 3],\n",
              " [2, 3, 5],\n",
              " [4, 8, 8],\n",
              " [6],\n",
              " [7, 8],\n",
              " [5, 4, 5],\n",
              " [6],\n",
              " [9, 7],\n",
              " [7, 4, 7, 4],\n",
              " [3, 8, 4],\n",
              " [4, 4, 9, 7],\n",
              " [2, 2],\n",
              " [3, 9, 9],\n",
              " [1, 6, 3, 2],\n",
              " [1, 9, 2, 3],\n",
              " [3, 3, 4],\n",
              " [9, 6, 8, 7],\n",
              " [1, 8],\n",
              " [7, 6, 7],\n",
              " [7, 5, 2, 6, 8],\n",
              " [6],\n",
              " [2, 6],\n",
              " [1, 4, 3, 6],\n",
              " [7, 7, 5, 9, 2, 9],\n",
              " [3, 1],\n",
              " [4, 7],\n",
              " [5, 4, 7],\n",
              " [3, 5, 3],\n",
              " [7, 8, 1, 2],\n",
              " [4, 1, 1, 3],\n",
              " [2, 6],\n",
              " [5, 6],\n",
              " [4],\n",
              " [2, 5, 3],\n",
              " [5],\n",
              " [6, 1],\n",
              " [9, 7, 7, 5],\n",
              " [5, 2, 7],\n",
              " [3, 1],\n",
              " [4, 3, 6],\n",
              " [5, 7, 4, 9, 6, 8, 6],\n",
              " [4, 2, 3, 3],\n",
              " [4, 7],\n",
              " [9, 8, 2, 6, 8],\n",
              " [8, 5, 7],\n",
              " [3, 7, 7],\n",
              " [4, 4, 5, 1],\n",
              " [6, 2, 9, 5],\n",
              " [2, 7, 1, 7],\n",
              " [7, 5, 4, 1, 9],\n",
              " [3, 3, 8, 6, 4],\n",
              " [1, 6, 8, 8],\n",
              " [7],\n",
              " [5, 3, 7],\n",
              " [5, 7, 7, 2],\n",
              " [7, 1, 4],\n",
              " [7, 4, 8, 3],\n",
              " [7, 8, 3],\n",
              " [5, 5],\n",
              " [9, 5],\n",
              " [5, 6, 4, 9, 1],\n",
              " [7, 5, 5, 5, 9, 2],\n",
              " [3, 8, 8, 1],\n",
              " [6, 7, 4],\n",
              " [7, 9, 6],\n",
              " [3, 5, 4],\n",
              " [9, 3],\n",
              " [7, 3],\n",
              " [3, 7, 6, 1],\n",
              " [7, 4, 1],\n",
              " [2, 3, 9, 6, 8],\n",
              " [8, 9, 3],\n",
              " [9, 5, 4],\n",
              " [5, 3, 7, 8, 9],\n",
              " [8, 1, 7, 7],\n",
              " [5, 9],\n",
              " [7, 6, 1, 3],\n",
              " [2, 7],\n",
              " [2, 2, 7, 3],\n",
              " [2, 3],\n",
              " [2, 2, 7, 3],\n",
              " [9, 4, 2, 2],\n",
              " [7, 3, 3, 6],\n",
              " [3, 4],\n",
              " [4, 8, 7],\n",
              " [9, 9, 4, 7],\n",
              " [5, 7, 8, 9],\n",
              " [8, 1, 2],\n",
              " [3, 1, 7],\n",
              " [3, 3, 6, 3, 9, 8],\n",
              " [1, 2, 9],\n",
              " [5, 8],\n",
              " [5],\n",
              " [6, 1],\n",
              " [5, 4, 9, 6, 1, 1, 4],\n",
              " [9, 8],\n",
              " [9, 8, 5, 7],\n",
              " [7, 9, 4, 9],\n",
              " [6, 9, 8, 9, 4, 8],\n",
              " [1, 3],\n",
              " [7, 1, 2, 7, 9, 7],\n",
              " [2, 5, 4, 3],\n",
              " [7, 4, 6, 9],\n",
              " [3, 6, 6],\n",
              " [1, 5, 5, 2],\n",
              " [8, 7],\n",
              " [6, 9, 5],\n",
              " [1, 6, 5, 7, 4],\n",
              " [5, 2, 3],\n",
              " [7, 5],\n",
              " [1],\n",
              " [7, 4, 9, 3, 2, 1],\n",
              " [1, 1],\n",
              " [1, 9],\n",
              " [2, 9, 1],\n",
              " [3, 4, 1],\n",
              " [3, 5, 3, 2, 4, 7, 3, 9, 3],\n",
              " [2, 8, 7],\n",
              " [2, 8, 4, 4],\n",
              " [5, 2],\n",
              " [5, 3],\n",
              " [6, 3],\n",
              " [4, 5, 5],\n",
              " [6, 5],\n",
              " [2, 1, 8],\n",
              " [9, 7, 7, 6]]"
            ]
          },
          "metadata": {},
          "execution_count": 35
        }
      ],
      "source": [
        "onehot_repr=[one_hot(words,voc_size)for words in corpus]\n",
        "onehot_repr"
      ]
    },
    {
      "cell_type": "markdown",
      "metadata": {
        "id": "G4MI8Ik7Lb1q"
      },
      "source": [
        "Embedding Representation"
      ]
    },
    {
      "cell_type": "code",
      "execution_count": 36,
      "metadata": {
        "colab": {
          "base_uri": "https://localhost:8080/"
        },
        "id": "H91ukOZsLeO9",
        "outputId": "14a7617a-4803-4006-d67d-cadf9bc7a08c"
      },
      "outputs": [
        {
          "output_type": "stream",
          "name": "stdout",
          "text": [
            "[[0 0 0 ... 1 2 8]\n",
            " [0 0 0 ... 7 1 4]\n",
            " [0 0 0 ... 0 8 3]\n",
            " ...\n",
            " [0 0 0 ... 0 6 5]\n",
            " [0 0 0 ... 2 1 8]\n",
            " [0 0 0 ... 7 7 6]]\n"
          ]
        }
      ],
      "source": [
        "sent_length=10\n",
        "embedded_docs=pad_sequences(onehot_repr,padding='pre',maxlen=sent_length)\n",
        "print(embedded_docs)"
      ]
    },
    {
      "cell_type": "code",
      "execution_count": 37,
      "metadata": {
        "colab": {
          "base_uri": "https://localhost:8080/"
        },
        "id": "0sYl7GL0Lr4L",
        "outputId": "1f4cab55-1abb-4fbb-9170-14246a28e531"
      },
      "outputs": [
        {
          "output_type": "execute_result",
          "data": {
            "text/plain": [
              "array([0, 0, 0, 0, 0, 0, 0, 1, 2, 8], dtype=int32)"
            ]
          },
          "metadata": {},
          "execution_count": 37
        }
      ],
      "source": [
        "embedded_docs[0]"
      ]
    },
    {
      "cell_type": "code",
      "execution_count": 38,
      "metadata": {
        "colab": {
          "base_uri": "https://localhost:8080/"
        },
        "id": "oXRJHXCxLwCQ",
        "outputId": "49cd5ff6-a93a-4418-c77b-9c40cb755604"
      },
      "outputs": [
        {
          "output_type": "stream",
          "name": "stdout",
          "text": [
            "Model: \"sequential\"\n",
            "_________________________________________________________________\n",
            " Layer (type)                Output Shape              Param #   \n",
            "=================================================================\n",
            " embedding (Embedding)       (None, 10, 10)            100       \n",
            "                                                                 \n",
            " lstm (LSTM)                 (None, 25)                3600      \n",
            "                                                                 \n",
            " dense (Dense)               (None, 1)                 26        \n",
            "                                                                 \n",
            "=================================================================\n",
            "Total params: 3726 (14.55 KB)\n",
            "Trainable params: 3726 (14.55 KB)\n",
            "Non-trainable params: 0 (0.00 Byte)\n",
            "_________________________________________________________________\n",
            "None\n"
          ]
        }
      ],
      "source": [
        "## Creating model\n",
        "embedding_vector_features=10\n",
        "model=Sequential()\n",
        "model.add(Embedding(voc_size,embedding_vector_features,input_length=sent_length))\n",
        "model.add(LSTM(25))\n",
        "model.add(Dense(1,activation='sigmoid'))\n",
        "model.compile(loss='binary_crossentropy',optimizer='adam',metrics=['accuracy'])\n",
        "print(model.summary())"
      ]
    },
    {
      "cell_type": "code",
      "execution_count": 39,
      "metadata": {
        "colab": {
          "base_uri": "https://localhost:8080/"
        },
        "id": "0LaiIwY4MAsO",
        "outputId": "0ec72a91-3cd4-42b5-f8ba-494217b0a59d"
      },
      "outputs": [
        {
          "output_type": "stream",
          "name": "stdout",
          "text": [
            "Model: \"sequential_1\"\n",
            "_________________________________________________________________\n",
            " Layer (type)                Output Shape              Param #   \n",
            "=================================================================\n",
            " embedding_1 (Embedding)     (None, 10, 10)            100       \n",
            "                                                                 \n",
            " bidirectional (Bidirection  (None, 50)                7200      \n",
            " al)                                                             \n",
            "                                                                 \n",
            " dropout (Dropout)           (None, 50)                0         \n",
            "                                                                 \n",
            " dense_1 (Dense)             (None, 1)                 51        \n",
            "                                                                 \n",
            "=================================================================\n",
            "Total params: 7351 (28.71 KB)\n",
            "Trainable params: 7351 (28.71 KB)\n",
            "Non-trainable params: 0 (0.00 Byte)\n",
            "_________________________________________________________________\n",
            "None\n"
          ]
        }
      ],
      "source": [
        "## Creating model\n",
        "embedding_vector_features=10\n",
        "model1=Sequential()\n",
        "model1.add(Embedding(voc_size,embedding_vector_features,input_length=sent_length))\n",
        "model1.add(Bidirectional(LSTM(25)))\n",
        "model1.add(Dropout(0.7))\n",
        "model1.add(Dense(1,activation='sigmoid'))\n",
        "model1.compile(loss='binary_crossentropy',optimizer='adam',metrics=['accuracy'])\n",
        "print(model1.summary())"
      ]
    },
    {
      "cell_type": "code",
      "execution_count": 40,
      "metadata": {
        "colab": {
          "base_uri": "https://localhost:8080/"
        },
        "id": "gjS6DquvMFTB",
        "outputId": "240e4f81-f94f-46de-95d8-343f45d7fcd3"
      },
      "outputs": [
        {
          "output_type": "execute_result",
          "data": {
            "text/plain": [
              "(128, (128,))"
            ]
          },
          "metadata": {},
          "execution_count": 40
        }
      ],
      "source": [
        "len(embedded_docs),y.shape"
      ]
    },
    {
      "cell_type": "code",
      "execution_count": 41,
      "metadata": {
        "id": "7VY7M_igMOk4"
      },
      "outputs": [],
      "source": [
        "import numpy as np\n",
        "X_final=np.array(embedded_docs)\n",
        "y_final=np.array(y)"
      ]
    },
    {
      "cell_type": "code",
      "execution_count": 42,
      "metadata": {
        "colab": {
          "base_uri": "https://localhost:8080/"
        },
        "id": "RVg7j5qQMUgZ",
        "outputId": "fa138cba-e92a-41ca-9695-d5ce33d588a4"
      },
      "outputs": [
        {
          "output_type": "execute_result",
          "data": {
            "text/plain": [
              "((128, 10), (128,))"
            ]
          },
          "metadata": {},
          "execution_count": 42
        }
      ],
      "source": [
        "X_final.shape,y_final.shape"
      ]
    },
    {
      "cell_type": "code",
      "execution_count": 43,
      "metadata": {
        "id": "z7t95c07Mbhe"
      },
      "outputs": [],
      "source": [
        "from sklearn.model_selection import train_test_split\n",
        "X_train, X_test, y_train, y_test = train_test_split(X_final, y_final, test_size=0.33, random_state=42)"
      ]
    },
    {
      "cell_type": "markdown",
      "metadata": {
        "id": "PX-JHEjBMk1Z"
      },
      "source": [
        "Model Training"
      ]
    },
    {
      "cell_type": "code",
      "execution_count": 44,
      "metadata": {
        "colab": {
          "base_uri": "https://localhost:8080/"
        },
        "id": "V5ZrbnhOMq69",
        "outputId": "295d173e-fda2-41b0-9202-abf22e734669"
      },
      "outputs": [
        {
          "output_type": "stream",
          "name": "stdout",
          "text": [
            "Epoch 1/10\n",
            "6/6 [==============================] - 6s 211ms/step - loss: 0.6943 - accuracy: 0.5059 - val_loss: 0.6911 - val_accuracy: 0.6512\n",
            "Epoch 2/10\n",
            "6/6 [==============================] - 0s 20ms/step - loss: 0.6912 - accuracy: 0.5647 - val_loss: 0.6888 - val_accuracy: 0.6512\n",
            "Epoch 3/10\n",
            "6/6 [==============================] - 0s 17ms/step - loss: 0.6889 - accuracy: 0.5765 - val_loss: 0.6875 - val_accuracy: 0.6512\n",
            "Epoch 4/10\n",
            "6/6 [==============================] - 0s 17ms/step - loss: 0.6910 - accuracy: 0.4941 - val_loss: 0.6845 - val_accuracy: 0.6512\n",
            "Epoch 5/10\n",
            "6/6 [==============================] - 0s 17ms/step - loss: 0.6851 - accuracy: 0.5882 - val_loss: 0.6813 - val_accuracy: 0.6512\n",
            "Epoch 6/10\n",
            "6/6 [==============================] - 0s 16ms/step - loss: 0.6875 - accuracy: 0.5294 - val_loss: 0.6788 - val_accuracy: 0.6512\n",
            "Epoch 7/10\n",
            "6/6 [==============================] - 0s 16ms/step - loss: 0.6944 - accuracy: 0.5412 - val_loss: 0.6768 - val_accuracy: 0.6512\n",
            "Epoch 8/10\n",
            "6/6 [==============================] - 0s 17ms/step - loss: 0.6847 - accuracy: 0.5412 - val_loss: 0.6759 - val_accuracy: 0.6512\n",
            "Epoch 9/10\n",
            "6/6 [==============================] - 0s 15ms/step - loss: 0.6893 - accuracy: 0.5412 - val_loss: 0.6761 - val_accuracy: 0.6512\n",
            "Epoch 10/10\n",
            "6/6 [==============================] - 0s 15ms/step - loss: 0.6835 - accuracy: 0.5412 - val_loss: 0.6763 - val_accuracy: 0.6512\n"
          ]
        },
        {
          "output_type": "execute_result",
          "data": {
            "text/plain": [
              "<keras.src.callbacks.History at 0x781cbc9584f0>"
            ]
          },
          "metadata": {},
          "execution_count": 44
        }
      ],
      "source": [
        "### Finally Training\n",
        "model1.fit(X_train,y_train,validation_data=(X_test,y_test),epochs=10,batch_size=16)"
      ]
    },
    {
      "cell_type": "markdown",
      "metadata": {
        "id": "9BYxBdMlJkyT"
      },
      "source": [
        "Performance Metrics And Accuracy"
      ]
    },
    {
      "cell_type": "code",
      "execution_count": 45,
      "metadata": {
        "colab": {
          "base_uri": "https://localhost:8080/"
        },
        "id": "F6dW7aatKNtr",
        "outputId": "ca625fcf-9ade-4912-9561-06710174b4c8"
      },
      "outputs": [
        {
          "output_type": "stream",
          "name": "stdout",
          "text": [
            "2/2 [==============================] - 1s 8ms/step\n"
          ]
        }
      ],
      "source": [
        "y_pred1 = np.argmax(model1.predict(X_test),axis=1)"
      ]
    },
    {
      "cell_type": "code",
      "execution_count": 46,
      "metadata": {
        "id": "BV7UZ8q8oYk5",
        "colab": {
          "base_uri": "https://localhost:8080/"
        },
        "outputId": "d1d46f0e-582b-4c57-c514-6deabaaa251d"
      },
      "outputs": [
        {
          "output_type": "execute_result",
          "data": {
            "text/plain": [
              "array([0, 0, 0, 0, 0, 0, 0, 0, 0, 0, 0, 0, 0, 0, 0, 0, 0, 0, 0, 0, 0, 0,\n",
              "       0, 0, 0, 0, 0, 0, 0, 0, 0, 0, 0, 0, 0, 0, 0, 0, 0, 0, 0, 0, 0])"
            ]
          },
          "metadata": {},
          "execution_count": 46
        }
      ],
      "source": [
        "y_pred1"
      ]
    },
    {
      "cell_type": "code",
      "execution_count": 47,
      "metadata": {
        "id": "S7QdriRAKg_q"
      },
      "outputs": [],
      "source": [
        "from sklearn.metrics import confusion_matrix"
      ]
    },
    {
      "cell_type": "code",
      "execution_count": 48,
      "metadata": {
        "colab": {
          "base_uri": "https://localhost:8080/"
        },
        "id": "tEN64QvfKmbi",
        "outputId": "54f3a547-f2b8-4261-f14d-2b1cff91e1f0"
      },
      "outputs": [
        {
          "output_type": "execute_result",
          "data": {
            "text/plain": [
              "array([[15,  0],\n",
              "       [28,  0]])"
            ]
          },
          "metadata": {},
          "execution_count": 48
        }
      ],
      "source": [
        "confusion_matrix(y_test,y_pred1)"
      ]
    },
    {
      "cell_type": "code",
      "execution_count": 49,
      "metadata": {
        "colab": {
          "base_uri": "https://localhost:8080/"
        },
        "id": "2TPbfBc-Kym4",
        "outputId": "13b8258b-8420-489e-a371-ffbb9dfa3aaa"
      },
      "outputs": [
        {
          "output_type": "execute_result",
          "data": {
            "text/plain": [
              "0.3488372093023256"
            ]
          },
          "metadata": {},
          "execution_count": 49
        }
      ],
      "source": [
        "from sklearn.metrics import accuracy_score\n",
        "accuracy_score(y_test,y_pred1)"
      ]
    },
    {
      "cell_type": "code",
      "execution_count": 50,
      "metadata": {
        "colab": {
          "base_uri": "https://localhost:8080/"
        },
        "id": "dJCFibL1K5Wa",
        "outputId": "0689a916-9006-441c-8041-eed11ccca18f"
      },
      "outputs": [
        {
          "output_type": "stream",
          "name": "stdout",
          "text": [
            "              precision    recall  f1-score   support\n",
            "\n",
            "           0       0.35      1.00      0.52        15\n",
            "           1       0.00      0.00      0.00        28\n",
            "\n",
            "    accuracy                           0.35        43\n",
            "   macro avg       0.17      0.50      0.26        43\n",
            "weighted avg       0.12      0.35      0.18        43\n",
            "\n"
          ]
        },
        {
          "output_type": "stream",
          "name": "stderr",
          "text": [
            "/usr/local/lib/python3.10/dist-packages/sklearn/metrics/_classification.py:1344: UndefinedMetricWarning: Precision and F-score are ill-defined and being set to 0.0 in labels with no predicted samples. Use `zero_division` parameter to control this behavior.\n",
            "  _warn_prf(average, modifier, msg_start, len(result))\n",
            "/usr/local/lib/python3.10/dist-packages/sklearn/metrics/_classification.py:1344: UndefinedMetricWarning: Precision and F-score are ill-defined and being set to 0.0 in labels with no predicted samples. Use `zero_division` parameter to control this behavior.\n",
            "  _warn_prf(average, modifier, msg_start, len(result))\n",
            "/usr/local/lib/python3.10/dist-packages/sklearn/metrics/_classification.py:1344: UndefinedMetricWarning: Precision and F-score are ill-defined and being set to 0.0 in labels with no predicted samples. Use `zero_division` parameter to control this behavior.\n",
            "  _warn_prf(average, modifier, msg_start, len(result))\n"
          ]
        }
      ],
      "source": [
        "from sklearn.metrics import classification_report\n",
        "print(classification_report(y_test,y_pred1))"
      ]
    },
    {
      "cell_type": "code",
      "source": [
        "def predict_rel(predict_relevance):\n",
        "    concatenated_text = ' '.join(predict_relevance)\n",
        "    onehot_reprr = [one_hot(concatenated_text.lower(), voc_size)]\n",
        "    padded = pad_sequences(onehot_reprr, maxlen=sent_length, padding='pre')\n",
        "    return model1.predict(padded)\n",
        "\n",
        "predict_relevance = [\"nike\", \"Shop Womens Shops: Amazon - Amazon.com Officia...\", \"www.amazon.com/apparel/womens-shops\"]\n",
        "predicted_score = predict_rel(predict_relevance)\n"
      ],
      "metadata": {
        "colab": {
          "base_uri": "https://localhost:8080/"
        },
        "id": "N1_7xHr9zGd4",
        "outputId": "b03f2818-afbb-482a-f7c4-3b42851e8b1e"
      },
      "execution_count": 51,
      "outputs": [
        {
          "output_type": "stream",
          "name": "stdout",
          "text": [
            "1/1 [==============================] - 0s 38ms/step\n"
          ]
        }
      ]
    },
    {
      "cell_type": "code",
      "source": [
        "predicted_score"
      ],
      "metadata": {
        "colab": {
          "base_uri": "https://localhost:8080/"
        },
        "id": "mEvo-onTzqtl",
        "outputId": "3ba19c5a-75c6-4d65-f1cb-b19aca47252e"
      },
      "execution_count": 52,
      "outputs": [
        {
          "output_type": "execute_result",
          "data": {
            "text/plain": [
              "array([[0.52938217]], dtype=float32)"
            ]
          },
          "metadata": {},
          "execution_count": 52
        }
      ]
    }
  ],
  "metadata": {
    "colab": {
      "provenance": []
    },
    "kernelspec": {
      "display_name": "Python 3",
      "name": "python3"
    },
    "language_info": {
      "name": "python"
    }
  },
  "nbformat": 4,
  "nbformat_minor": 0
}