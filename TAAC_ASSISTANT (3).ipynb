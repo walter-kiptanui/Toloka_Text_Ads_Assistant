{
  "cells": [
    {
      "cell_type": "code",
      "execution_count": 1,
      "metadata": {
        "id": "IPbJVQNNLHmx"
      },
      "outputs": [],
      "source": [
        "import pandas as pd"
      ]
    },
    {
      "cell_type": "markdown",
      "source": [
        "## The training data for 'Is the Ad a Good Match to the Search Term' is given. It consists of 15 training instances. That means there are 15 rows. This dataset is small for a machine learning task. However, another dataset will be added during the qualification."
      ],
      "metadata": {
        "id": "JbycNfIGFfLT"
      }
    },
    {
      "cell_type": "code",
      "execution_count": 2,
      "metadata": {
        "id": "sXSZH3y-A-Ir"
      },
      "outputs": [],
      "source": [
        "df= pd.read_csv('taac_assistant_taac.csv')"
      ]
    },
    {
      "cell_type": "code",
      "execution_count": 3,
      "metadata": {
        "colab": {
          "base_uri": "https://localhost:8080/",
          "height": 320
        },
        "id": "VLEUXm_cBsAx",
        "outputId": "d68d7db3-0622-41a2-805c-eebdfea3eb84"
      },
      "outputs": [
        {
          "output_type": "execute_result",
          "data": {
            "text/plain": [
              "   TaskId         User_Search_Term  \\\n",
              "0       1     wwww ncquickpass com   \n",
              "1       2         peloton plano tx   \n",
              "2       3          antelope canyon   \n",
              "3       4  get vaccine after covid   \n",
              "4       5  ahs.com/my-accountlogin   \n",
              "\n",
              "                                                  Ad  \\\n",
              "0               Nc Quick Pass - Pay Your Bill Online   \n",
              "1  Studio Cycle Comparison - Find The Best Exerci...   \n",
              "2  Hotels near Antelope Canyon - 100% Real Custom...   \n",
              "3  Janssen COVID-19 Vaccine - Authorized For Emer...   \n",
              "4  Find First american home warranty login - Chec...   \n",
              "\n",
              "                                         Website Relevance  \n",
              "0                 www.doxo.com/pay/nc-quick-pass     Other  \n",
              "1         www.nordictrack.com/Studio-Cycles/S22i     Other  \n",
              "2         www.booking.com/Antelope-Canyon/Hotels     Other  \n",
              "3                  www.janssencovid19vaccine.com     Other  \n",
              "4  www.searchandshopping.org/Your Search/Results     Other  "
            ],
            "text/html": [
              "\n",
              "\n",
              "  <div id=\"df-ce7ab203-d3fa-469e-a53c-1b6126114e97\">\n",
              "    <div class=\"colab-df-container\">\n",
              "      <div>\n",
              "<style scoped>\n",
              "    .dataframe tbody tr th:only-of-type {\n",
              "        vertical-align: middle;\n",
              "    }\n",
              "\n",
              "    .dataframe tbody tr th {\n",
              "        vertical-align: top;\n",
              "    }\n",
              "\n",
              "    .dataframe thead th {\n",
              "        text-align: right;\n",
              "    }\n",
              "</style>\n",
              "<table border=\"1\" class=\"dataframe\">\n",
              "  <thead>\n",
              "    <tr style=\"text-align: right;\">\n",
              "      <th></th>\n",
              "      <th>TaskId</th>\n",
              "      <th>User_Search_Term</th>\n",
              "      <th>Ad</th>\n",
              "      <th>Website</th>\n",
              "      <th>Relevance</th>\n",
              "    </tr>\n",
              "  </thead>\n",
              "  <tbody>\n",
              "    <tr>\n",
              "      <th>0</th>\n",
              "      <td>1</td>\n",
              "      <td>wwww ncquickpass com</td>\n",
              "      <td>Nc Quick Pass - Pay Your Bill Online</td>\n",
              "      <td>www.doxo.com/pay/nc-quick-pass</td>\n",
              "      <td>Other</td>\n",
              "    </tr>\n",
              "    <tr>\n",
              "      <th>1</th>\n",
              "      <td>2</td>\n",
              "      <td>peloton plano tx</td>\n",
              "      <td>Studio Cycle Comparison - Find The Best Exerci...</td>\n",
              "      <td>www.nordictrack.com/Studio-Cycles/S22i</td>\n",
              "      <td>Other</td>\n",
              "    </tr>\n",
              "    <tr>\n",
              "      <th>2</th>\n",
              "      <td>3</td>\n",
              "      <td>antelope canyon</td>\n",
              "      <td>Hotels near Antelope Canyon - 100% Real Custom...</td>\n",
              "      <td>www.booking.com/Antelope-Canyon/Hotels</td>\n",
              "      <td>Other</td>\n",
              "    </tr>\n",
              "    <tr>\n",
              "      <th>3</th>\n",
              "      <td>4</td>\n",
              "      <td>get vaccine after covid</td>\n",
              "      <td>Janssen COVID-19 Vaccine - Authorized For Emer...</td>\n",
              "      <td>www.janssencovid19vaccine.com</td>\n",
              "      <td>Other</td>\n",
              "    </tr>\n",
              "    <tr>\n",
              "      <th>4</th>\n",
              "      <td>5</td>\n",
              "      <td>ahs.com/my-accountlogin</td>\n",
              "      <td>Find First american home warranty login - Chec...</td>\n",
              "      <td>www.searchandshopping.org/Your Search/Results</td>\n",
              "      <td>Other</td>\n",
              "    </tr>\n",
              "  </tbody>\n",
              "</table>\n",
              "</div>\n",
              "      <button class=\"colab-df-convert\" onclick=\"convertToInteractive('df-ce7ab203-d3fa-469e-a53c-1b6126114e97')\"\n",
              "              title=\"Convert this dataframe to an interactive table.\"\n",
              "              style=\"display:none;\">\n",
              "\n",
              "  <svg xmlns=\"http://www.w3.org/2000/svg\" height=\"24px\"viewBox=\"0 0 24 24\"\n",
              "       width=\"24px\">\n",
              "    <path d=\"M0 0h24v24H0V0z\" fill=\"none\"/>\n",
              "    <path d=\"M18.56 5.44l.94 2.06.94-2.06 2.06-.94-2.06-.94-.94-2.06-.94 2.06-2.06.94zm-11 1L8.5 8.5l.94-2.06 2.06-.94-2.06-.94L8.5 2.5l-.94 2.06-2.06.94zm10 10l.94 2.06.94-2.06 2.06-.94-2.06-.94-.94-2.06-.94 2.06-2.06.94z\"/><path d=\"M17.41 7.96l-1.37-1.37c-.4-.4-.92-.59-1.43-.59-.52 0-1.04.2-1.43.59L10.3 9.45l-7.72 7.72c-.78.78-.78 2.05 0 2.83L4 21.41c.39.39.9.59 1.41.59.51 0 1.02-.2 1.41-.59l7.78-7.78 2.81-2.81c.8-.78.8-2.07 0-2.86zM5.41 20L4 18.59l7.72-7.72 1.47 1.35L5.41 20z\"/>\n",
              "  </svg>\n",
              "      </button>\n",
              "\n",
              "\n",
              "\n",
              "    <div id=\"df-29ea6889-5b0c-4fad-bc8b-1dcc3b047016\">\n",
              "      <button class=\"colab-df-quickchart\" onclick=\"quickchart('df-29ea6889-5b0c-4fad-bc8b-1dcc3b047016')\"\n",
              "              title=\"Suggest charts.\"\n",
              "              style=\"display:none;\">\n",
              "\n",
              "<svg xmlns=\"http://www.w3.org/2000/svg\" height=\"24px\"viewBox=\"0 0 24 24\"\n",
              "     width=\"24px\">\n",
              "    <g>\n",
              "        <path d=\"M19 3H5c-1.1 0-2 .9-2 2v14c0 1.1.9 2 2 2h14c1.1 0 2-.9 2-2V5c0-1.1-.9-2-2-2zM9 17H7v-7h2v7zm4 0h-2V7h2v10zm4 0h-2v-4h2v4z\"/>\n",
              "    </g>\n",
              "</svg>\n",
              "      </button>\n",
              "    </div>\n",
              "\n",
              "<style>\n",
              "  .colab-df-quickchart {\n",
              "    background-color: #E8F0FE;\n",
              "    border: none;\n",
              "    border-radius: 50%;\n",
              "    cursor: pointer;\n",
              "    display: none;\n",
              "    fill: #1967D2;\n",
              "    height: 32px;\n",
              "    padding: 0 0 0 0;\n",
              "    width: 32px;\n",
              "  }\n",
              "\n",
              "  .colab-df-quickchart:hover {\n",
              "    background-color: #E2EBFA;\n",
              "    box-shadow: 0px 1px 2px rgba(60, 64, 67, 0.3), 0px 1px 3px 1px rgba(60, 64, 67, 0.15);\n",
              "    fill: #174EA6;\n",
              "  }\n",
              "\n",
              "  [theme=dark] .colab-df-quickchart {\n",
              "    background-color: #3B4455;\n",
              "    fill: #D2E3FC;\n",
              "  }\n",
              "\n",
              "  [theme=dark] .colab-df-quickchart:hover {\n",
              "    background-color: #434B5C;\n",
              "    box-shadow: 0px 1px 3px 1px rgba(0, 0, 0, 0.15);\n",
              "    filter: drop-shadow(0px 1px 2px rgba(0, 0, 0, 0.3));\n",
              "    fill: #FFFFFF;\n",
              "  }\n",
              "</style>\n",
              "\n",
              "    <script>\n",
              "      async function quickchart(key) {\n",
              "        const containerElement = document.querySelector('#' + key);\n",
              "        const charts = await google.colab.kernel.invokeFunction(\n",
              "            'suggestCharts', [key], {});\n",
              "      }\n",
              "    </script>\n",
              "\n",
              "      <script>\n",
              "\n",
              "function displayQuickchartButton(domScope) {\n",
              "  let quickchartButtonEl =\n",
              "    domScope.querySelector('#df-29ea6889-5b0c-4fad-bc8b-1dcc3b047016 button.colab-df-quickchart');\n",
              "  quickchartButtonEl.style.display =\n",
              "    google.colab.kernel.accessAllowed ? 'block' : 'none';\n",
              "}\n",
              "\n",
              "        displayQuickchartButton(document);\n",
              "      </script>\n",
              "      <style>\n",
              "    .colab-df-container {\n",
              "      display:flex;\n",
              "      flex-wrap:wrap;\n",
              "      gap: 12px;\n",
              "    }\n",
              "\n",
              "    .colab-df-convert {\n",
              "      background-color: #E8F0FE;\n",
              "      border: none;\n",
              "      border-radius: 50%;\n",
              "      cursor: pointer;\n",
              "      display: none;\n",
              "      fill: #1967D2;\n",
              "      height: 32px;\n",
              "      padding: 0 0 0 0;\n",
              "      width: 32px;\n",
              "    }\n",
              "\n",
              "    .colab-df-convert:hover {\n",
              "      background-color: #E2EBFA;\n",
              "      box-shadow: 0px 1px 2px rgba(60, 64, 67, 0.3), 0px 1px 3px 1px rgba(60, 64, 67, 0.15);\n",
              "      fill: #174EA6;\n",
              "    }\n",
              "\n",
              "    [theme=dark] .colab-df-convert {\n",
              "      background-color: #3B4455;\n",
              "      fill: #D2E3FC;\n",
              "    }\n",
              "\n",
              "    [theme=dark] .colab-df-convert:hover {\n",
              "      background-color: #434B5C;\n",
              "      box-shadow: 0px 1px 3px 1px rgba(0, 0, 0, 0.15);\n",
              "      filter: drop-shadow(0px 1px 2px rgba(0, 0, 0, 0.3));\n",
              "      fill: #FFFFFF;\n",
              "    }\n",
              "  </style>\n",
              "\n",
              "      <script>\n",
              "        const buttonEl =\n",
              "          document.querySelector('#df-ce7ab203-d3fa-469e-a53c-1b6126114e97 button.colab-df-convert');\n",
              "        buttonEl.style.display =\n",
              "          google.colab.kernel.accessAllowed ? 'block' : 'none';\n",
              "\n",
              "        async function convertToInteractive(key) {\n",
              "          const element = document.querySelector('#df-ce7ab203-d3fa-469e-a53c-1b6126114e97');\n",
              "          const dataTable =\n",
              "            await google.colab.kernel.invokeFunction('convertToInteractive',\n",
              "                                                     [key], {});\n",
              "          if (!dataTable) return;\n",
              "\n",
              "          const docLinkHtml = 'Like what you see? Visit the ' +\n",
              "            '<a target=\"_blank\" href=https://colab.research.google.com/notebooks/data_table.ipynb>data table notebook</a>'\n",
              "            + ' to learn more about interactive tables.';\n",
              "          element.innerHTML = '';\n",
              "          dataTable['output_type'] = 'display_data';\n",
              "          await google.colab.output.renderOutput(dataTable, element);\n",
              "          const docLink = document.createElement('div');\n",
              "          docLink.innerHTML = docLinkHtml;\n",
              "          element.appendChild(docLink);\n",
              "        }\n",
              "      </script>\n",
              "    </div>\n",
              "  </div>\n"
            ]
          },
          "metadata": {},
          "execution_count": 3
        }
      ],
      "source": [
        "df.head()"
      ]
    },
    {
      "cell_type": "code",
      "execution_count": 4,
      "metadata": {
        "colab": {
          "base_uri": "https://localhost:8080/",
          "height": 528
        },
        "id": "s2PCQyD6FsIj",
        "outputId": "215f1c3c-4488-4cf1-b6ba-e4dca84a9da5"
      },
      "outputs": [
        {
          "output_type": "execute_result",
          "data": {
            "text/plain": [
              "   TaskId          User_Search_Term  \\\n",
              "0       1      wwww ncquickpass com   \n",
              "1       2          peloton plano tx   \n",
              "2       3           antelope canyon   \n",
              "3       4   get vaccine after covid   \n",
              "4       5   ahs.com/my-accountlogin   \n",
              "5       6                      nike   \n",
              "6       7               cfl fixture   \n",
              "7       8  nationwide pet insurance   \n",
              "8       9                      nike   \n",
              "9      10                 used cars   \n",
              "\n",
              "                                                  Ad  \\\n",
              "0               Nc Quick Pass - Pay Your Bill Online   \n",
              "1  Studio Cycle Comparison - Find The Best Exerci...   \n",
              "2  Hotels near Antelope Canyon - 100% Real Custom...   \n",
              "3  Janssen COVID-19 Vaccine - Authorized For Emer...   \n",
              "4  Find First american home warranty login - Chec...   \n",
              "5  Shop Womens Shops: Amazon - Amazon.com Officia...   \n",
              "6                             Flashlight Accessories   \n",
              "7  2021's Top 10 Pet Insurance - Buyer's Guide (N...   \n",
              "8  Nike Official Site - Just Do It - Shop The Lat...   \n",
              "9  CarMax Used Cars - Visit carmax.com - Large Na...   \n",
              "\n",
              "                                         Website  Relevance  \n",
              "0                 www.doxo.com/pay/nc-quick-pass          0  \n",
              "1         www.nordictrack.com/Studio-Cycles/S22i          0  \n",
              "2         www.booking.com/Antelope-Canyon/Hotels          0  \n",
              "3                  www.janssencovid19vaccine.com          0  \n",
              "4  www.searchandshopping.org/Your Search/Results          0  \n",
              "5            www.amazon.com/apparel/womens-shops          1  \n",
              "6                   www.Grainfer.com/Flashlights          0  \n",
              "7                  buyersguide.org/Pet-Insurance          1  \n",
              "8                                   www.nike.com          1  \n",
              "9                            www.carmax.com/cars          1  "
            ],
            "text/html": [
              "\n",
              "\n",
              "  <div id=\"df-4720a45a-0190-4c07-842e-41a57e0877f9\">\n",
              "    <div class=\"colab-df-container\">\n",
              "      <div>\n",
              "<style scoped>\n",
              "    .dataframe tbody tr th:only-of-type {\n",
              "        vertical-align: middle;\n",
              "    }\n",
              "\n",
              "    .dataframe tbody tr th {\n",
              "        vertical-align: top;\n",
              "    }\n",
              "\n",
              "    .dataframe thead th {\n",
              "        text-align: right;\n",
              "    }\n",
              "</style>\n",
              "<table border=\"1\" class=\"dataframe\">\n",
              "  <thead>\n",
              "    <tr style=\"text-align: right;\">\n",
              "      <th></th>\n",
              "      <th>TaskId</th>\n",
              "      <th>User_Search_Term</th>\n",
              "      <th>Ad</th>\n",
              "      <th>Website</th>\n",
              "      <th>Relevance</th>\n",
              "    </tr>\n",
              "  </thead>\n",
              "  <tbody>\n",
              "    <tr>\n",
              "      <th>0</th>\n",
              "      <td>1</td>\n",
              "      <td>wwww ncquickpass com</td>\n",
              "      <td>Nc Quick Pass - Pay Your Bill Online</td>\n",
              "      <td>www.doxo.com/pay/nc-quick-pass</td>\n",
              "      <td>0</td>\n",
              "    </tr>\n",
              "    <tr>\n",
              "      <th>1</th>\n",
              "      <td>2</td>\n",
              "      <td>peloton plano tx</td>\n",
              "      <td>Studio Cycle Comparison - Find The Best Exerci...</td>\n",
              "      <td>www.nordictrack.com/Studio-Cycles/S22i</td>\n",
              "      <td>0</td>\n",
              "    </tr>\n",
              "    <tr>\n",
              "      <th>2</th>\n",
              "      <td>3</td>\n",
              "      <td>antelope canyon</td>\n",
              "      <td>Hotels near Antelope Canyon - 100% Real Custom...</td>\n",
              "      <td>www.booking.com/Antelope-Canyon/Hotels</td>\n",
              "      <td>0</td>\n",
              "    </tr>\n",
              "    <tr>\n",
              "      <th>3</th>\n",
              "      <td>4</td>\n",
              "      <td>get vaccine after covid</td>\n",
              "      <td>Janssen COVID-19 Vaccine - Authorized For Emer...</td>\n",
              "      <td>www.janssencovid19vaccine.com</td>\n",
              "      <td>0</td>\n",
              "    </tr>\n",
              "    <tr>\n",
              "      <th>4</th>\n",
              "      <td>5</td>\n",
              "      <td>ahs.com/my-accountlogin</td>\n",
              "      <td>Find First american home warranty login - Chec...</td>\n",
              "      <td>www.searchandshopping.org/Your Search/Results</td>\n",
              "      <td>0</td>\n",
              "    </tr>\n",
              "    <tr>\n",
              "      <th>5</th>\n",
              "      <td>6</td>\n",
              "      <td>nike</td>\n",
              "      <td>Shop Womens Shops: Amazon - Amazon.com Officia...</td>\n",
              "      <td>www.amazon.com/apparel/womens-shops</td>\n",
              "      <td>1</td>\n",
              "    </tr>\n",
              "    <tr>\n",
              "      <th>6</th>\n",
              "      <td>7</td>\n",
              "      <td>cfl fixture</td>\n",
              "      <td>Flashlight Accessories</td>\n",
              "      <td>www.Grainfer.com/Flashlights</td>\n",
              "      <td>0</td>\n",
              "    </tr>\n",
              "    <tr>\n",
              "      <th>7</th>\n",
              "      <td>8</td>\n",
              "      <td>nationwide pet insurance</td>\n",
              "      <td>2021's Top 10 Pet Insurance - Buyer's Guide (N...</td>\n",
              "      <td>buyersguide.org/Pet-Insurance</td>\n",
              "      <td>1</td>\n",
              "    </tr>\n",
              "    <tr>\n",
              "      <th>8</th>\n",
              "      <td>9</td>\n",
              "      <td>nike</td>\n",
              "      <td>Nike Official Site - Just Do It - Shop The Lat...</td>\n",
              "      <td>www.nike.com</td>\n",
              "      <td>1</td>\n",
              "    </tr>\n",
              "    <tr>\n",
              "      <th>9</th>\n",
              "      <td>10</td>\n",
              "      <td>used cars</td>\n",
              "      <td>CarMax Used Cars - Visit carmax.com - Large Na...</td>\n",
              "      <td>www.carmax.com/cars</td>\n",
              "      <td>1</td>\n",
              "    </tr>\n",
              "  </tbody>\n",
              "</table>\n",
              "</div>\n",
              "      <button class=\"colab-df-convert\" onclick=\"convertToInteractive('df-4720a45a-0190-4c07-842e-41a57e0877f9')\"\n",
              "              title=\"Convert this dataframe to an interactive table.\"\n",
              "              style=\"display:none;\">\n",
              "\n",
              "  <svg xmlns=\"http://www.w3.org/2000/svg\" height=\"24px\"viewBox=\"0 0 24 24\"\n",
              "       width=\"24px\">\n",
              "    <path d=\"M0 0h24v24H0V0z\" fill=\"none\"/>\n",
              "    <path d=\"M18.56 5.44l.94 2.06.94-2.06 2.06-.94-2.06-.94-.94-2.06-.94 2.06-2.06.94zm-11 1L8.5 8.5l.94-2.06 2.06-.94-2.06-.94L8.5 2.5l-.94 2.06-2.06.94zm10 10l.94 2.06.94-2.06 2.06-.94-2.06-.94-.94-2.06-.94 2.06-2.06.94z\"/><path d=\"M17.41 7.96l-1.37-1.37c-.4-.4-.92-.59-1.43-.59-.52 0-1.04.2-1.43.59L10.3 9.45l-7.72 7.72c-.78.78-.78 2.05 0 2.83L4 21.41c.39.39.9.59 1.41.59.51 0 1.02-.2 1.41-.59l7.78-7.78 2.81-2.81c.8-.78.8-2.07 0-2.86zM5.41 20L4 18.59l7.72-7.72 1.47 1.35L5.41 20z\"/>\n",
              "  </svg>\n",
              "      </button>\n",
              "\n",
              "\n",
              "\n",
              "    <div id=\"df-ed1994f8-7a72-4725-89d0-d7f94f78ed9e\">\n",
              "      <button class=\"colab-df-quickchart\" onclick=\"quickchart('df-ed1994f8-7a72-4725-89d0-d7f94f78ed9e')\"\n",
              "              title=\"Suggest charts.\"\n",
              "              style=\"display:none;\">\n",
              "\n",
              "<svg xmlns=\"http://www.w3.org/2000/svg\" height=\"24px\"viewBox=\"0 0 24 24\"\n",
              "     width=\"24px\">\n",
              "    <g>\n",
              "        <path d=\"M19 3H5c-1.1 0-2 .9-2 2v14c0 1.1.9 2 2 2h14c1.1 0 2-.9 2-2V5c0-1.1-.9-2-2-2zM9 17H7v-7h2v7zm4 0h-2V7h2v10zm4 0h-2v-4h2v4z\"/>\n",
              "    </g>\n",
              "</svg>\n",
              "      </button>\n",
              "    </div>\n",
              "\n",
              "<style>\n",
              "  .colab-df-quickchart {\n",
              "    background-color: #E8F0FE;\n",
              "    border: none;\n",
              "    border-radius: 50%;\n",
              "    cursor: pointer;\n",
              "    display: none;\n",
              "    fill: #1967D2;\n",
              "    height: 32px;\n",
              "    padding: 0 0 0 0;\n",
              "    width: 32px;\n",
              "  }\n",
              "\n",
              "  .colab-df-quickchart:hover {\n",
              "    background-color: #E2EBFA;\n",
              "    box-shadow: 0px 1px 2px rgba(60, 64, 67, 0.3), 0px 1px 3px 1px rgba(60, 64, 67, 0.15);\n",
              "    fill: #174EA6;\n",
              "  }\n",
              "\n",
              "  [theme=dark] .colab-df-quickchart {\n",
              "    background-color: #3B4455;\n",
              "    fill: #D2E3FC;\n",
              "  }\n",
              "\n",
              "  [theme=dark] .colab-df-quickchart:hover {\n",
              "    background-color: #434B5C;\n",
              "    box-shadow: 0px 1px 3px 1px rgba(0, 0, 0, 0.15);\n",
              "    filter: drop-shadow(0px 1px 2px rgba(0, 0, 0, 0.3));\n",
              "    fill: #FFFFFF;\n",
              "  }\n",
              "</style>\n",
              "\n",
              "    <script>\n",
              "      async function quickchart(key) {\n",
              "        const containerElement = document.querySelector('#' + key);\n",
              "        const charts = await google.colab.kernel.invokeFunction(\n",
              "            'suggestCharts', [key], {});\n",
              "      }\n",
              "    </script>\n",
              "\n",
              "      <script>\n",
              "\n",
              "function displayQuickchartButton(domScope) {\n",
              "  let quickchartButtonEl =\n",
              "    domScope.querySelector('#df-ed1994f8-7a72-4725-89d0-d7f94f78ed9e button.colab-df-quickchart');\n",
              "  quickchartButtonEl.style.display =\n",
              "    google.colab.kernel.accessAllowed ? 'block' : 'none';\n",
              "}\n",
              "\n",
              "        displayQuickchartButton(document);\n",
              "      </script>\n",
              "      <style>\n",
              "    .colab-df-container {\n",
              "      display:flex;\n",
              "      flex-wrap:wrap;\n",
              "      gap: 12px;\n",
              "    }\n",
              "\n",
              "    .colab-df-convert {\n",
              "      background-color: #E8F0FE;\n",
              "      border: none;\n",
              "      border-radius: 50%;\n",
              "      cursor: pointer;\n",
              "      display: none;\n",
              "      fill: #1967D2;\n",
              "      height: 32px;\n",
              "      padding: 0 0 0 0;\n",
              "      width: 32px;\n",
              "    }\n",
              "\n",
              "    .colab-df-convert:hover {\n",
              "      background-color: #E2EBFA;\n",
              "      box-shadow: 0px 1px 2px rgba(60, 64, 67, 0.3), 0px 1px 3px 1px rgba(60, 64, 67, 0.15);\n",
              "      fill: #174EA6;\n",
              "    }\n",
              "\n",
              "    [theme=dark] .colab-df-convert {\n",
              "      background-color: #3B4455;\n",
              "      fill: #D2E3FC;\n",
              "    }\n",
              "\n",
              "    [theme=dark] .colab-df-convert:hover {\n",
              "      background-color: #434B5C;\n",
              "      box-shadow: 0px 1px 3px 1px rgba(0, 0, 0, 0.15);\n",
              "      filter: drop-shadow(0px 1px 2px rgba(0, 0, 0, 0.3));\n",
              "      fill: #FFFFFF;\n",
              "    }\n",
              "  </style>\n",
              "\n",
              "      <script>\n",
              "        const buttonEl =\n",
              "          document.querySelector('#df-4720a45a-0190-4c07-842e-41a57e0877f9 button.colab-df-convert');\n",
              "        buttonEl.style.display =\n",
              "          google.colab.kernel.accessAllowed ? 'block' : 'none';\n",
              "\n",
              "        async function convertToInteractive(key) {\n",
              "          const element = document.querySelector('#df-4720a45a-0190-4c07-842e-41a57e0877f9');\n",
              "          const dataTable =\n",
              "            await google.colab.kernel.invokeFunction('convertToInteractive',\n",
              "                                                     [key], {});\n",
              "          if (!dataTable) return;\n",
              "\n",
              "          const docLinkHtml = 'Like what you see? Visit the ' +\n",
              "            '<a target=\"_blank\" href=https://colab.research.google.com/notebooks/data_table.ipynb>data table notebook</a>'\n",
              "            + ' to learn more about interactive tables.';\n",
              "          element.innerHTML = '';\n",
              "          dataTable['output_type'] = 'display_data';\n",
              "          await google.colab.output.renderOutput(dataTable, element);\n",
              "          const docLink = document.createElement('div');\n",
              "          docLink.innerHTML = docLinkHtml;\n",
              "          element.appendChild(docLink);\n",
              "        }\n",
              "      </script>\n",
              "    </div>\n",
              "  </div>\n"
            ]
          },
          "metadata": {},
          "execution_count": 4
        }
      ],
      "source": [
        "#Converting the Relevance to numerical values to enable analysis\n",
        "#Convert Relevance to numerical\n",
        "mapping = {\n",
        "    'Good' : 1,\n",
        "    'Other' : 0,\n",
        "}\n",
        "df['Relevance'] = df['Relevance'].replace(mapping)\n",
        "df.head(10)"
      ]
    },
    {
      "cell_type": "code",
      "execution_count": 5,
      "metadata": {
        "id": "nNLDGGhOGI4E"
      },
      "outputs": [],
      "source": [
        "## Get the Independent Features\n",
        "\n",
        "X=df.drop(columns =['TaskId', 'Relevance'])"
      ]
    },
    {
      "cell_type": "code",
      "execution_count": 6,
      "metadata": {
        "id": "CnkK9yoDGVf_"
      },
      "outputs": [],
      "source": [
        "## Get the Dependent features\n",
        "y=df['Relevance']"
      ]
    },
    {
      "cell_type": "code",
      "execution_count": 7,
      "metadata": {
        "colab": {
          "base_uri": "https://localhost:8080/"
        },
        "id": "ZYPpBYsbGdV1",
        "outputId": "f9892574-8e60-4451-a284-c36b89a37bd2"
      },
      "outputs": [
        {
          "output_type": "execute_result",
          "data": {
            "text/plain": [
              "1    8\n",
              "0    7\n",
              "Name: Relevance, dtype: int64"
            ]
          },
          "metadata": {},
          "execution_count": 7
        }
      ],
      "source": [
        "y.value_counts()"
      ]
    },
    {
      "cell_type": "markdown",
      "source": [],
      "metadata": {
        "id": "eo8Gu-8MIiE4"
      }
    },
    {
      "cell_type": "code",
      "source": [
        "#It can be seen that the data is generally balanced"
      ],
      "metadata": {
        "id": "aCavOPwFIjfo"
      },
      "execution_count": 8,
      "outputs": []
    },
    {
      "cell_type": "code",
      "execution_count": 9,
      "metadata": {
        "colab": {
          "base_uri": "https://localhost:8080/"
        },
        "id": "AkvNzD3RGrR4",
        "outputId": "bb5c3251-0d14-4b1a-e661-0bae52b13a13"
      },
      "outputs": [
        {
          "output_type": "execute_result",
          "data": {
            "text/plain": [
              "(15, 3)"
            ]
          },
          "metadata": {},
          "execution_count": 9
        }
      ],
      "source": [
        "X.shape"
      ]
    },
    {
      "cell_type": "code",
      "execution_count": 10,
      "metadata": {
        "colab": {
          "base_uri": "https://localhost:8080/"
        },
        "id": "QjwpxKlRHwYp",
        "outputId": "ccfc890d-a089-4d55-b3ea-746932193587"
      },
      "outputs": [
        {
          "output_type": "execute_result",
          "data": {
            "text/plain": [
              "(15,)"
            ]
          },
          "metadata": {},
          "execution_count": 10
        }
      ],
      "source": [
        "y.shape"
      ]
    },
    {
      "cell_type": "code",
      "execution_count": 11,
      "metadata": {
        "id": "eP04tsIXH2yQ"
      },
      "outputs": [],
      "source": [
        "import tensorflow as tf"
      ]
    },
    {
      "cell_type": "code",
      "execution_count": 12,
      "metadata": {
        "colab": {
          "base_uri": "https://localhost:8080/",
          "height": 35
        },
        "id": "faQYG8jjH_H-",
        "outputId": "05c7abad-7565-48a8-d891-dbadfeb2f852"
      },
      "outputs": [
        {
          "output_type": "execute_result",
          "data": {
            "text/plain": [
              "'2.12.0'"
            ],
            "application/vnd.google.colaboratory.intrinsic+json": {
              "type": "string"
            }
          },
          "metadata": {},
          "execution_count": 12
        }
      ],
      "source": [
        "tf.__version__"
      ]
    },
    {
      "cell_type": "code",
      "execution_count": 13,
      "metadata": {
        "id": "tzDNgB7uIL6Y"
      },
      "outputs": [],
      "source": [
        "from tensorflow.keras.layers import Embedding\n",
        "from tensorflow.keras.preprocessing.sequence import pad_sequences\n",
        "from tensorflow.keras.models import Sequential\n",
        "from tensorflow.keras.preprocessing.text import one_hot\n",
        "from tensorflow.keras.layers import LSTM\n",
        "from tensorflow.keras.layers import Dense\n",
        "from tensorflow.keras.layers import Bidirectional\n",
        "from tensorflow.keras.layers import Dropout"
      ]
    },
    {
      "cell_type": "code",
      "execution_count": 14,
      "metadata": {
        "id": "sBWarW7NIPIi"
      },
      "outputs": [],
      "source": [
        "### Vocabulary size\n",
        "voc_size=10"
      ]
    },
    {
      "cell_type": "markdown",
      "metadata": {
        "id": "2WZbsNhjIzc-"
      },
      "source": [
        "Onehot Representation"
      ]
    },
    {
      "cell_type": "code",
      "execution_count": 15,
      "metadata": {
        "id": "DujLnc4NI_WU"
      },
      "outputs": [],
      "source": [
        "messages=X.copy()"
      ]
    },
    {
      "cell_type": "code",
      "execution_count": 16,
      "metadata": {
        "colab": {
          "base_uri": "https://localhost:8080/",
          "height": 35
        },
        "id": "1TQWbb2vJH-8",
        "outputId": "e4b0c1af-baa2-420c-915c-9f1624308dbc"
      },
      "outputs": [
        {
          "output_type": "execute_result",
          "data": {
            "text/plain": [
              "'peloton plano tx'"
            ],
            "application/vnd.google.colaboratory.intrinsic+json": {
              "type": "string"
            }
          },
          "metadata": {},
          "execution_count": 16
        }
      ],
      "source": [
        "messages['User_Search_Term'][1]"
      ]
    },
    {
      "cell_type": "code",
      "source": [
        "messages['Ad'][1]"
      ],
      "metadata": {
        "colab": {
          "base_uri": "https://localhost:8080/",
          "height": 35
        },
        "id": "fNuykS-tzm9w",
        "outputId": "b0e725f6-7068-455a-e0d6-6f491ea7560a"
      },
      "execution_count": 17,
      "outputs": [
        {
          "output_type": "execute_result",
          "data": {
            "text/plain": [
              "'Studio Cycle Comparison - Find The Best Exercise Bike - NordicTrack Official Site'"
            ],
            "application/vnd.google.colaboratory.intrinsic+json": {
              "type": "string"
            }
          },
          "metadata": {},
          "execution_count": 17
        }
      ]
    },
    {
      "cell_type": "code",
      "execution_count": 18,
      "metadata": {
        "id": "ohYij27EJfMa"
      },
      "outputs": [],
      "source": [
        "messages.reset_index(inplace=True)"
      ]
    },
    {
      "cell_type": "code",
      "execution_count": 19,
      "metadata": {
        "id": "rLDNXtokJrPI"
      },
      "outputs": [],
      "source": [
        "import nltk\n",
        "import re\n",
        "from nltk.corpus import stopwords"
      ]
    },
    {
      "cell_type": "code",
      "execution_count": 20,
      "metadata": {
        "colab": {
          "base_uri": "https://localhost:8080/"
        },
        "id": "dqLaPzp9Jwv4",
        "outputId": "e176999a-b693-44af-db72-4156b4c2488b"
      },
      "outputs": [
        {
          "output_type": "stream",
          "name": "stderr",
          "text": [
            "[nltk_data] Downloading package stopwords to /root/nltk_data...\n",
            "[nltk_data]   Unzipping corpora/stopwords.zip.\n"
          ]
        },
        {
          "output_type": "execute_result",
          "data": {
            "text/plain": [
              "True"
            ]
          },
          "metadata": {},
          "execution_count": 20
        }
      ],
      "source": [
        "nltk.download('stopwords')"
      ]
    },
    {
      "cell_type": "code",
      "execution_count": 21,
      "metadata": {
        "colab": {
          "base_uri": "https://localhost:8080/"
        },
        "id": "cqVGeUsjJ6kO",
        "outputId": "6107f566-f7e0-49ef-c393-ba9c5653cb73"
      },
      "outputs": [
        {
          "output_type": "stream",
          "name": "stdout",
          "text": [
            "0\n",
            "1\n",
            "2\n",
            "3\n",
            "4\n",
            "5\n",
            "6\n",
            "7\n",
            "8\n",
            "9\n",
            "10\n",
            "11\n",
            "12\n",
            "13\n",
            "14\n"
          ]
        }
      ],
      "source": [
        "### Dataset Preprocessing\n",
        "from nltk.stem.porter import PorterStemmer\n",
        "ps = PorterStemmer()\n",
        "corpus = []\n",
        "for i in range(0, len(messages)):\n",
        "    print(i)\n",
        "    review = re.sub('[^a-zA-Z]', ' ', messages['User_Search_Term'][i])\n",
        "    review = review.lower()\n",
        "    review = review.split()\n",
        "\n",
        "    review = [ps.stem(word) for word in review if not word in stopwords.words('english')]\n",
        "    review = ' '.join(review)\n",
        "    corpus.append(review)"
      ]
    },
    {
      "cell_type": "code",
      "execution_count": 22,
      "metadata": {
        "colab": {
          "base_uri": "https://localhost:8080/"
        },
        "id": "f5uzyFzWKkPA",
        "outputId": "1c73d42b-e36c-4a7f-c1e9-5f8ab8c2f593"
      },
      "outputs": [
        {
          "output_type": "execute_result",
          "data": {
            "text/plain": [
              "['wwww ncquickpass com',\n",
              " 'peloton plano tx',\n",
              " 'antelop canyon',\n",
              " 'get vaccin covid',\n",
              " 'ah com accountlogin',\n",
              " 'nike',\n",
              " 'cfl fixtur',\n",
              " 'nationwid pet insur',\n",
              " 'nike',\n",
              " 'use car',\n",
              " 'car rental lubbock tx',\n",
              " 'augusta tech adn',\n",
              " 'hampton inn guntersvil al',\n",
              " 'white strip',\n",
              " 'florist laguna beach']"
            ]
          },
          "metadata": {},
          "execution_count": 22
        }
      ],
      "source": [
        "corpus"
      ]
    },
    {
      "cell_type": "code",
      "execution_count": 23,
      "metadata": {
        "colab": {
          "base_uri": "https://localhost:8080/"
        },
        "id": "fbVv9Pp1K5Yr",
        "outputId": "32c581bb-ce07-46dd-fd1a-f4b6a67e7e2a"
      },
      "outputs": [
        {
          "output_type": "execute_result",
          "data": {
            "text/plain": [
              "[[7, 1, 9],\n",
              " [8, 1, 5],\n",
              " [2, 1],\n",
              " [7, 6, 5],\n",
              " [8, 9, 3],\n",
              " [9],\n",
              " [4, 5],\n",
              " [7, 8, 9],\n",
              " [9],\n",
              " [6, 7],\n",
              " [7, 8, 5, 5],\n",
              " [4, 6, 2],\n",
              " [6, 9, 1, 3],\n",
              " [4, 7],\n",
              " [2, 2, 2]]"
            ]
          },
          "metadata": {},
          "execution_count": 23
        }
      ],
      "source": [
        "onehot_repr=[one_hot(words,voc_size)for words in corpus]\n",
        "onehot_repr"
      ]
    },
    {
      "cell_type": "markdown",
      "metadata": {
        "id": "G4MI8Ik7Lb1q"
      },
      "source": [
        "Embedding Representation"
      ]
    },
    {
      "cell_type": "code",
      "execution_count": 24,
      "metadata": {
        "colab": {
          "base_uri": "https://localhost:8080/"
        },
        "id": "H91ukOZsLeO9",
        "outputId": "dfc264f1-aa20-4d38-e0ad-853b278a2afd"
      },
      "outputs": [
        {
          "output_type": "stream",
          "name": "stdout",
          "text": [
            "[[0 0 0 0 0 0 0 7 1 9]\n",
            " [0 0 0 0 0 0 0 8 1 5]\n",
            " [0 0 0 0 0 0 0 0 2 1]\n",
            " [0 0 0 0 0 0 0 7 6 5]\n",
            " [0 0 0 0 0 0 0 8 9 3]\n",
            " [0 0 0 0 0 0 0 0 0 9]\n",
            " [0 0 0 0 0 0 0 0 4 5]\n",
            " [0 0 0 0 0 0 0 7 8 9]\n",
            " [0 0 0 0 0 0 0 0 0 9]\n",
            " [0 0 0 0 0 0 0 0 6 7]\n",
            " [0 0 0 0 0 0 7 8 5 5]\n",
            " [0 0 0 0 0 0 0 4 6 2]\n",
            " [0 0 0 0 0 0 6 9 1 3]\n",
            " [0 0 0 0 0 0 0 0 4 7]\n",
            " [0 0 0 0 0 0 0 2 2 2]]\n"
          ]
        }
      ],
      "source": [
        "sent_length=10\n",
        "embedded_docs=pad_sequences(onehot_repr,padding='pre',maxlen=sent_length)\n",
        "print(embedded_docs)"
      ]
    },
    {
      "cell_type": "code",
      "execution_count": 25,
      "metadata": {
        "colab": {
          "base_uri": "https://localhost:8080/"
        },
        "id": "0sYl7GL0Lr4L",
        "outputId": "496dfe7d-5118-444f-faf6-d261bfa4aafe"
      },
      "outputs": [
        {
          "output_type": "execute_result",
          "data": {
            "text/plain": [
              "array([0, 0, 0, 0, 0, 0, 0, 7, 1, 9], dtype=int32)"
            ]
          },
          "metadata": {},
          "execution_count": 25
        }
      ],
      "source": [
        "embedded_docs[0]"
      ]
    },
    {
      "cell_type": "code",
      "execution_count": 26,
      "metadata": {
        "colab": {
          "base_uri": "https://localhost:8080/"
        },
        "id": "oXRJHXCxLwCQ",
        "outputId": "0f2cb705-6b18-4ed6-e2c2-6dcf59e12299"
      },
      "outputs": [
        {
          "output_type": "stream",
          "name": "stdout",
          "text": [
            "Model: \"sequential\"\n",
            "_________________________________________________________________\n",
            " Layer (type)                Output Shape              Param #   \n",
            "=================================================================\n",
            " embedding (Embedding)       (None, 10, 10)            100       \n",
            "                                                                 \n",
            " lstm (LSTM)                 (None, 25)                3600      \n",
            "                                                                 \n",
            " dense (Dense)               (None, 1)                 26        \n",
            "                                                                 \n",
            "=================================================================\n",
            "Total params: 3,726\n",
            "Trainable params: 3,726\n",
            "Non-trainable params: 0\n",
            "_________________________________________________________________\n",
            "None\n"
          ]
        }
      ],
      "source": [
        "## Creating model\n",
        "embedding_vector_features=10\n",
        "model=Sequential()\n",
        "model.add(Embedding(voc_size,embedding_vector_features,input_length=sent_length))\n",
        "model.add(LSTM(25))\n",
        "model.add(Dense(1,activation='sigmoid'))\n",
        "model.compile(loss='binary_crossentropy',optimizer='adam',metrics=['accuracy'])\n",
        "print(model.summary())"
      ]
    },
    {
      "cell_type": "code",
      "execution_count": 27,
      "metadata": {
        "colab": {
          "base_uri": "https://localhost:8080/"
        },
        "id": "0LaiIwY4MAsO",
        "outputId": "d21b34a6-2790-49ad-95e7-e486effea442"
      },
      "outputs": [
        {
          "output_type": "stream",
          "name": "stdout",
          "text": [
            "Model: \"sequential_1\"\n",
            "_________________________________________________________________\n",
            " Layer (type)                Output Shape              Param #   \n",
            "=================================================================\n",
            " embedding_1 (Embedding)     (None, 10, 10)            100       \n",
            "                                                                 \n",
            " bidirectional (Bidirectiona  (None, 50)               7200      \n",
            " l)                                                              \n",
            "                                                                 \n",
            " dropout (Dropout)           (None, 50)                0         \n",
            "                                                                 \n",
            " dense_1 (Dense)             (None, 1)                 51        \n",
            "                                                                 \n",
            "=================================================================\n",
            "Total params: 7,351\n",
            "Trainable params: 7,351\n",
            "Non-trainable params: 0\n",
            "_________________________________________________________________\n",
            "None\n"
          ]
        }
      ],
      "source": [
        "## Creating model\n",
        "embedding_vector_features=10\n",
        "model1=Sequential()\n",
        "model1.add(Embedding(voc_size,embedding_vector_features,input_length=sent_length))\n",
        "model1.add(Bidirectional(LSTM(25)))\n",
        "model1.add(Dropout(0.7))\n",
        "model1.add(Dense(1,activation='sigmoid'))\n",
        "model1.compile(loss='binary_crossentropy',optimizer='adam',metrics=['accuracy'])\n",
        "print(model1.summary())"
      ]
    },
    {
      "cell_type": "code",
      "execution_count": 28,
      "metadata": {
        "colab": {
          "base_uri": "https://localhost:8080/"
        },
        "id": "gjS6DquvMFTB",
        "outputId": "eb8962f4-d33f-4279-9c67-585dc2225182"
      },
      "outputs": [
        {
          "output_type": "execute_result",
          "data": {
            "text/plain": [
              "(15, (15,))"
            ]
          },
          "metadata": {},
          "execution_count": 28
        }
      ],
      "source": [
        "len(embedded_docs),y.shape"
      ]
    },
    {
      "cell_type": "code",
      "execution_count": 29,
      "metadata": {
        "id": "7VY7M_igMOk4"
      },
      "outputs": [],
      "source": [
        "import numpy as np\n",
        "X_final=np.array(embedded_docs)\n",
        "y_final=np.array(y)"
      ]
    },
    {
      "cell_type": "code",
      "execution_count": 30,
      "metadata": {
        "colab": {
          "base_uri": "https://localhost:8080/"
        },
        "id": "RVg7j5qQMUgZ",
        "outputId": "f1d08ac9-84b1-4b9c-ac66-6730993355b0"
      },
      "outputs": [
        {
          "output_type": "execute_result",
          "data": {
            "text/plain": [
              "((15, 10), (15,))"
            ]
          },
          "metadata": {},
          "execution_count": 30
        }
      ],
      "source": [
        "X_final.shape,y_final.shape"
      ]
    },
    {
      "cell_type": "code",
      "execution_count": 31,
      "metadata": {
        "id": "z7t95c07Mbhe"
      },
      "outputs": [],
      "source": [
        "from sklearn.model_selection import train_test_split\n",
        "X_train, X_test, y_train, y_test = train_test_split(X_final, y_final, test_size=0.33, random_state=42)"
      ]
    },
    {
      "cell_type": "markdown",
      "metadata": {
        "id": "PX-JHEjBMk1Z"
      },
      "source": [
        "Model Training"
      ]
    },
    {
      "cell_type": "code",
      "execution_count": 32,
      "metadata": {
        "colab": {
          "base_uri": "https://localhost:8080/"
        },
        "id": "V5ZrbnhOMq69",
        "outputId": "22cc5f3f-df48-406b-e9fb-1449a972fb62"
      },
      "outputs": [
        {
          "output_type": "stream",
          "name": "stdout",
          "text": [
            "Epoch 1/10\n",
            "1/1 [==============================] - 7s 7s/step - loss: 0.6942 - accuracy: 0.4000 - val_loss: 0.6943 - val_accuracy: 0.4000\n",
            "Epoch 2/10\n",
            "1/1 [==============================] - 0s 89ms/step - loss: 0.6897 - accuracy: 0.6000 - val_loss: 0.6943 - val_accuracy: 0.4000\n",
            "Epoch 3/10\n",
            "1/1 [==============================] - 0s 87ms/step - loss: 0.6898 - accuracy: 0.6000 - val_loss: 0.6944 - val_accuracy: 0.4000\n",
            "Epoch 4/10\n",
            "1/1 [==============================] - 0s 85ms/step - loss: 0.6927 - accuracy: 0.7000 - val_loss: 0.6943 - val_accuracy: 0.4000\n",
            "Epoch 5/10\n",
            "1/1 [==============================] - 0s 66ms/step - loss: 0.6962 - accuracy: 0.3000 - val_loss: 0.6943 - val_accuracy: 0.4000\n",
            "Epoch 6/10\n",
            "1/1 [==============================] - 0s 59ms/step - loss: 0.6916 - accuracy: 0.6000 - val_loss: 0.6943 - val_accuracy: 0.4000\n",
            "Epoch 7/10\n",
            "1/1 [==============================] - 0s 50ms/step - loss: 0.6957 - accuracy: 0.5000 - val_loss: 0.6942 - val_accuracy: 0.4000\n",
            "Epoch 8/10\n",
            "1/1 [==============================] - 0s 67ms/step - loss: 0.6987 - accuracy: 0.3000 - val_loss: 0.6942 - val_accuracy: 0.4000\n",
            "Epoch 9/10\n",
            "1/1 [==============================] - 0s 49ms/step - loss: 0.6872 - accuracy: 0.6000 - val_loss: 0.6941 - val_accuracy: 0.4000\n",
            "Epoch 10/10\n",
            "1/1 [==============================] - 0s 69ms/step - loss: 0.6913 - accuracy: 0.5000 - val_loss: 0.6941 - val_accuracy: 0.4000\n"
          ]
        },
        {
          "output_type": "execute_result",
          "data": {
            "text/plain": [
              "<keras.callbacks.History at 0x7a8f9870a5c0>"
            ]
          },
          "metadata": {},
          "execution_count": 32
        }
      ],
      "source": [
        "### Finally Training\n",
        "model1.fit(X_train,y_train,validation_data=(X_test,y_test),epochs=10,batch_size=16)"
      ]
    },
    {
      "cell_type": "markdown",
      "metadata": {
        "id": "9BYxBdMlJkyT"
      },
      "source": [
        "Performance Metrics And Accuracy"
      ]
    },
    {
      "cell_type": "code",
      "execution_count": 33,
      "metadata": {
        "colab": {
          "base_uri": "https://localhost:8080/"
        },
        "id": "F6dW7aatKNtr",
        "outputId": "3206858f-3875-43f8-e30b-9d6cb6436f6d"
      },
      "outputs": [
        {
          "output_type": "stream",
          "name": "stdout",
          "text": [
            "1/1 [==============================] - 1s 826ms/step\n"
          ]
        }
      ],
      "source": [
        "y_pred1 = np.argmax(model1.predict(X_test),axis=1)"
      ]
    },
    {
      "cell_type": "code",
      "execution_count": 34,
      "metadata": {
        "id": "BV7UZ8q8oYk5",
        "colab": {
          "base_uri": "https://localhost:8080/"
        },
        "outputId": "519ac8a5-fbdb-44b7-f491-ee2a12802c81"
      },
      "outputs": [
        {
          "output_type": "execute_result",
          "data": {
            "text/plain": [
              "array([0, 0, 0, 0, 0])"
            ]
          },
          "metadata": {},
          "execution_count": 34
        }
      ],
      "source": [
        "y_pred1"
      ]
    },
    {
      "cell_type": "code",
      "execution_count": 35,
      "metadata": {
        "id": "S7QdriRAKg_q"
      },
      "outputs": [],
      "source": [
        "from sklearn.metrics import confusion_matrix"
      ]
    },
    {
      "cell_type": "code",
      "execution_count": 36,
      "metadata": {
        "colab": {
          "base_uri": "https://localhost:8080/"
        },
        "id": "tEN64QvfKmbi",
        "outputId": "2d74a4eb-d668-4893-dad7-64483576ca8b"
      },
      "outputs": [
        {
          "output_type": "execute_result",
          "data": {
            "text/plain": [
              "array([[2, 0],\n",
              "       [3, 0]])"
            ]
          },
          "metadata": {},
          "execution_count": 36
        }
      ],
      "source": [
        "confusion_matrix(y_test,y_pred1)"
      ]
    },
    {
      "cell_type": "code",
      "execution_count": 37,
      "metadata": {
        "colab": {
          "base_uri": "https://localhost:8080/"
        },
        "id": "2TPbfBc-Kym4",
        "outputId": "bd62dd8d-745b-4f6f-ecf5-3883c4ae0157"
      },
      "outputs": [
        {
          "output_type": "execute_result",
          "data": {
            "text/plain": [
              "0.4"
            ]
          },
          "metadata": {},
          "execution_count": 37
        }
      ],
      "source": [
        "from sklearn.metrics import accuracy_score\n",
        "accuracy_score(y_test,y_pred1)"
      ]
    },
    {
      "cell_type": "code",
      "execution_count": 38,
      "metadata": {
        "colab": {
          "base_uri": "https://localhost:8080/"
        },
        "id": "dJCFibL1K5Wa",
        "outputId": "61fe56e6-1441-41c0-e055-aa1a5819b0f3"
      },
      "outputs": [
        {
          "output_type": "stream",
          "name": "stdout",
          "text": [
            "              precision    recall  f1-score   support\n",
            "\n",
            "           0       0.40      1.00      0.57         2\n",
            "           1       0.00      0.00      0.00         3\n",
            "\n",
            "    accuracy                           0.40         5\n",
            "   macro avg       0.20      0.50      0.29         5\n",
            "weighted avg       0.16      0.40      0.23         5\n",
            "\n"
          ]
        },
        {
          "output_type": "stream",
          "name": "stderr",
          "text": [
            "/usr/local/lib/python3.10/dist-packages/sklearn/metrics/_classification.py:1344: UndefinedMetricWarning: Precision and F-score are ill-defined and being set to 0.0 in labels with no predicted samples. Use `zero_division` parameter to control this behavior.\n",
            "  _warn_prf(average, modifier, msg_start, len(result))\n",
            "/usr/local/lib/python3.10/dist-packages/sklearn/metrics/_classification.py:1344: UndefinedMetricWarning: Precision and F-score are ill-defined and being set to 0.0 in labels with no predicted samples. Use `zero_division` parameter to control this behavior.\n",
            "  _warn_prf(average, modifier, msg_start, len(result))\n",
            "/usr/local/lib/python3.10/dist-packages/sklearn/metrics/_classification.py:1344: UndefinedMetricWarning: Precision and F-score are ill-defined and being set to 0.0 in labels with no predicted samples. Use `zero_division` parameter to control this behavior.\n",
            "  _warn_prf(average, modifier, msg_start, len(result))\n"
          ]
        }
      ],
      "source": [
        "from sklearn.metrics import classification_report\n",
        "print(classification_report(y_test,y_pred1))"
      ]
    },
    {
      "cell_type": "code",
      "source": [
        "def predict_rel(predict_relevance):\n",
        "    concatenated_text = ' '.join(predict_relevance)\n",
        "    onehot_reprr = [one_hot(concatenated_text.lower(), voc_size)]\n",
        "    padded = pad_sequences(onehot_reprr, maxlen=sent_length, padding='pre')\n",
        "    return model1.predict(padded)\n",
        "\n",
        "predict_relevance = [\"nike\", \"Shop Womens Shops: Amazon - Amazon.com Officia...\", \"www.amazon.com/apparel/womens-shops\"]\n",
        "predicted_score = predict_rel(predict_relevance)\n"
      ],
      "metadata": {
        "colab": {
          "base_uri": "https://localhost:8080/"
        },
        "id": "N1_7xHr9zGd4",
        "outputId": "6eefccae-5e59-4df3-9d76-0cee836c47f1"
      },
      "execution_count": 39,
      "outputs": [
        {
          "output_type": "stream",
          "name": "stdout",
          "text": [
            "1/1 [==============================] - 0s 41ms/step\n"
          ]
        }
      ]
    },
    {
      "cell_type": "code",
      "source": [
        "predicted_score"
      ],
      "metadata": {
        "colab": {
          "base_uri": "https://localhost:8080/"
        },
        "id": "mEvo-onTzqtl",
        "outputId": "378001b1-32a5-49c2-8f63-4f212f8bca21"
      },
      "execution_count": 40,
      "outputs": [
        {
          "output_type": "execute_result",
          "data": {
            "text/plain": [
              "array([[0.49861935]], dtype=float32)"
            ]
          },
          "metadata": {},
          "execution_count": 40
        }
      ]
    }
  ],
  "metadata": {
    "colab": {
      "provenance": []
    },
    "kernelspec": {
      "display_name": "Python 3",
      "name": "python3"
    },
    "language_info": {
      "name": "python"
    }
  },
  "nbformat": 4,
  "nbformat_minor": 0
}