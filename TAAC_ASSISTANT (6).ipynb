{
  "cells": [
    {
      "cell_type": "code",
      "execution_count": null,
      "metadata": {
        "id": "IPbJVQNNLHmx"
      },
      "outputs": [],
      "source": [
        "import pandas as pd"
      ]
    },
    {
      "cell_type": "markdown",
      "source": [
        "## The training data for 'Is the Ad a Good Match to the Search Term' is given. It consists of 15 training instances. That means there are 15 rows. This dataset is small for a machine learning task. However, another dataset will be added during the qualification."
      ],
      "metadata": {
        "id": "JbycNfIGFfLT"
      }
    },
    {
      "cell_type": "code",
      "execution_count": null,
      "metadata": {
        "id": "sXSZH3y-A-Ir"
      },
      "outputs": [],
      "source": [
        "df= pd.read_csv('taac_assistant_taac_3.csv')"
      ]
    },
    {
      "cell_type": "code",
      "execution_count": null,
      "metadata": {
        "colab": {
          "base_uri": "https://localhost:8080/",
          "height": 276
        },
        "id": "VLEUXm_cBsAx",
        "outputId": "7ac599d1-2831-4c9e-96da-6e362a6001ac"
      },
      "outputs": [
        {
          "output_type": "execute_result",
          "data": {
            "text/plain": [
              "   TaskId         User_Search_Term  \\\n",
              "0       1     wwww ncquickpass com   \n",
              "1       2         peloton plano tx   \n",
              "2       3          antelope canyon   \n",
              "3       4  get vaccine after covid   \n",
              "4       5  ahs.com/my-accountlogin   \n",
              "\n",
              "                                                  Ad  \\\n",
              "0               Nc Quick Pass - Pay Your Bill Online   \n",
              "1  Studio Cycle Comparison - Find The Best Exerci...   \n",
              "2  Hotels near Antelope Canyon - 100% Real Custom...   \n",
              "3  Janssen COVID-19 Vaccine - Authorized For Emer...   \n",
              "4  Find First american home warranty login - Chec...   \n",
              "\n",
              "                                         Website Relevance  \n",
              "0                 www.doxo.com/pay/nc-quick-pass     Other  \n",
              "1         www.nordictrack.com/Studio-Cycles/S22i     Other  \n",
              "2         www.booking.com/Antelope-Canyon/Hotels     Other  \n",
              "3                  www.janssencovid19vaccine.com     Other  \n",
              "4  www.searchandshopping.org/Your Search/Results     Other  "
            ],
            "text/html": [
              "\n",
              "  <div id=\"df-07b5bc49-469d-4946-9f80-127ecf0f4e7e\" class=\"colab-df-container\">\n",
              "    <div>\n",
              "<style scoped>\n",
              "    .dataframe tbody tr th:only-of-type {\n",
              "        vertical-align: middle;\n",
              "    }\n",
              "\n",
              "    .dataframe tbody tr th {\n",
              "        vertical-align: top;\n",
              "    }\n",
              "\n",
              "    .dataframe thead th {\n",
              "        text-align: right;\n",
              "    }\n",
              "</style>\n",
              "<table border=\"1\" class=\"dataframe\">\n",
              "  <thead>\n",
              "    <tr style=\"text-align: right;\">\n",
              "      <th></th>\n",
              "      <th>TaskId</th>\n",
              "      <th>User_Search_Term</th>\n",
              "      <th>Ad</th>\n",
              "      <th>Website</th>\n",
              "      <th>Relevance</th>\n",
              "    </tr>\n",
              "  </thead>\n",
              "  <tbody>\n",
              "    <tr>\n",
              "      <th>0</th>\n",
              "      <td>1</td>\n",
              "      <td>wwww ncquickpass com</td>\n",
              "      <td>Nc Quick Pass - Pay Your Bill Online</td>\n",
              "      <td>www.doxo.com/pay/nc-quick-pass</td>\n",
              "      <td>Other</td>\n",
              "    </tr>\n",
              "    <tr>\n",
              "      <th>1</th>\n",
              "      <td>2</td>\n",
              "      <td>peloton plano tx</td>\n",
              "      <td>Studio Cycle Comparison - Find The Best Exerci...</td>\n",
              "      <td>www.nordictrack.com/Studio-Cycles/S22i</td>\n",
              "      <td>Other</td>\n",
              "    </tr>\n",
              "    <tr>\n",
              "      <th>2</th>\n",
              "      <td>3</td>\n",
              "      <td>antelope canyon</td>\n",
              "      <td>Hotels near Antelope Canyon - 100% Real Custom...</td>\n",
              "      <td>www.booking.com/Antelope-Canyon/Hotels</td>\n",
              "      <td>Other</td>\n",
              "    </tr>\n",
              "    <tr>\n",
              "      <th>3</th>\n",
              "      <td>4</td>\n",
              "      <td>get vaccine after covid</td>\n",
              "      <td>Janssen COVID-19 Vaccine - Authorized For Emer...</td>\n",
              "      <td>www.janssencovid19vaccine.com</td>\n",
              "      <td>Other</td>\n",
              "    </tr>\n",
              "    <tr>\n",
              "      <th>4</th>\n",
              "      <td>5</td>\n",
              "      <td>ahs.com/my-accountlogin</td>\n",
              "      <td>Find First american home warranty login - Chec...</td>\n",
              "      <td>www.searchandshopping.org/Your Search/Results</td>\n",
              "      <td>Other</td>\n",
              "    </tr>\n",
              "  </tbody>\n",
              "</table>\n",
              "</div>\n",
              "    <div class=\"colab-df-buttons\">\n",
              "\n",
              "  <div class=\"colab-df-container\">\n",
              "    <button class=\"colab-df-convert\" onclick=\"convertToInteractive('df-07b5bc49-469d-4946-9f80-127ecf0f4e7e')\"\n",
              "            title=\"Convert this dataframe to an interactive table.\"\n",
              "            style=\"display:none;\">\n",
              "\n",
              "  <svg xmlns=\"http://www.w3.org/2000/svg\" height=\"24px\" viewBox=\"0 -960 960 960\">\n",
              "    <path d=\"M120-120v-720h720v720H120Zm60-500h600v-160H180v160Zm220 220h160v-160H400v160Zm0 220h160v-160H400v160ZM180-400h160v-160H180v160Zm440 0h160v-160H620v160ZM180-180h160v-160H180v160Zm440 0h160v-160H620v160Z\"/>\n",
              "  </svg>\n",
              "    </button>\n",
              "\n",
              "  <style>\n",
              "    .colab-df-container {\n",
              "      display:flex;\n",
              "      gap: 12px;\n",
              "    }\n",
              "\n",
              "    .colab-df-convert {\n",
              "      background-color: #E8F0FE;\n",
              "      border: none;\n",
              "      border-radius: 50%;\n",
              "      cursor: pointer;\n",
              "      display: none;\n",
              "      fill: #1967D2;\n",
              "      height: 32px;\n",
              "      padding: 0 0 0 0;\n",
              "      width: 32px;\n",
              "    }\n",
              "\n",
              "    .colab-df-convert:hover {\n",
              "      background-color: #E2EBFA;\n",
              "      box-shadow: 0px 1px 2px rgba(60, 64, 67, 0.3), 0px 1px 3px 1px rgba(60, 64, 67, 0.15);\n",
              "      fill: #174EA6;\n",
              "    }\n",
              "\n",
              "    .colab-df-buttons div {\n",
              "      margin-bottom: 4px;\n",
              "    }\n",
              "\n",
              "    [theme=dark] .colab-df-convert {\n",
              "      background-color: #3B4455;\n",
              "      fill: #D2E3FC;\n",
              "    }\n",
              "\n",
              "    [theme=dark] .colab-df-convert:hover {\n",
              "      background-color: #434B5C;\n",
              "      box-shadow: 0px 1px 3px 1px rgba(0, 0, 0, 0.15);\n",
              "      filter: drop-shadow(0px 1px 2px rgba(0, 0, 0, 0.3));\n",
              "      fill: #FFFFFF;\n",
              "    }\n",
              "  </style>\n",
              "\n",
              "    <script>\n",
              "      const buttonEl =\n",
              "        document.querySelector('#df-07b5bc49-469d-4946-9f80-127ecf0f4e7e button.colab-df-convert');\n",
              "      buttonEl.style.display =\n",
              "        google.colab.kernel.accessAllowed ? 'block' : 'none';\n",
              "\n",
              "      async function convertToInteractive(key) {\n",
              "        const element = document.querySelector('#df-07b5bc49-469d-4946-9f80-127ecf0f4e7e');\n",
              "        const dataTable =\n",
              "          await google.colab.kernel.invokeFunction('convertToInteractive',\n",
              "                                                    [key], {});\n",
              "        if (!dataTable) return;\n",
              "\n",
              "        const docLinkHtml = 'Like what you see? Visit the ' +\n",
              "          '<a target=\"_blank\" href=https://colab.research.google.com/notebooks/data_table.ipynb>data table notebook</a>'\n",
              "          + ' to learn more about interactive tables.';\n",
              "        element.innerHTML = '';\n",
              "        dataTable['output_type'] = 'display_data';\n",
              "        await google.colab.output.renderOutput(dataTable, element);\n",
              "        const docLink = document.createElement('div');\n",
              "        docLink.innerHTML = docLinkHtml;\n",
              "        element.appendChild(docLink);\n",
              "      }\n",
              "    </script>\n",
              "  </div>\n",
              "\n",
              "\n",
              "<div id=\"df-da4f7c50-8717-4374-aa0b-0d6ec3d063df\">\n",
              "  <button class=\"colab-df-quickchart\" onclick=\"quickchart('df-da4f7c50-8717-4374-aa0b-0d6ec3d063df')\"\n",
              "            title=\"Suggest charts.\"\n",
              "            style=\"display:none;\">\n",
              "\n",
              "<svg xmlns=\"http://www.w3.org/2000/svg\" height=\"24px\"viewBox=\"0 0 24 24\"\n",
              "     width=\"24px\">\n",
              "    <g>\n",
              "        <path d=\"M19 3H5c-1.1 0-2 .9-2 2v14c0 1.1.9 2 2 2h14c1.1 0 2-.9 2-2V5c0-1.1-.9-2-2-2zM9 17H7v-7h2v7zm4 0h-2V7h2v10zm4 0h-2v-4h2v4z\"/>\n",
              "    </g>\n",
              "</svg>\n",
              "  </button>\n",
              "\n",
              "<style>\n",
              "  .colab-df-quickchart {\n",
              "      --bg-color: #E8F0FE;\n",
              "      --fill-color: #1967D2;\n",
              "      --hover-bg-color: #E2EBFA;\n",
              "      --hover-fill-color: #174EA6;\n",
              "      --disabled-fill-color: #AAA;\n",
              "      --disabled-bg-color: #DDD;\n",
              "  }\n",
              "\n",
              "  [theme=dark] .colab-df-quickchart {\n",
              "      --bg-color: #3B4455;\n",
              "      --fill-color: #D2E3FC;\n",
              "      --hover-bg-color: #434B5C;\n",
              "      --hover-fill-color: #FFFFFF;\n",
              "      --disabled-bg-color: #3B4455;\n",
              "      --disabled-fill-color: #666;\n",
              "  }\n",
              "\n",
              "  .colab-df-quickchart {\n",
              "    background-color: var(--bg-color);\n",
              "    border: none;\n",
              "    border-radius: 50%;\n",
              "    cursor: pointer;\n",
              "    display: none;\n",
              "    fill: var(--fill-color);\n",
              "    height: 32px;\n",
              "    padding: 0;\n",
              "    width: 32px;\n",
              "  }\n",
              "\n",
              "  .colab-df-quickchart:hover {\n",
              "    background-color: var(--hover-bg-color);\n",
              "    box-shadow: 0 1px 2px rgba(60, 64, 67, 0.3), 0 1px 3px 1px rgba(60, 64, 67, 0.15);\n",
              "    fill: var(--button-hover-fill-color);\n",
              "  }\n",
              "\n",
              "  .colab-df-quickchart-complete:disabled,\n",
              "  .colab-df-quickchart-complete:disabled:hover {\n",
              "    background-color: var(--disabled-bg-color);\n",
              "    fill: var(--disabled-fill-color);\n",
              "    box-shadow: none;\n",
              "  }\n",
              "\n",
              "  .colab-df-spinner {\n",
              "    border: 2px solid var(--fill-color);\n",
              "    border-color: transparent;\n",
              "    border-bottom-color: var(--fill-color);\n",
              "    animation:\n",
              "      spin 1s steps(1) infinite;\n",
              "  }\n",
              "\n",
              "  @keyframes spin {\n",
              "    0% {\n",
              "      border-color: transparent;\n",
              "      border-bottom-color: var(--fill-color);\n",
              "      border-left-color: var(--fill-color);\n",
              "    }\n",
              "    20% {\n",
              "      border-color: transparent;\n",
              "      border-left-color: var(--fill-color);\n",
              "      border-top-color: var(--fill-color);\n",
              "    }\n",
              "    30% {\n",
              "      border-color: transparent;\n",
              "      border-left-color: var(--fill-color);\n",
              "      border-top-color: var(--fill-color);\n",
              "      border-right-color: var(--fill-color);\n",
              "    }\n",
              "    40% {\n",
              "      border-color: transparent;\n",
              "      border-right-color: var(--fill-color);\n",
              "      border-top-color: var(--fill-color);\n",
              "    }\n",
              "    60% {\n",
              "      border-color: transparent;\n",
              "      border-right-color: var(--fill-color);\n",
              "    }\n",
              "    80% {\n",
              "      border-color: transparent;\n",
              "      border-right-color: var(--fill-color);\n",
              "      border-bottom-color: var(--fill-color);\n",
              "    }\n",
              "    90% {\n",
              "      border-color: transparent;\n",
              "      border-bottom-color: var(--fill-color);\n",
              "    }\n",
              "  }\n",
              "</style>\n",
              "\n",
              "  <script>\n",
              "    async function quickchart(key) {\n",
              "      const quickchartButtonEl =\n",
              "        document.querySelector('#' + key + ' button');\n",
              "      quickchartButtonEl.disabled = true;  // To prevent multiple clicks.\n",
              "      quickchartButtonEl.classList.add('colab-df-spinner');\n",
              "      try {\n",
              "        const charts = await google.colab.kernel.invokeFunction(\n",
              "            'suggestCharts', [key], {});\n",
              "      } catch (error) {\n",
              "        console.error('Error during call to suggestCharts:', error);\n",
              "      }\n",
              "      quickchartButtonEl.classList.remove('colab-df-spinner');\n",
              "      quickchartButtonEl.classList.add('colab-df-quickchart-complete');\n",
              "    }\n",
              "    (() => {\n",
              "      let quickchartButtonEl =\n",
              "        document.querySelector('#df-da4f7c50-8717-4374-aa0b-0d6ec3d063df button');\n",
              "      quickchartButtonEl.style.display =\n",
              "        google.colab.kernel.accessAllowed ? 'block' : 'none';\n",
              "    })();\n",
              "  </script>\n",
              "</div>\n",
              "    </div>\n",
              "  </div>\n"
            ]
          },
          "metadata": {},
          "execution_count": 3
        }
      ],
      "source": [
        "df.head()"
      ]
    },
    {
      "cell_type": "code",
      "execution_count": null,
      "metadata": {
        "colab": {
          "base_uri": "https://localhost:8080/",
          "height": 502
        },
        "id": "s2PCQyD6FsIj",
        "outputId": "909575a4-2244-4fcd-89ef-026b7f9bc1ae"
      },
      "outputs": [
        {
          "output_type": "execute_result",
          "data": {
            "text/plain": [
              "   TaskId          User_Search_Term  \\\n",
              "0       1      wwww ncquickpass com   \n",
              "1       2          peloton plano tx   \n",
              "2       3           antelope canyon   \n",
              "3       4   get vaccine after covid   \n",
              "4       5   ahs.com/my-accountlogin   \n",
              "5       6                      nike   \n",
              "6       7               cfl fixture   \n",
              "7       8  nationwide pet insurance   \n",
              "8       9                      nike   \n",
              "9      10                 used cars   \n",
              "\n",
              "                                                  Ad  \\\n",
              "0               Nc Quick Pass - Pay Your Bill Online   \n",
              "1  Studio Cycle Comparison - Find The Best Exerci...   \n",
              "2  Hotels near Antelope Canyon - 100% Real Custom...   \n",
              "3  Janssen COVID-19 Vaccine - Authorized For Emer...   \n",
              "4  Find First american home warranty login - Chec...   \n",
              "5  Shop Womens Shops: Amazon - Amazon.com Officia...   \n",
              "6                             Flashlight Accessories   \n",
              "7  2021's Top 10 Pet Insurance - Buyer's Guide (N...   \n",
              "8  Nike Official Site - Just Do It - Shop The Lat...   \n",
              "9  CarMax Used Cars - Visit carmax.com - Large Na...   \n",
              "\n",
              "                                         Website  Relevance  \n",
              "0                 www.doxo.com/pay/nc-quick-pass          0  \n",
              "1         www.nordictrack.com/Studio-Cycles/S22i          0  \n",
              "2         www.booking.com/Antelope-Canyon/Hotels          0  \n",
              "3                  www.janssencovid19vaccine.com          0  \n",
              "4  www.searchandshopping.org/Your Search/Results          0  \n",
              "5            www.amazon.com/apparel/womens-shops          1  \n",
              "6                   www.Grainfer.com/Flashlights          0  \n",
              "7                  buyersguide.org/Pet-Insurance          1  \n",
              "8                                   www.nike.com          1  \n",
              "9                            www.carmax.com/cars          1  "
            ],
            "text/html": [
              "\n",
              "  <div id=\"df-968a5765-6e44-44e7-a98c-e8b910a550cf\" class=\"colab-df-container\">\n",
              "    <div>\n",
              "<style scoped>\n",
              "    .dataframe tbody tr th:only-of-type {\n",
              "        vertical-align: middle;\n",
              "    }\n",
              "\n",
              "    .dataframe tbody tr th {\n",
              "        vertical-align: top;\n",
              "    }\n",
              "\n",
              "    .dataframe thead th {\n",
              "        text-align: right;\n",
              "    }\n",
              "</style>\n",
              "<table border=\"1\" class=\"dataframe\">\n",
              "  <thead>\n",
              "    <tr style=\"text-align: right;\">\n",
              "      <th></th>\n",
              "      <th>TaskId</th>\n",
              "      <th>User_Search_Term</th>\n",
              "      <th>Ad</th>\n",
              "      <th>Website</th>\n",
              "      <th>Relevance</th>\n",
              "    </tr>\n",
              "  </thead>\n",
              "  <tbody>\n",
              "    <tr>\n",
              "      <th>0</th>\n",
              "      <td>1</td>\n",
              "      <td>wwww ncquickpass com</td>\n",
              "      <td>Nc Quick Pass - Pay Your Bill Online</td>\n",
              "      <td>www.doxo.com/pay/nc-quick-pass</td>\n",
              "      <td>0</td>\n",
              "    </tr>\n",
              "    <tr>\n",
              "      <th>1</th>\n",
              "      <td>2</td>\n",
              "      <td>peloton plano tx</td>\n",
              "      <td>Studio Cycle Comparison - Find The Best Exerci...</td>\n",
              "      <td>www.nordictrack.com/Studio-Cycles/S22i</td>\n",
              "      <td>0</td>\n",
              "    </tr>\n",
              "    <tr>\n",
              "      <th>2</th>\n",
              "      <td>3</td>\n",
              "      <td>antelope canyon</td>\n",
              "      <td>Hotels near Antelope Canyon - 100% Real Custom...</td>\n",
              "      <td>www.booking.com/Antelope-Canyon/Hotels</td>\n",
              "      <td>0</td>\n",
              "    </tr>\n",
              "    <tr>\n",
              "      <th>3</th>\n",
              "      <td>4</td>\n",
              "      <td>get vaccine after covid</td>\n",
              "      <td>Janssen COVID-19 Vaccine - Authorized For Emer...</td>\n",
              "      <td>www.janssencovid19vaccine.com</td>\n",
              "      <td>0</td>\n",
              "    </tr>\n",
              "    <tr>\n",
              "      <th>4</th>\n",
              "      <td>5</td>\n",
              "      <td>ahs.com/my-accountlogin</td>\n",
              "      <td>Find First american home warranty login - Chec...</td>\n",
              "      <td>www.searchandshopping.org/Your Search/Results</td>\n",
              "      <td>0</td>\n",
              "    </tr>\n",
              "    <tr>\n",
              "      <th>5</th>\n",
              "      <td>6</td>\n",
              "      <td>nike</td>\n",
              "      <td>Shop Womens Shops: Amazon - Amazon.com Officia...</td>\n",
              "      <td>www.amazon.com/apparel/womens-shops</td>\n",
              "      <td>1</td>\n",
              "    </tr>\n",
              "    <tr>\n",
              "      <th>6</th>\n",
              "      <td>7</td>\n",
              "      <td>cfl fixture</td>\n",
              "      <td>Flashlight Accessories</td>\n",
              "      <td>www.Grainfer.com/Flashlights</td>\n",
              "      <td>0</td>\n",
              "    </tr>\n",
              "    <tr>\n",
              "      <th>7</th>\n",
              "      <td>8</td>\n",
              "      <td>nationwide pet insurance</td>\n",
              "      <td>2021's Top 10 Pet Insurance - Buyer's Guide (N...</td>\n",
              "      <td>buyersguide.org/Pet-Insurance</td>\n",
              "      <td>1</td>\n",
              "    </tr>\n",
              "    <tr>\n",
              "      <th>8</th>\n",
              "      <td>9</td>\n",
              "      <td>nike</td>\n",
              "      <td>Nike Official Site - Just Do It - Shop The Lat...</td>\n",
              "      <td>www.nike.com</td>\n",
              "      <td>1</td>\n",
              "    </tr>\n",
              "    <tr>\n",
              "      <th>9</th>\n",
              "      <td>10</td>\n",
              "      <td>used cars</td>\n",
              "      <td>CarMax Used Cars - Visit carmax.com - Large Na...</td>\n",
              "      <td>www.carmax.com/cars</td>\n",
              "      <td>1</td>\n",
              "    </tr>\n",
              "  </tbody>\n",
              "</table>\n",
              "</div>\n",
              "    <div class=\"colab-df-buttons\">\n",
              "\n",
              "  <div class=\"colab-df-container\">\n",
              "    <button class=\"colab-df-convert\" onclick=\"convertToInteractive('df-968a5765-6e44-44e7-a98c-e8b910a550cf')\"\n",
              "            title=\"Convert this dataframe to an interactive table.\"\n",
              "            style=\"display:none;\">\n",
              "\n",
              "  <svg xmlns=\"http://www.w3.org/2000/svg\" height=\"24px\" viewBox=\"0 -960 960 960\">\n",
              "    <path d=\"M120-120v-720h720v720H120Zm60-500h600v-160H180v160Zm220 220h160v-160H400v160Zm0 220h160v-160H400v160ZM180-400h160v-160H180v160Zm440 0h160v-160H620v160ZM180-180h160v-160H180v160Zm440 0h160v-160H620v160Z\"/>\n",
              "  </svg>\n",
              "    </button>\n",
              "\n",
              "  <style>\n",
              "    .colab-df-container {\n",
              "      display:flex;\n",
              "      gap: 12px;\n",
              "    }\n",
              "\n",
              "    .colab-df-convert {\n",
              "      background-color: #E8F0FE;\n",
              "      border: none;\n",
              "      border-radius: 50%;\n",
              "      cursor: pointer;\n",
              "      display: none;\n",
              "      fill: #1967D2;\n",
              "      height: 32px;\n",
              "      padding: 0 0 0 0;\n",
              "      width: 32px;\n",
              "    }\n",
              "\n",
              "    .colab-df-convert:hover {\n",
              "      background-color: #E2EBFA;\n",
              "      box-shadow: 0px 1px 2px rgba(60, 64, 67, 0.3), 0px 1px 3px 1px rgba(60, 64, 67, 0.15);\n",
              "      fill: #174EA6;\n",
              "    }\n",
              "\n",
              "    .colab-df-buttons div {\n",
              "      margin-bottom: 4px;\n",
              "    }\n",
              "\n",
              "    [theme=dark] .colab-df-convert {\n",
              "      background-color: #3B4455;\n",
              "      fill: #D2E3FC;\n",
              "    }\n",
              "\n",
              "    [theme=dark] .colab-df-convert:hover {\n",
              "      background-color: #434B5C;\n",
              "      box-shadow: 0px 1px 3px 1px rgba(0, 0, 0, 0.15);\n",
              "      filter: drop-shadow(0px 1px 2px rgba(0, 0, 0, 0.3));\n",
              "      fill: #FFFFFF;\n",
              "    }\n",
              "  </style>\n",
              "\n",
              "    <script>\n",
              "      const buttonEl =\n",
              "        document.querySelector('#df-968a5765-6e44-44e7-a98c-e8b910a550cf button.colab-df-convert');\n",
              "      buttonEl.style.display =\n",
              "        google.colab.kernel.accessAllowed ? 'block' : 'none';\n",
              "\n",
              "      async function convertToInteractive(key) {\n",
              "        const element = document.querySelector('#df-968a5765-6e44-44e7-a98c-e8b910a550cf');\n",
              "        const dataTable =\n",
              "          await google.colab.kernel.invokeFunction('convertToInteractive',\n",
              "                                                    [key], {});\n",
              "        if (!dataTable) return;\n",
              "\n",
              "        const docLinkHtml = 'Like what you see? Visit the ' +\n",
              "          '<a target=\"_blank\" href=https://colab.research.google.com/notebooks/data_table.ipynb>data table notebook</a>'\n",
              "          + ' to learn more about interactive tables.';\n",
              "        element.innerHTML = '';\n",
              "        dataTable['output_type'] = 'display_data';\n",
              "        await google.colab.output.renderOutput(dataTable, element);\n",
              "        const docLink = document.createElement('div');\n",
              "        docLink.innerHTML = docLinkHtml;\n",
              "        element.appendChild(docLink);\n",
              "      }\n",
              "    </script>\n",
              "  </div>\n",
              "\n",
              "\n",
              "<div id=\"df-024d7090-7768-4821-b59d-db4f3e6e044c\">\n",
              "  <button class=\"colab-df-quickchart\" onclick=\"quickchart('df-024d7090-7768-4821-b59d-db4f3e6e044c')\"\n",
              "            title=\"Suggest charts.\"\n",
              "            style=\"display:none;\">\n",
              "\n",
              "<svg xmlns=\"http://www.w3.org/2000/svg\" height=\"24px\"viewBox=\"0 0 24 24\"\n",
              "     width=\"24px\">\n",
              "    <g>\n",
              "        <path d=\"M19 3H5c-1.1 0-2 .9-2 2v14c0 1.1.9 2 2 2h14c1.1 0 2-.9 2-2V5c0-1.1-.9-2-2-2zM9 17H7v-7h2v7zm4 0h-2V7h2v10zm4 0h-2v-4h2v4z\"/>\n",
              "    </g>\n",
              "</svg>\n",
              "  </button>\n",
              "\n",
              "<style>\n",
              "  .colab-df-quickchart {\n",
              "      --bg-color: #E8F0FE;\n",
              "      --fill-color: #1967D2;\n",
              "      --hover-bg-color: #E2EBFA;\n",
              "      --hover-fill-color: #174EA6;\n",
              "      --disabled-fill-color: #AAA;\n",
              "      --disabled-bg-color: #DDD;\n",
              "  }\n",
              "\n",
              "  [theme=dark] .colab-df-quickchart {\n",
              "      --bg-color: #3B4455;\n",
              "      --fill-color: #D2E3FC;\n",
              "      --hover-bg-color: #434B5C;\n",
              "      --hover-fill-color: #FFFFFF;\n",
              "      --disabled-bg-color: #3B4455;\n",
              "      --disabled-fill-color: #666;\n",
              "  }\n",
              "\n",
              "  .colab-df-quickchart {\n",
              "    background-color: var(--bg-color);\n",
              "    border: none;\n",
              "    border-radius: 50%;\n",
              "    cursor: pointer;\n",
              "    display: none;\n",
              "    fill: var(--fill-color);\n",
              "    height: 32px;\n",
              "    padding: 0;\n",
              "    width: 32px;\n",
              "  }\n",
              "\n",
              "  .colab-df-quickchart:hover {\n",
              "    background-color: var(--hover-bg-color);\n",
              "    box-shadow: 0 1px 2px rgba(60, 64, 67, 0.3), 0 1px 3px 1px rgba(60, 64, 67, 0.15);\n",
              "    fill: var(--button-hover-fill-color);\n",
              "  }\n",
              "\n",
              "  .colab-df-quickchart-complete:disabled,\n",
              "  .colab-df-quickchart-complete:disabled:hover {\n",
              "    background-color: var(--disabled-bg-color);\n",
              "    fill: var(--disabled-fill-color);\n",
              "    box-shadow: none;\n",
              "  }\n",
              "\n",
              "  .colab-df-spinner {\n",
              "    border: 2px solid var(--fill-color);\n",
              "    border-color: transparent;\n",
              "    border-bottom-color: var(--fill-color);\n",
              "    animation:\n",
              "      spin 1s steps(1) infinite;\n",
              "  }\n",
              "\n",
              "  @keyframes spin {\n",
              "    0% {\n",
              "      border-color: transparent;\n",
              "      border-bottom-color: var(--fill-color);\n",
              "      border-left-color: var(--fill-color);\n",
              "    }\n",
              "    20% {\n",
              "      border-color: transparent;\n",
              "      border-left-color: var(--fill-color);\n",
              "      border-top-color: var(--fill-color);\n",
              "    }\n",
              "    30% {\n",
              "      border-color: transparent;\n",
              "      border-left-color: var(--fill-color);\n",
              "      border-top-color: var(--fill-color);\n",
              "      border-right-color: var(--fill-color);\n",
              "    }\n",
              "    40% {\n",
              "      border-color: transparent;\n",
              "      border-right-color: var(--fill-color);\n",
              "      border-top-color: var(--fill-color);\n",
              "    }\n",
              "    60% {\n",
              "      border-color: transparent;\n",
              "      border-right-color: var(--fill-color);\n",
              "    }\n",
              "    80% {\n",
              "      border-color: transparent;\n",
              "      border-right-color: var(--fill-color);\n",
              "      border-bottom-color: var(--fill-color);\n",
              "    }\n",
              "    90% {\n",
              "      border-color: transparent;\n",
              "      border-bottom-color: var(--fill-color);\n",
              "    }\n",
              "  }\n",
              "</style>\n",
              "\n",
              "  <script>\n",
              "    async function quickchart(key) {\n",
              "      const quickchartButtonEl =\n",
              "        document.querySelector('#' + key + ' button');\n",
              "      quickchartButtonEl.disabled = true;  // To prevent multiple clicks.\n",
              "      quickchartButtonEl.classList.add('colab-df-spinner');\n",
              "      try {\n",
              "        const charts = await google.colab.kernel.invokeFunction(\n",
              "            'suggestCharts', [key], {});\n",
              "      } catch (error) {\n",
              "        console.error('Error during call to suggestCharts:', error);\n",
              "      }\n",
              "      quickchartButtonEl.classList.remove('colab-df-spinner');\n",
              "      quickchartButtonEl.classList.add('colab-df-quickchart-complete');\n",
              "    }\n",
              "    (() => {\n",
              "      let quickchartButtonEl =\n",
              "        document.querySelector('#df-024d7090-7768-4821-b59d-db4f3e6e044c button');\n",
              "      quickchartButtonEl.style.display =\n",
              "        google.colab.kernel.accessAllowed ? 'block' : 'none';\n",
              "    })();\n",
              "  </script>\n",
              "</div>\n",
              "    </div>\n",
              "  </div>\n"
            ]
          },
          "metadata": {},
          "execution_count": 4
        }
      ],
      "source": [
        "#Converting the Relevance to numerical values to enable analysis\n",
        "#Convert Relevance to numerical\n",
        "mapping = {\n",
        "    'Good' : 1,\n",
        "    'Other' : 0,\n",
        "}\n",
        "df['Relevance'] = df['Relevance'].replace(mapping)\n",
        "df.head(10)"
      ]
    },
    {
      "cell_type": "code",
      "source": [
        "#df.isna().value_counts()\n",
        "# Check for missing values\n",
        "df.isnull().sum().any()"
      ],
      "metadata": {
        "colab": {
          "base_uri": "https://localhost:8080/"
        },
        "id": "gfPtvJGGTvc_",
        "outputId": "6f82b122-f296-47c0-8a6d-fa6a47c5b5fc"
      },
      "execution_count": null,
      "outputs": [
        {
          "output_type": "execute_result",
          "data": {
            "text/plain": [
              "False"
            ]
          },
          "metadata": {},
          "execution_count": 5
        }
      ]
    },
    {
      "cell_type": "code",
      "source": [
        "# Identify rows with missing values\n",
        "rows_with_missing_values = df[df.isnull().any(axis=1)]\n",
        "\n",
        "# Print the rows with missing values\n",
        "print(\"Rows with missing values:\")\n",
        "print(rows_with_missing_values)"
      ],
      "metadata": {
        "colab": {
          "base_uri": "https://localhost:8080/"
        },
        "id": "cUF7-UtWZPlT",
        "outputId": "db0d38e1-e6b8-4770-b83e-286cd1a0be19"
      },
      "execution_count": null,
      "outputs": [
        {
          "output_type": "stream",
          "name": "stdout",
          "text": [
            "Rows with missing values:\n",
            "Empty DataFrame\n",
            "Columns: [TaskId, User_Search_Term, Ad, Website, Relevance]\n",
            "Index: []\n"
          ]
        }
      ]
    },
    {
      "cell_type": "code",
      "execution_count": null,
      "metadata": {
        "id": "nNLDGGhOGI4E"
      },
      "outputs": [],
      "source": [
        "## Get the Independent Features\n",
        "\n",
        "X=df.drop(columns =['TaskId', 'Relevance'])"
      ]
    },
    {
      "cell_type": "code",
      "execution_count": null,
      "metadata": {
        "id": "CnkK9yoDGVf_"
      },
      "outputs": [],
      "source": [
        "## Get the Dependent features\n",
        "y=df['Relevance']"
      ]
    },
    {
      "cell_type": "code",
      "execution_count": null,
      "metadata": {
        "colab": {
          "base_uri": "https://localhost:8080/"
        },
        "id": "ZYPpBYsbGdV1",
        "outputId": "6452134b-6c59-4ce7-d75b-fd0ab806ee1c"
      },
      "outputs": [
        {
          "output_type": "execute_result",
          "data": {
            "text/plain": [
              "1    130\n",
              "0    108\n",
              "Name: Relevance, dtype: int64"
            ]
          },
          "metadata": {},
          "execution_count": 9
        }
      ],
      "source": [
        "y.value_counts()"
      ]
    },
    {
      "cell_type": "markdown",
      "source": [],
      "metadata": {
        "id": "eo8Gu-8MIiE4"
      }
    },
    {
      "cell_type": "code",
      "source": [
        "#It can be seen that the data is generally balanced"
      ],
      "metadata": {
        "id": "aCavOPwFIjfo"
      },
      "execution_count": null,
      "outputs": []
    },
    {
      "cell_type": "code",
      "execution_count": null,
      "metadata": {
        "colab": {
          "base_uri": "https://localhost:8080/"
        },
        "id": "AkvNzD3RGrR4",
        "outputId": "ed62ec52-aebd-4f55-ae08-8e571bfa2ce6"
      },
      "outputs": [
        {
          "output_type": "execute_result",
          "data": {
            "text/plain": [
              "(238, 3)"
            ]
          },
          "metadata": {},
          "execution_count": 11
        }
      ],
      "source": [
        "X.shape"
      ]
    },
    {
      "cell_type": "code",
      "execution_count": null,
      "metadata": {
        "colab": {
          "base_uri": "https://localhost:8080/"
        },
        "id": "QjwpxKlRHwYp",
        "outputId": "ba4b1096-7e75-4a15-c439-830b819dda4b"
      },
      "outputs": [
        {
          "output_type": "execute_result",
          "data": {
            "text/plain": [
              "(238,)"
            ]
          },
          "metadata": {},
          "execution_count": 12
        }
      ],
      "source": [
        "y.shape"
      ]
    },
    {
      "cell_type": "code",
      "source": [
        "pip install --upgrade tensorflow"
      ],
      "metadata": {
        "colab": {
          "base_uri": "https://localhost:8080/"
        },
        "id": "A8_roUX6Awzt",
        "outputId": "58d41046-fba1-42cd-e637-a20994f21630"
      },
      "execution_count": null,
      "outputs": [
        {
          "output_type": "stream",
          "name": "stdout",
          "text": [
            "Requirement already satisfied: tensorflow in /usr/local/lib/python3.10/dist-packages (2.13.0)\n",
            "Collecting tensorflow\n",
            "  Downloading tensorflow-2.14.0-cp310-cp310-manylinux_2_17_x86_64.manylinux2014_x86_64.whl (489.8 MB)\n",
            "\u001b[2K     \u001b[90m━━━━━━━━━━━━━━━━━━━━━━━━━━━━━━━━━━━━━━━\u001b[0m \u001b[32m489.8/489.8 MB\u001b[0m \u001b[31m1.2 MB/s\u001b[0m eta \u001b[36m0:00:00\u001b[0m\n",
            "\u001b[?25hRequirement already satisfied: absl-py>=1.0.0 in /usr/local/lib/python3.10/dist-packages (from tensorflow) (1.4.0)\n",
            "Requirement already satisfied: astunparse>=1.6.0 in /usr/local/lib/python3.10/dist-packages (from tensorflow) (1.6.3)\n",
            "Requirement already satisfied: flatbuffers>=23.5.26 in /usr/local/lib/python3.10/dist-packages (from tensorflow) (23.5.26)\n",
            "Requirement already satisfied: gast!=0.5.0,!=0.5.1,!=0.5.2,>=0.2.1 in /usr/local/lib/python3.10/dist-packages (from tensorflow) (0.4.0)\n",
            "Requirement already satisfied: google-pasta>=0.1.1 in /usr/local/lib/python3.10/dist-packages (from tensorflow) (0.2.0)\n",
            "Requirement already satisfied: h5py>=2.9.0 in /usr/local/lib/python3.10/dist-packages (from tensorflow) (3.9.0)\n",
            "Requirement already satisfied: libclang>=13.0.0 in /usr/local/lib/python3.10/dist-packages (from tensorflow) (16.0.6)\n",
            "Collecting ml-dtypes==0.2.0 (from tensorflow)\n",
            "  Downloading ml_dtypes-0.2.0-cp310-cp310-manylinux_2_17_x86_64.manylinux2014_x86_64.whl (1.0 MB)\n",
            "\u001b[2K     \u001b[90m━━━━━━━━━━━━━━━━━━━━━━━━━━━━━━━━━━━━━━━━\u001b[0m \u001b[32m1.0/1.0 MB\u001b[0m \u001b[31m55.8 MB/s\u001b[0m eta \u001b[36m0:00:00\u001b[0m\n",
            "\u001b[?25hRequirement already satisfied: numpy>=1.23.5 in /usr/local/lib/python3.10/dist-packages (from tensorflow) (1.23.5)\n",
            "Requirement already satisfied: opt-einsum>=2.3.2 in /usr/local/lib/python3.10/dist-packages (from tensorflow) (3.3.0)\n",
            "Requirement already satisfied: packaging in /usr/local/lib/python3.10/dist-packages (from tensorflow) (23.2)\n",
            "Requirement already satisfied: protobuf!=4.21.0,!=4.21.1,!=4.21.2,!=4.21.3,!=4.21.4,!=4.21.5,<5.0.0dev,>=3.20.3 in /usr/local/lib/python3.10/dist-packages (from tensorflow) (3.20.3)\n",
            "Requirement already satisfied: setuptools in /usr/local/lib/python3.10/dist-packages (from tensorflow) (67.7.2)\n",
            "Requirement already satisfied: six>=1.12.0 in /usr/local/lib/python3.10/dist-packages (from tensorflow) (1.16.0)\n",
            "Requirement already satisfied: termcolor>=1.1.0 in /usr/local/lib/python3.10/dist-packages (from tensorflow) (2.3.0)\n",
            "Requirement already satisfied: typing-extensions>=3.6.6 in /usr/local/lib/python3.10/dist-packages (from tensorflow) (4.5.0)\n",
            "Collecting wrapt<1.15,>=1.11.0 (from tensorflow)\n",
            "  Downloading wrapt-1.14.1-cp310-cp310-manylinux_2_5_x86_64.manylinux1_x86_64.manylinux_2_17_x86_64.manylinux2014_x86_64.whl (77 kB)\n",
            "\u001b[2K     \u001b[90m━━━━━━━━━━━━━━━━━━━━━━━━━━━━━━━━━━━━━━━━\u001b[0m \u001b[32m77.9/77.9 kB\u001b[0m \u001b[31m8.0 MB/s\u001b[0m eta \u001b[36m0:00:00\u001b[0m\n",
            "\u001b[?25hRequirement already satisfied: tensorflow-io-gcs-filesystem>=0.23.1 in /usr/local/lib/python3.10/dist-packages (from tensorflow) (0.34.0)\n",
            "Requirement already satisfied: grpcio<2.0,>=1.24.3 in /usr/local/lib/python3.10/dist-packages (from tensorflow) (1.59.0)\n",
            "Collecting tensorboard<2.15,>=2.14 (from tensorflow)\n",
            "  Downloading tensorboard-2.14.1-py3-none-any.whl (5.5 MB)\n",
            "\u001b[2K     \u001b[90m━━━━━━━━━━━━━━━━━━━━━━━━━━━━━━━━━━━━━━━━\u001b[0m \u001b[32m5.5/5.5 MB\u001b[0m \u001b[31m71.3 MB/s\u001b[0m eta \u001b[36m0:00:00\u001b[0m\n",
            "\u001b[?25hCollecting tensorflow-estimator<2.15,>=2.14.0 (from tensorflow)\n",
            "  Downloading tensorflow_estimator-2.14.0-py2.py3-none-any.whl (440 kB)\n",
            "\u001b[2K     \u001b[90m━━━━━━━━━━━━━━━━━━━━━━━━━━━━━━━━━━━━━━\u001b[0m \u001b[32m440.7/440.7 kB\u001b[0m \u001b[31m35.0 MB/s\u001b[0m eta \u001b[36m0:00:00\u001b[0m\n",
            "\u001b[?25hCollecting keras<2.15,>=2.14.0 (from tensorflow)\n",
            "  Downloading keras-2.14.0-py3-none-any.whl (1.7 MB)\n",
            "\u001b[2K     \u001b[90m━━━━━━━━━━━━━━━━━━━━━━━━━━━━━━━━━━━━━━━━\u001b[0m \u001b[32m1.7/1.7 MB\u001b[0m \u001b[31m76.9 MB/s\u001b[0m eta \u001b[36m0:00:00\u001b[0m\n",
            "\u001b[?25hRequirement already satisfied: wheel<1.0,>=0.23.0 in /usr/local/lib/python3.10/dist-packages (from astunparse>=1.6.0->tensorflow) (0.41.2)\n",
            "Requirement already satisfied: google-auth<3,>=1.6.3 in /usr/local/lib/python3.10/dist-packages (from tensorboard<2.15,>=2.14->tensorflow) (2.17.3)\n",
            "Requirement already satisfied: google-auth-oauthlib<1.1,>=0.5 in /usr/local/lib/python3.10/dist-packages (from tensorboard<2.15,>=2.14->tensorflow) (1.0.0)\n",
            "Requirement already satisfied: markdown>=2.6.8 in /usr/local/lib/python3.10/dist-packages (from tensorboard<2.15,>=2.14->tensorflow) (3.4.4)\n",
            "Requirement already satisfied: requests<3,>=2.21.0 in /usr/local/lib/python3.10/dist-packages (from tensorboard<2.15,>=2.14->tensorflow) (2.31.0)\n",
            "Requirement already satisfied: tensorboard-data-server<0.8.0,>=0.7.0 in /usr/local/lib/python3.10/dist-packages (from tensorboard<2.15,>=2.14->tensorflow) (0.7.1)\n",
            "Requirement already satisfied: werkzeug>=1.0.1 in /usr/local/lib/python3.10/dist-packages (from tensorboard<2.15,>=2.14->tensorflow) (3.0.0)\n",
            "Requirement already satisfied: cachetools<6.0,>=2.0.0 in /usr/local/lib/python3.10/dist-packages (from google-auth<3,>=1.6.3->tensorboard<2.15,>=2.14->tensorflow) (5.3.1)\n",
            "Requirement already satisfied: pyasn1-modules>=0.2.1 in /usr/local/lib/python3.10/dist-packages (from google-auth<3,>=1.6.3->tensorboard<2.15,>=2.14->tensorflow) (0.3.0)\n",
            "Requirement already satisfied: rsa<5,>=3.1.4 in /usr/local/lib/python3.10/dist-packages (from google-auth<3,>=1.6.3->tensorboard<2.15,>=2.14->tensorflow) (4.9)\n",
            "Requirement already satisfied: requests-oauthlib>=0.7.0 in /usr/local/lib/python3.10/dist-packages (from google-auth-oauthlib<1.1,>=0.5->tensorboard<2.15,>=2.14->tensorflow) (1.3.1)\n",
            "Requirement already satisfied: charset-normalizer<4,>=2 in /usr/local/lib/python3.10/dist-packages (from requests<3,>=2.21.0->tensorboard<2.15,>=2.14->tensorflow) (3.3.0)\n",
            "Requirement already satisfied: idna<4,>=2.5 in /usr/local/lib/python3.10/dist-packages (from requests<3,>=2.21.0->tensorboard<2.15,>=2.14->tensorflow) (3.4)\n",
            "Requirement already satisfied: urllib3<3,>=1.21.1 in /usr/local/lib/python3.10/dist-packages (from requests<3,>=2.21.0->tensorboard<2.15,>=2.14->tensorflow) (2.0.6)\n",
            "Requirement already satisfied: certifi>=2017.4.17 in /usr/local/lib/python3.10/dist-packages (from requests<3,>=2.21.0->tensorboard<2.15,>=2.14->tensorflow) (2023.7.22)\n",
            "Requirement already satisfied: MarkupSafe>=2.1.1 in /usr/local/lib/python3.10/dist-packages (from werkzeug>=1.0.1->tensorboard<2.15,>=2.14->tensorflow) (2.1.3)\n",
            "Requirement already satisfied: pyasn1<0.6.0,>=0.4.6 in /usr/local/lib/python3.10/dist-packages (from pyasn1-modules>=0.2.1->google-auth<3,>=1.6.3->tensorboard<2.15,>=2.14->tensorflow) (0.5.0)\n",
            "Requirement already satisfied: oauthlib>=3.0.0 in /usr/local/lib/python3.10/dist-packages (from requests-oauthlib>=0.7.0->google-auth-oauthlib<1.1,>=0.5->tensorboard<2.15,>=2.14->tensorflow) (3.2.2)\n",
            "Installing collected packages: wrapt, tensorflow-estimator, ml-dtypes, keras, tensorboard, tensorflow\n",
            "  Attempting uninstall: wrapt\n",
            "    Found existing installation: wrapt 1.15.0\n",
            "    Uninstalling wrapt-1.15.0:\n",
            "      Successfully uninstalled wrapt-1.15.0\n",
            "  Attempting uninstall: tensorflow-estimator\n",
            "    Found existing installation: tensorflow-estimator 2.13.0\n",
            "    Uninstalling tensorflow-estimator-2.13.0:\n",
            "      Successfully uninstalled tensorflow-estimator-2.13.0\n",
            "  Attempting uninstall: ml-dtypes\n",
            "    Found existing installation: ml-dtypes 0.3.1\n",
            "    Uninstalling ml-dtypes-0.3.1:\n",
            "      Successfully uninstalled ml-dtypes-0.3.1\n",
            "  Attempting uninstall: keras\n",
            "    Found existing installation: keras 2.13.1\n",
            "    Uninstalling keras-2.13.1:\n",
            "      Successfully uninstalled keras-2.13.1\n",
            "  Attempting uninstall: tensorboard\n",
            "    Found existing installation: tensorboard 2.13.0\n",
            "    Uninstalling tensorboard-2.13.0:\n",
            "      Successfully uninstalled tensorboard-2.13.0\n",
            "  Attempting uninstall: tensorflow\n",
            "    Found existing installation: tensorflow 2.13.0\n",
            "    Uninstalling tensorflow-2.13.0:\n",
            "      Successfully uninstalled tensorflow-2.13.0\n",
            "Successfully installed keras-2.14.0 ml-dtypes-0.2.0 tensorboard-2.14.1 tensorflow-2.14.0 tensorflow-estimator-2.14.0 wrapt-1.14.1\n"
          ]
        }
      ]
    },
    {
      "cell_type": "code",
      "execution_count": null,
      "metadata": {
        "id": "eP04tsIXH2yQ"
      },
      "outputs": [],
      "source": [
        "import tensorflow as tf"
      ]
    },
    {
      "cell_type": "code",
      "execution_count": null,
      "metadata": {
        "colab": {
          "base_uri": "https://localhost:8080/",
          "height": 35
        },
        "id": "faQYG8jjH_H-",
        "outputId": "097c7f12-5778-492a-8d82-178c3c08427c"
      },
      "outputs": [
        {
          "output_type": "execute_result",
          "data": {
            "text/plain": [
              "'2.14.0'"
            ],
            "application/vnd.google.colaboratory.intrinsic+json": {
              "type": "string"
            }
          },
          "metadata": {},
          "execution_count": 15
        }
      ],
      "source": [
        "tf.__version__"
      ]
    },
    {
      "cell_type": "code",
      "execution_count": null,
      "metadata": {
        "id": "tzDNgB7uIL6Y"
      },
      "outputs": [],
      "source": [
        "from tensorflow.keras.layers import Embedding\n",
        "from tensorflow.keras.preprocessing.sequence import pad_sequences\n",
        "from tensorflow.keras.models import Sequential\n",
        "from tensorflow.keras.preprocessing.text import one_hot\n",
        "from tensorflow.keras.layers import LSTM\n",
        "from tensorflow.keras.layers import Dense\n",
        "from tensorflow.keras.layers import Bidirectional\n",
        "from tensorflow.keras.layers import Dropout"
      ]
    },
    {
      "cell_type": "code",
      "execution_count": null,
      "metadata": {
        "id": "sBWarW7NIPIi"
      },
      "outputs": [],
      "source": [
        "### Vocabulary size\n",
        "voc_size=10"
      ]
    },
    {
      "cell_type": "markdown",
      "metadata": {
        "id": "2WZbsNhjIzc-"
      },
      "source": [
        "Onehot Representation"
      ]
    },
    {
      "cell_type": "code",
      "execution_count": null,
      "metadata": {
        "id": "DujLnc4NI_WU"
      },
      "outputs": [],
      "source": [
        "messages=X.copy()"
      ]
    },
    {
      "cell_type": "code",
      "execution_count": null,
      "metadata": {
        "colab": {
          "base_uri": "https://localhost:8080/",
          "height": 35
        },
        "id": "1TQWbb2vJH-8",
        "outputId": "d8cd275e-b67a-42e6-9258-d20d4792884b"
      },
      "outputs": [
        {
          "output_type": "execute_result",
          "data": {
            "text/plain": [
              "'peloton plano tx'"
            ],
            "application/vnd.google.colaboratory.intrinsic+json": {
              "type": "string"
            }
          },
          "metadata": {},
          "execution_count": 19
        }
      ],
      "source": [
        "messages['User_Search_Term'][1]"
      ]
    },
    {
      "cell_type": "code",
      "source": [
        "messages['Ad'][1]"
      ],
      "metadata": {
        "colab": {
          "base_uri": "https://localhost:8080/",
          "height": 35
        },
        "id": "fNuykS-tzm9w",
        "outputId": "8ff391df-288c-4e9b-b96d-abc8b27d14b5"
      },
      "execution_count": null,
      "outputs": [
        {
          "output_type": "execute_result",
          "data": {
            "text/plain": [
              "'Studio Cycle Comparison - Find The Best Exercise Bike - NordicTrack Official Site'"
            ],
            "application/vnd.google.colaboratory.intrinsic+json": {
              "type": "string"
            }
          },
          "metadata": {},
          "execution_count": 20
        }
      ]
    },
    {
      "cell_type": "code",
      "execution_count": null,
      "metadata": {
        "id": "ohYij27EJfMa"
      },
      "outputs": [],
      "source": [
        "messages.reset_index(inplace=True)"
      ]
    },
    {
      "cell_type": "code",
      "execution_count": null,
      "metadata": {
        "id": "rLDNXtokJrPI"
      },
      "outputs": [],
      "source": [
        "import nltk\n",
        "import re\n",
        "from nltk.corpus import stopwords"
      ]
    },
    {
      "cell_type": "code",
      "execution_count": null,
      "metadata": {
        "colab": {
          "base_uri": "https://localhost:8080/"
        },
        "id": "dqLaPzp9Jwv4",
        "outputId": "de2951a9-f463-40cf-84e9-7f889a234a5e"
      },
      "outputs": [
        {
          "output_type": "stream",
          "name": "stderr",
          "text": [
            "[nltk_data] Downloading package stopwords to /root/nltk_data...\n",
            "[nltk_data]   Unzipping corpora/stopwords.zip.\n"
          ]
        },
        {
          "output_type": "execute_result",
          "data": {
            "text/plain": [
              "True"
            ]
          },
          "metadata": {},
          "execution_count": 23
        }
      ],
      "source": [
        "nltk.download('stopwords')"
      ]
    },
    {
      "cell_type": "code",
      "execution_count": null,
      "metadata": {
        "colab": {
          "base_uri": "https://localhost:8080/"
        },
        "id": "cqVGeUsjJ6kO",
        "outputId": "fe5f39f7-0c78-435f-d80a-b0459a00c628"
      },
      "outputs": [
        {
          "output_type": "stream",
          "name": "stdout",
          "text": [
            "0\n",
            "1\n",
            "2\n",
            "3\n",
            "4\n",
            "5\n",
            "6\n",
            "7\n",
            "8\n",
            "9\n",
            "10\n",
            "11\n",
            "12\n",
            "13\n",
            "14\n",
            "15\n",
            "16\n",
            "17\n",
            "18\n",
            "19\n",
            "20\n",
            "21\n",
            "22\n",
            "23\n",
            "24\n",
            "25\n",
            "26\n",
            "27\n",
            "28\n",
            "29\n",
            "30\n",
            "31\n",
            "32\n",
            "33\n",
            "34\n",
            "35\n",
            "36\n",
            "37\n",
            "38\n",
            "39\n",
            "40\n",
            "41\n",
            "42\n",
            "43\n",
            "44\n",
            "45\n",
            "46\n",
            "47\n",
            "48\n",
            "49\n",
            "50\n",
            "51\n",
            "52\n",
            "53\n",
            "54\n",
            "55\n",
            "56\n",
            "57\n",
            "58\n",
            "59\n",
            "60\n",
            "61\n",
            "62\n",
            "63\n",
            "64\n",
            "65\n",
            "66\n",
            "67\n",
            "68\n",
            "69\n",
            "70\n",
            "71\n",
            "72\n",
            "73\n",
            "74\n",
            "75\n",
            "76\n",
            "77\n",
            "78\n",
            "79\n",
            "80\n",
            "81\n",
            "82\n",
            "83\n",
            "84\n",
            "85\n",
            "86\n",
            "87\n",
            "88\n",
            "89\n",
            "90\n",
            "91\n",
            "92\n",
            "93\n",
            "94\n",
            "95\n",
            "96\n",
            "97\n",
            "98\n",
            "99\n",
            "100\n",
            "101\n",
            "102\n",
            "103\n",
            "104\n",
            "105\n",
            "106\n",
            "107\n",
            "108\n",
            "109\n",
            "110\n",
            "111\n",
            "112\n",
            "113\n",
            "114\n",
            "115\n",
            "116\n",
            "117\n",
            "118\n",
            "119\n",
            "120\n",
            "121\n",
            "122\n",
            "123\n",
            "124\n",
            "125\n",
            "126\n",
            "127\n",
            "128\n",
            "129\n",
            "130\n",
            "131\n",
            "132\n",
            "133\n",
            "134\n",
            "135\n",
            "136\n",
            "137\n",
            "138\n",
            "139\n",
            "140\n",
            "141\n",
            "142\n",
            "143\n",
            "144\n",
            "145\n",
            "146\n",
            "147\n",
            "148\n",
            "149\n",
            "150\n",
            "151\n",
            "152\n",
            "153\n",
            "154\n",
            "155\n",
            "156\n",
            "157\n",
            "158\n",
            "159\n",
            "160\n",
            "161\n",
            "162\n",
            "163\n",
            "164\n",
            "165\n",
            "166\n",
            "167\n",
            "168\n",
            "169\n",
            "170\n",
            "171\n",
            "172\n",
            "173\n",
            "174\n",
            "175\n",
            "176\n",
            "177\n",
            "178\n",
            "179\n",
            "180\n",
            "181\n",
            "182\n",
            "183\n",
            "184\n",
            "185\n",
            "186\n",
            "187\n",
            "188\n",
            "189\n",
            "190\n",
            "191\n",
            "192\n",
            "193\n",
            "194\n",
            "195\n",
            "196\n",
            "197\n",
            "198\n",
            "199\n",
            "200\n",
            "201\n",
            "202\n",
            "203\n",
            "204\n",
            "205\n",
            "206\n",
            "207\n",
            "208\n",
            "209\n",
            "210\n",
            "211\n",
            "212\n",
            "213\n",
            "214\n",
            "215\n",
            "216\n",
            "217\n",
            "218\n",
            "219\n",
            "220\n",
            "221\n",
            "222\n",
            "223\n",
            "224\n",
            "225\n",
            "226\n",
            "227\n",
            "228\n",
            "229\n",
            "230\n",
            "231\n",
            "232\n",
            "233\n",
            "234\n",
            "235\n",
            "236\n",
            "237\n"
          ]
        }
      ],
      "source": [
        "### Dataset Preprocessing\n",
        "from nltk.stem.porter import PorterStemmer\n",
        "ps = PorterStemmer()\n",
        "corpus = []\n",
        "for i in range(0, len(messages)):\n",
        "    print(i)\n",
        "    review = re.sub('[^a-zA-Z]', ' ', messages['User_Search_Term'][i])\n",
        "    review = review.lower()\n",
        "    review = review.split()\n",
        "\n",
        "    review = [ps.stem(word) for word in review if not word in stopwords.words('english')]\n",
        "    review = ' '.join(review)\n",
        "    corpus.append(review)"
      ]
    },
    {
      "cell_type": "code",
      "execution_count": null,
      "metadata": {
        "colab": {
          "base_uri": "https://localhost:8080/"
        },
        "id": "f5uzyFzWKkPA",
        "outputId": "25c3b526-4ae8-437c-b14a-1c6609f102a7"
      },
      "outputs": [
        {
          "output_type": "execute_result",
          "data": {
            "text/plain": [
              "['wwww ncquickpass com',\n",
              " 'peloton plano tx',\n",
              " 'antelop canyon',\n",
              " 'get vaccin covid',\n",
              " 'ah com accountlogin',\n",
              " 'nike',\n",
              " 'cfl fixtur',\n",
              " 'nationwid pet insur',\n",
              " 'nike',\n",
              " 'use car',\n",
              " 'car rental lubbock tx',\n",
              " 'augusta tech adn',\n",
              " 'hampton inn guntersvil al',\n",
              " 'white strip',\n",
              " 'florist laguna beach',\n",
              " 'rachel ray nylon spoon',\n",
              " 'dental mouthwash fix teeth',\n",
              " 'june florist brooklyn',\n",
              " 'buy marbl floor tile',\n",
              " 'safeway com',\n",
              " 'enterpris rent car',\n",
              " 'flight atlanta fort sill ok',\n",
              " 'virgin',\n",
              " 'adob clean',\n",
              " 'dialysi clinic hire near',\n",
              " 'best place sell old playboy magazin',\n",
              " 'comput viru',\n",
              " 'hepat b',\n",
              " 'social secur administr',\n",
              " 'goldman sach platinum',\n",
              " 'homegood com offici websit',\n",
              " 'madam pompadour wallpap mural',\n",
              " 'southwest airlin',\n",
              " 'cowboy schedul',\n",
              " 'realmushroom',\n",
              " 'abbotsford hear center',\n",
              " 'amazon',\n",
              " 'aliana health',\n",
              " 'bilater maxilari sinu diseas',\n",
              " 'first time homebuy',\n",
              " 'norton vpn',\n",
              " 'world educ servic',\n",
              " 'new ford f regular cab sale near',\n",
              " 'creat weekli payrol calendar',\n",
              " 'archiv printer',\n",
              " 'onlin text messag servic free',\n",
              " 'discount carpet tile',\n",
              " 'mexico vs hondura',\n",
              " 'wheelchair access resort va',\n",
              " 'groceri pull cart wheel',\n",
              " 'lamp repair bellow bt',\n",
              " 'make good real estat invest',\n",
              " 'power guid spiritu enlighten book',\n",
              " 'swifter clean bathroom floor',\n",
              " 'cadillac',\n",
              " 'journal cognit develop',\n",
              " 'first digit credit card',\n",
              " 'peloton plano tx',\n",
              " 'best wash machin brand',\n",
              " 'exterior lap side',\n",
              " 'dsxf lithonia',\n",
              " 'logomix inc',\n",
              " 'snap tool box lock set',\n",
              " 'flight la guardia new yourk airport',\n",
              " 'alcohol rehab northern california',\n",
              " 'budget mover houston',\n",
              " 'english school near',\n",
              " 'cheapest carpet instal',\n",
              " 'password manag',\n",
              " 'gold dealer',\n",
              " 'phone holder fit cuphold',\n",
              " 'construct cost templat',\n",
              " 'cheap ticket last minut deal',\n",
              " 'discount plane ticket',\n",
              " 'buy lidan tablet',\n",
              " 'new found land puppi florida',\n",
              " 'free ai gener imag',\n",
              " 'mortgag refianc',\n",
              " 'best cabin pa philli',\n",
              " 'fix credit',\n",
              " 'get lawyer car accid',\n",
              " 'dark web',\n",
              " 'get lawyer car accid',\n",
              " 'supplement secur incom elig',\n",
              " 'distanc learn graduat program',\n",
              " 'lexu vehicl',\n",
              " 'trivago com flight',\n",
              " 'clear neon green raincoat',\n",
              " 'cold pain relief spray',\n",
              " 'wallet size photo',\n",
              " 'aurora flat lubbock',\n",
              " 'much expens asphalt shingl metal roof',\n",
              " 'etsi shop onlin',\n",
              " 'alaska railroad',\n",
              " 'mdbridg',\n",
              " 'simpli healthcar',\n",
              " 'maryland state kent counti properti tax portal',\n",
              " 'global pay',\n",
              " 'servicenow financi histor yahoo',\n",
              " 'best cabl internet bundl',\n",
              " 'ap ipad client fill paperwork free',\n",
              " 'equiti forex',\n",
              " 'best insul water bottl straw flip',\n",
              " 'bacon broccoli raisin salad',\n",
              " 'independ titl liberti hill',\n",
              " 'hire near gastonia',\n",
              " 'lower c without medic',\n",
              " 'inter miami',\n",
              " 'sl net mortgag',\n",
              " 'yearli pickup truck leas compani',\n",
              " 'asap cheap ticket',\n",
              " 'car model',\n",
              " 'carmax',\n",
              " 'equavl yield munici money market tax',\n",
              " 'tax foundat',\n",
              " 'manhattan ny',\n",
              " 'delawar franchis tax',\n",
              " 'sierra vista tax',\n",
              " 'auledio tier countertop fruit basket bowl veget storag crew',\n",
              " 'www lacar org',\n",
              " 'bacon mapl donut originb',\n",
              " 'ladi cloth',\n",
              " 'subaru ascent',\n",
              " 'sentinel figur',\n",
              " 'hoteld mortgag rate',\n",
              " 'airpod ee',\n",
              " 'toyota corolla hatchback',\n",
              " 'aluminum fenc repair near',\n",
              " 'color capri pant',\n",
              " 'pizza hut',\n",
              " 'rental near',\n",
              " 'buy hous',\n",
              " 'googl colaboratori',\n",
              " 'tour hagu peac palac',\n",
              " 'keto dinner deliveri',\n",
              " 'good latop onlin colleg',\n",
              " 'hormon birth control pill breast cancer risk',\n",
              " 'cruis stat',\n",
              " 'best cabin pa philli',\n",
              " 'cleveland hopkin airport',\n",
              " 'airpod ee',\n",
              " 'quilt make',\n",
              " 'chevi silverado transmiss',\n",
              " 'irregular choic wed shoe',\n",
              " 'mobil home rent south florida',\n",
              " 'holiday villa carvoeiro hotel',\n",
              " 'popular travel destin',\n",
              " 'sqle ane duscount kn mdn waplet kansa citi',\n",
              " 'free legal represent veteran',\n",
              " 'onlin homeschool high school',\n",
              " 'good qualiti bike',\n",
              " 'health insur compani',\n",
              " 'best rn bsn onlin program',\n",
              " 'owen sound dodg dealership',\n",
              " 'password flashsal',\n",
              " 'busi insur llc',\n",
              " 'f truck sale',\n",
              " 'formentor lighthous majorca',\n",
              " 'outdoor fall wreath hobbi lobbi',\n",
              " 'long term care insur',\n",
              " 'volunt opportun near',\n",
              " 'dryer hose replac',\n",
              " 'home sale zip code',\n",
              " 'gp antenna',\n",
              " 'montana whitewat',\n",
              " 'best websit competit checker seo tool',\n",
              " 'what web',\n",
              " 'attorney elder adult abus fruad',\n",
              " 'autopsi assist job st loui',\n",
              " 'meet marri women',\n",
              " 'mbti test',\n",
              " 'http studio code org join',\n",
              " 'gtx',\n",
              " 'inmat search',\n",
              " 'kenya airway direct flight kenya africa',\n",
              " 'acn rosacea meet',\n",
              " 'villa del arco',\n",
              " 'giant food store onlin shop pickup',\n",
              " 'croad wineri paso robl',\n",
              " 'electr vehicl grant',\n",
              " 'bestegg com login',\n",
              " 'mamabearlegalform',\n",
              " 'us virgin island real estat sale',\n",
              " 'crystal coast pain manag',\n",
              " 'revers mortgag properti tax',\n",
              " 'tesla model review',\n",
              " 'corvett',\n",
              " 'yellow stine',\n",
              " 'get year old st grade plano tx',\n",
              " 'bristol pediatr',\n",
              " 'citi',\n",
              " 'montroui haiti',\n",
              " 'indiana member credit union',\n",
              " 'scott credit union',\n",
              " 'cibc onlin bank',\n",
              " 'commerc meadow mobil home park',\n",
              " 'autism',\n",
              " 'kalahari round rock',\n",
              " 'fernando de noronha',\n",
              " 'catedrai beach spain',\n",
              " 'farmer insur',\n",
              " 'tesla sale',\n",
              " 'groceri etf',\n",
              " 'negoti collect credit',\n",
              " 'jim cramer',\n",
              " 'current movi play theater near',\n",
              " 'programm logic control manufactur',\n",
              " 'overhead garag door repair compani',\n",
              " 'injuri attorney near',\n",
              " 'gardin wolf furnitur maryland',\n",
              " 'lawyer softwar',\n",
              " 'reverb com',\n",
              " 'cube timer',\n",
              " 'industri electr contractor near',\n",
              " 'bed stair big dog',\n",
              " 'ashley furnitur',\n",
              " 'buick dealership near mile',\n",
              " 'carmax dull review',\n",
              " 'well fargo',\n",
              " 'pearl navarr beach',\n",
              " 'cochis counti az zillow',\n",
              " 'icon home omaha',\n",
              " 'holiday ireland',\n",
              " 'est park',\n",
              " 'hopfield austin',\n",
              " 'apart bradenton florida rent',\n",
              " 'best time visit ireland',\n",
              " 'liberdad brazil',\n",
              " 'colorado',\n",
              " 'sardinia itali',\n",
              " 'quito ecuador',\n",
              " 'miranda manalo real estat',\n",
              " 'zillow rental angola indiana',\n",
              " 'nj micro busi loan program',\n",
              " 'onlin sale item',\n",
              " 'minami granit design inc',\n",
              " 'run background check',\n",
              " 'car shuttl ann arbor dtw']"
            ]
          },
          "metadata": {},
          "execution_count": 25
        }
      ],
      "source": [
        "corpus"
      ]
    },
    {
      "cell_type": "code",
      "execution_count": null,
      "metadata": {
        "colab": {
          "base_uri": "https://localhost:8080/"
        },
        "id": "fbVv9Pp1K5Yr",
        "outputId": "2de6fa9d-1b4e-42a1-c66f-3d915b882fc5"
      },
      "outputs": [
        {
          "output_type": "execute_result",
          "data": {
            "text/plain": [
              "[[8, 5, 3],\n",
              " [7, 3, 3],\n",
              " [4, 8],\n",
              " [6, 2, 1],\n",
              " [2, 3, 2],\n",
              " [4],\n",
              " [7, 6],\n",
              " [6, 6, 2],\n",
              " [4],\n",
              " [2, 8],\n",
              " [8, 1, 1, 3],\n",
              " [4, 3, 1],\n",
              " [8, 7, 3, 3],\n",
              " [5, 8],\n",
              " [5, 2, 2],\n",
              " [7, 4, 9, 8],\n",
              " [6, 2, 9, 9],\n",
              " [2, 5, 1],\n",
              " [3, 6, 8, 5],\n",
              " [6, 3],\n",
              " [3, 1, 8],\n",
              " [3, 3, 9, 2, 4],\n",
              " [3],\n",
              " [8, 6],\n",
              " [2, 2, 5, 2],\n",
              " [8, 2, 6, 9, 8, 5],\n",
              " [4, 8],\n",
              " [5, 4],\n",
              " [1, 4, 9],\n",
              " [4, 2, 2],\n",
              " [1, 3, 4, 3],\n",
              " [9, 7, 4, 3],\n",
              " [7, 4],\n",
              " [8, 6],\n",
              " [4],\n",
              " [8, 3, 8],\n",
              " [5],\n",
              " [6, 8],\n",
              " [6, 1, 5, 8],\n",
              " [8, 7, 7],\n",
              " [9, 3],\n",
              " [4, 2, 8],\n",
              " [8, 7, 8, 7, 9, 3, 2],\n",
              " [3, 3, 4, 1],\n",
              " [8, 6],\n",
              " [7, 4, 2, 8, 6],\n",
              " [8, 7, 5],\n",
              " [3, 1, 8],\n",
              " [3, 1, 5, 3],\n",
              " [2, 9, 6, 8],\n",
              " [8, 2, 5, 8],\n",
              " [8, 9, 7, 3, 1],\n",
              " [5, 8, 3, 7, 1],\n",
              " [7, 6, 5, 8],\n",
              " [4],\n",
              " [7, 2, 9],\n",
              " [8, 7, 3, 9],\n",
              " [7, 3, 3],\n",
              " [8, 3, 5, 5],\n",
              " [2, 7, 9],\n",
              " [2, 4],\n",
              " [5, 4],\n",
              " [4, 3, 8, 6, 7],\n",
              " [3, 8, 1, 8, 9, 5],\n",
              " [9, 3, 6, 9],\n",
              " [1, 5, 5],\n",
              " [1, 1, 2],\n",
              " [6, 7, 8],\n",
              " [7, 4],\n",
              " [2, 3],\n",
              " [3, 1, 4, 2],\n",
              " [2, 5, 7],\n",
              " [3, 4, 2, 1, 8],\n",
              " [8, 5, 4],\n",
              " [3, 1, 8],\n",
              " [8, 9, 2, 2, 7],\n",
              " [6, 7, 1, 8],\n",
              " [2, 4],\n",
              " [8, 4, 1, 8],\n",
              " [9, 3],\n",
              " [6, 4, 8, 3],\n",
              " [9, 1],\n",
              " [6, 4, 8, 3],\n",
              " [8, 4, 7, 8],\n",
              " [3, 7, 3, 2],\n",
              " [4, 1],\n",
              " [9, 3, 3],\n",
              " [2, 5, 1, 1],\n",
              " [4, 6, 6, 6],\n",
              " [3, 7, 2],\n",
              " [5, 5, 1],\n",
              " [6, 8, 2, 6, 8, 5],\n",
              " [4, 3, 7],\n",
              " [3, 7],\n",
              " [2],\n",
              " [6, 8],\n",
              " [4, 5, 5, 4, 2, 2, 5],\n",
              " [3, 8],\n",
              " [1, 1, 3, 5],\n",
              " [8, 4, 8, 3],\n",
              " [2, 5, 9, 5, 6, 6],\n",
              " [9, 2],\n",
              " [8, 5, 7, 6, 1, 5],\n",
              " [3, 3, 7, 1],\n",
              " [9, 7, 2, 6],\n",
              " [5, 2, 8],\n",
              " [2, 2, 5, 6],\n",
              " [6, 6],\n",
              " [8, 5, 2],\n",
              " [1, 8, 5, 7, 6],\n",
              " [3, 3, 4],\n",
              " [8, 4],\n",
              " [9],\n",
              " [2, 2, 3, 8, 9, 2],\n",
              " [2, 5],\n",
              " [8, 2],\n",
              " [5, 1, 2],\n",
              " [3, 1, 2],\n",
              " [2, 1, 8, 1, 6, 5, 8, 9, 9],\n",
              " [4, 4, 2],\n",
              " [3, 1, 9, 8],\n",
              " [6, 8],\n",
              " [2, 2],\n",
              " [5, 8],\n",
              " [7, 2, 5],\n",
              " [7, 1],\n",
              " [8, 3, 7],\n",
              " [8, 8, 2, 2],\n",
              " [2, 5, 8],\n",
              " [6, 5],\n",
              " [1, 2],\n",
              " [3, 3],\n",
              " [6, 2],\n",
              " [7, 7, 1, 4],\n",
              " [3, 7, 1],\n",
              " [9, 1, 7, 5],\n",
              " [3, 4, 8, 1, 9, 8, 3],\n",
              " [2, 8],\n",
              " [8, 4, 1, 8],\n",
              " [4, 3, 5],\n",
              " [7, 1],\n",
              " [4, 8],\n",
              " [9, 3, 9],\n",
              " [5, 7, 2, 9],\n",
              " [8, 8, 1, 3, 7],\n",
              " [4, 2, 1, 9],\n",
              " [6, 8, 8],\n",
              " [9, 3, 1, 2, 4, 5, 7, 1],\n",
              " [6, 1, 4, 4],\n",
              " [7, 2, 7, 1],\n",
              " [9, 6, 6],\n",
              " [8, 2, 6],\n",
              " [8, 9, 1, 7, 2],\n",
              " [6, 8, 5, 1],\n",
              " [7, 5],\n",
              " [6, 2, 8],\n",
              " [8, 5, 3],\n",
              " [9, 8, 6],\n",
              " [7, 6, 5, 2, 9],\n",
              " [9, 9, 1, 2],\n",
              " [8, 4, 2],\n",
              " [7, 4, 1],\n",
              " [8, 3, 9, 3],\n",
              " [2, 9],\n",
              " [9, 2],\n",
              " [8, 3, 4, 3, 4, 3],\n",
              " [7, 1],\n",
              " [8, 3, 2, 5, 4],\n",
              " [2, 4, 8, 1, 8],\n",
              " [3, 3, 1],\n",
              " [8, 2],\n",
              " [3, 9, 3, 2, 1],\n",
              " [2],\n",
              " [2, 6],\n",
              " [5, 9, 1, 3, 5, 1],\n",
              " [4, 7, 3],\n",
              " [2, 2, 4],\n",
              " [8, 4, 1, 7, 3, 8],\n",
              " [5, 7, 5, 2],\n",
              " [5, 1, 4],\n",
              " [8, 3, 6],\n",
              " [6],\n",
              " [2, 3, 7, 7, 3, 3],\n",
              " [3, 7, 6, 4],\n",
              " [5, 2, 2, 2],\n",
              " [5, 4, 2],\n",
              " [3],\n",
              " [7, 2],\n",
              " [6, 2, 9, 1, 5, 3, 3],\n",
              " [3, 7],\n",
              " [1],\n",
              " [9, 3],\n",
              " [7, 5, 3, 8],\n",
              " [9, 3, 8],\n",
              " [7, 7, 9],\n",
              " [8, 1, 8, 8, 5],\n",
              " [8],\n",
              " [2, 2, 8],\n",
              " [5, 6, 6],\n",
              " [8, 2, 5],\n",
              " [3, 2],\n",
              " [5, 3],\n",
              " [2, 8],\n",
              " [2, 9, 3],\n",
              " [1, 3],\n",
              " [1, 5, 6, 3, 2],\n",
              " [1, 9, 8, 9],\n",
              " [2, 1, 2, 2, 6],\n",
              " [8, 8, 2],\n",
              " [1, 4, 2, 4],\n",
              " [4, 9],\n",
              " [8, 3],\n",
              " [5, 7],\n",
              " [7, 5, 2, 2],\n",
              " [5, 1, 9, 6],\n",
              " [3, 2],\n",
              " [8, 1, 2, 7],\n",
              " [9, 8, 2],\n",
              " [7, 3],\n",
              " [5, 5, 2],\n",
              " [5, 4, 3, 4],\n",
              " [9, 8, 2],\n",
              " [4, 3],\n",
              " [7, 5],\n",
              " [8, 2],\n",
              " [4, 8, 7, 1],\n",
              " [8, 7, 4, 3],\n",
              " [9, 6],\n",
              " [3],\n",
              " [6, 8],\n",
              " [7, 6],\n",
              " [4, 5, 7, 3],\n",
              " [4, 1, 5, 7],\n",
              " [8, 5, 6, 9, 2],\n",
              " [7, 3, 7],\n",
              " [7, 4, 1, 4],\n",
              " [3, 7, 6],\n",
              " [8, 3, 2, 9, 2]]"
            ]
          },
          "metadata": {},
          "execution_count": 26
        }
      ],
      "source": [
        "onehot_repr=[one_hot(words,voc_size)for words in corpus]\n",
        "onehot_repr"
      ]
    },
    {
      "cell_type": "markdown",
      "metadata": {
        "id": "G4MI8Ik7Lb1q"
      },
      "source": [
        "Embedding Representation"
      ]
    },
    {
      "cell_type": "code",
      "execution_count": null,
      "metadata": {
        "colab": {
          "base_uri": "https://localhost:8080/"
        },
        "id": "H91ukOZsLeO9",
        "outputId": "8946b335-7608-4c35-948f-02d787dd7421"
      },
      "outputs": [
        {
          "output_type": "stream",
          "name": "stdout",
          "text": [
            "[[0 0 0 ... 8 5 3]\n",
            " [0 0 0 ... 7 3 3]\n",
            " [0 0 0 ... 0 4 8]\n",
            " ...\n",
            " [0 0 0 ... 4 1 4]\n",
            " [0 0 0 ... 3 7 6]\n",
            " [0 0 0 ... 2 9 2]]\n"
          ]
        }
      ],
      "source": [
        "sent_length=10\n",
        "embedded_docs=pad_sequences(onehot_repr,padding='pre',maxlen=sent_length)\n",
        "print(embedded_docs)"
      ]
    },
    {
      "cell_type": "code",
      "execution_count": null,
      "metadata": {
        "colab": {
          "base_uri": "https://localhost:8080/"
        },
        "id": "0sYl7GL0Lr4L",
        "outputId": "de439bf5-9c14-467d-fc15-c03c33e2fef6"
      },
      "outputs": [
        {
          "output_type": "execute_result",
          "data": {
            "text/plain": [
              "array([0, 0, 0, 0, 0, 0, 0, 8, 5, 3], dtype=int32)"
            ]
          },
          "metadata": {},
          "execution_count": 28
        }
      ],
      "source": [
        "embedded_docs[0]"
      ]
    },
    {
      "cell_type": "code",
      "execution_count": null,
      "metadata": {
        "colab": {
          "base_uri": "https://localhost:8080/"
        },
        "id": "oXRJHXCxLwCQ",
        "outputId": "f6c7c8ea-6242-4b72-db19-180c223b6d5f"
      },
      "outputs": [
        {
          "output_type": "stream",
          "name": "stdout",
          "text": [
            "Model: \"sequential\"\n",
            "_________________________________________________________________\n",
            " Layer (type)                Output Shape              Param #   \n",
            "=================================================================\n",
            " embedding (Embedding)       (None, 10, 10)            100       \n",
            "                                                                 \n",
            " lstm (LSTM)                 (None, 25)                3600      \n",
            "                                                                 \n",
            " dense (Dense)               (None, 1)                 26        \n",
            "                                                                 \n",
            "=================================================================\n",
            "Total params: 3726 (14.55 KB)\n",
            "Trainable params: 3726 (14.55 KB)\n",
            "Non-trainable params: 0 (0.00 Byte)\n",
            "_________________________________________________________________\n",
            "None\n"
          ]
        }
      ],
      "source": [
        "## Creating model\n",
        "embedding_vector_features=10\n",
        "model=Sequential()\n",
        "model.add(Embedding(voc_size,embedding_vector_features,input_length=sent_length))\n",
        "model.add(LSTM(25))\n",
        "model.add(Dense(1,activation='sigmoid'))\n",
        "model.compile(loss='binary_crossentropy',optimizer='adam',metrics=['accuracy'])\n",
        "print(model.summary())"
      ]
    },
    {
      "cell_type": "code",
      "execution_count": null,
      "metadata": {
        "colab": {
          "base_uri": "https://localhost:8080/"
        },
        "id": "0LaiIwY4MAsO",
        "outputId": "db14b8fa-c811-48c7-8546-e01f7e912fa8"
      },
      "outputs": [
        {
          "output_type": "stream",
          "name": "stdout",
          "text": [
            "Model: \"sequential_1\"\n",
            "_________________________________________________________________\n",
            " Layer (type)                Output Shape              Param #   \n",
            "=================================================================\n",
            " embedding_1 (Embedding)     (None, 10, 10)            100       \n",
            "                                                                 \n",
            " bidirectional (Bidirection  (None, 50)                7200      \n",
            " al)                                                             \n",
            "                                                                 \n",
            " dropout (Dropout)           (None, 50)                0         \n",
            "                                                                 \n",
            " dense_1 (Dense)             (None, 1)                 51        \n",
            "                                                                 \n",
            "=================================================================\n",
            "Total params: 7351 (28.71 KB)\n",
            "Trainable params: 7351 (28.71 KB)\n",
            "Non-trainable params: 0 (0.00 Byte)\n",
            "_________________________________________________________________\n",
            "None\n"
          ]
        }
      ],
      "source": [
        "## Creating model\n",
        "embedding_vector_features=10\n",
        "model1=Sequential()\n",
        "model1.add(Embedding(voc_size,embedding_vector_features,input_length=sent_length))\n",
        "model1.add(Bidirectional(LSTM(25)))\n",
        "model1.add(Dropout(0.7))\n",
        "model1.add(Dense(1,activation='sigmoid'))\n",
        "model1.compile(loss='binary_crossentropy',optimizer='adam',metrics=['accuracy'])\n",
        "print(model1.summary())"
      ]
    },
    {
      "cell_type": "code",
      "execution_count": null,
      "metadata": {
        "colab": {
          "base_uri": "https://localhost:8080/"
        },
        "id": "gjS6DquvMFTB",
        "outputId": "2b3f933f-1686-4431-af8e-1cf02a20f838"
      },
      "outputs": [
        {
          "output_type": "execute_result",
          "data": {
            "text/plain": [
              "(238, (238,))"
            ]
          },
          "metadata": {},
          "execution_count": 31
        }
      ],
      "source": [
        "len(embedded_docs),y.shape"
      ]
    },
    {
      "cell_type": "code",
      "execution_count": null,
      "metadata": {
        "id": "7VY7M_igMOk4"
      },
      "outputs": [],
      "source": [
        "import numpy as np\n",
        "X_final=np.array(embedded_docs)\n",
        "y_final=np.array(y)"
      ]
    },
    {
      "cell_type": "code",
      "execution_count": null,
      "metadata": {
        "colab": {
          "base_uri": "https://localhost:8080/"
        },
        "id": "RVg7j5qQMUgZ",
        "outputId": "08e46f03-819b-402f-eb20-17c0fb5206fb"
      },
      "outputs": [
        {
          "output_type": "execute_result",
          "data": {
            "text/plain": [
              "((238, 10), (238,))"
            ]
          },
          "metadata": {},
          "execution_count": 33
        }
      ],
      "source": [
        "X_final.shape,y_final.shape"
      ]
    },
    {
      "cell_type": "code",
      "execution_count": null,
      "metadata": {
        "id": "z7t95c07Mbhe"
      },
      "outputs": [],
      "source": [
        "from sklearn.model_selection import train_test_split\n",
        "X_train, X_test, y_train, y_test = train_test_split(X_final, y_final, test_size=0.33, random_state=42)"
      ]
    },
    {
      "cell_type": "markdown",
      "metadata": {
        "id": "PX-JHEjBMk1Z"
      },
      "source": [
        "Model Training"
      ]
    },
    {
      "cell_type": "code",
      "execution_count": null,
      "metadata": {
        "colab": {
          "base_uri": "https://localhost:8080/"
        },
        "id": "V5ZrbnhOMq69",
        "outputId": "7437d918-332a-4f83-cb25-85cab9ed4dd3"
      },
      "outputs": [
        {
          "output_type": "stream",
          "name": "stdout",
          "text": [
            "Epoch 1/10\n",
            "10/10 [==============================] - 12s 534ms/step - loss: 0.6915 - accuracy: 0.5849 - val_loss: 0.6936 - val_accuracy: 0.5063\n",
            "Epoch 2/10\n",
            "10/10 [==============================] - 1s 53ms/step - loss: 0.6855 - accuracy: 0.5786 - val_loss: 0.6940 - val_accuracy: 0.5063\n",
            "Epoch 3/10\n",
            "10/10 [==============================] - 1s 64ms/step - loss: 0.6869 - accuracy: 0.5597 - val_loss: 0.6946 - val_accuracy: 0.5063\n",
            "Epoch 4/10\n",
            "10/10 [==============================] - 1s 70ms/step - loss: 0.6889 - accuracy: 0.5723 - val_loss: 0.6954 - val_accuracy: 0.5063\n",
            "Epoch 5/10\n",
            "10/10 [==============================] - 0s 41ms/step - loss: 0.6830 - accuracy: 0.5912 - val_loss: 0.6967 - val_accuracy: 0.5063\n",
            "Epoch 6/10\n",
            "10/10 [==============================] - 0s 40ms/step - loss: 0.6762 - accuracy: 0.5660 - val_loss: 0.6976 - val_accuracy: 0.5063\n",
            "Epoch 7/10\n",
            "10/10 [==============================] - 0s 34ms/step - loss: 0.6815 - accuracy: 0.5723 - val_loss: 0.6992 - val_accuracy: 0.5063\n",
            "Epoch 8/10\n",
            "10/10 [==============================] - 0s 31ms/step - loss: 0.6837 - accuracy: 0.5723 - val_loss: 0.7006 - val_accuracy: 0.5063\n",
            "Epoch 9/10\n",
            "10/10 [==============================] - 0s 33ms/step - loss: 0.6848 - accuracy: 0.5723 - val_loss: 0.7012 - val_accuracy: 0.5063\n",
            "Epoch 10/10\n",
            "10/10 [==============================] - 0s 37ms/step - loss: 0.6878 - accuracy: 0.5660 - val_loss: 0.7017 - val_accuracy: 0.5063\n"
          ]
        },
        {
          "output_type": "execute_result",
          "data": {
            "text/plain": [
              "<keras.src.callbacks.History at 0x7936bf151ea0>"
            ]
          },
          "metadata": {},
          "execution_count": 35
        }
      ],
      "source": [
        "### Finally Training\n",
        "model1.fit(X_train,y_train,validation_data=(X_test,y_test),epochs=10,batch_size=16)"
      ]
    },
    {
      "cell_type": "markdown",
      "metadata": {
        "id": "9BYxBdMlJkyT"
      },
      "source": [
        "Performance Metrics And Accuracy"
      ]
    },
    {
      "cell_type": "code",
      "execution_count": null,
      "metadata": {
        "id": "F6dW7aatKNtr",
        "colab": {
          "base_uri": "https://localhost:8080/"
        },
        "outputId": "ee48efc0-6f4a-48df-9258-3de53cd6cc73"
      },
      "outputs": [
        {
          "output_type": "stream",
          "name": "stdout",
          "text": [
            "3/3 [==============================] - 2s 8ms/step\n"
          ]
        }
      ],
      "source": [
        "y_pred1 = np.argmax(model1.predict(X_test),axis=1)"
      ]
    },
    {
      "cell_type": "code",
      "execution_count": null,
      "metadata": {
        "id": "BV7UZ8q8oYk5",
        "colab": {
          "base_uri": "https://localhost:8080/"
        },
        "outputId": "01772a64-6d63-46fb-8ac0-6e544daffa71"
      },
      "outputs": [
        {
          "output_type": "execute_result",
          "data": {
            "text/plain": [
              "array([0, 0, 0, 0, 0, 0, 0, 0, 0, 0, 0, 0, 0, 0, 0, 0, 0, 0, 0, 0, 0, 0,\n",
              "       0, 0, 0, 0, 0, 0, 0, 0, 0, 0, 0, 0, 0, 0, 0, 0, 0, 0, 0, 0, 0, 0,\n",
              "       0, 0, 0, 0, 0, 0, 0, 0, 0, 0, 0, 0, 0, 0, 0, 0, 0, 0, 0, 0, 0, 0,\n",
              "       0, 0, 0, 0, 0, 0, 0, 0, 0, 0, 0, 0, 0])"
            ]
          },
          "metadata": {},
          "execution_count": 37
        }
      ],
      "source": [
        "y_pred1"
      ]
    },
    {
      "cell_type": "code",
      "execution_count": null,
      "metadata": {
        "id": "S7QdriRAKg_q"
      },
      "outputs": [],
      "source": [
        "from sklearn.metrics import confusion_matrix"
      ]
    },
    {
      "cell_type": "code",
      "execution_count": null,
      "metadata": {
        "id": "tEN64QvfKmbi",
        "colab": {
          "base_uri": "https://localhost:8080/"
        },
        "outputId": "cd604cf1-ba2d-4b07-dd41-364f0b61b7f5"
      },
      "outputs": [
        {
          "output_type": "execute_result",
          "data": {
            "text/plain": [
              "array([[39,  0],\n",
              "       [40,  0]])"
            ]
          },
          "metadata": {},
          "execution_count": 39
        }
      ],
      "source": [
        "confusion_matrix(y_test,y_pred1)"
      ]
    },
    {
      "cell_type": "code",
      "execution_count": null,
      "metadata": {
        "id": "2TPbfBc-Kym4",
        "colab": {
          "base_uri": "https://localhost:8080/"
        },
        "outputId": "f56545af-e65e-4ccb-e4e5-1fd2d545c14a"
      },
      "outputs": [
        {
          "output_type": "execute_result",
          "data": {
            "text/plain": [
              "0.4936708860759494"
            ]
          },
          "metadata": {},
          "execution_count": 40
        }
      ],
      "source": [
        "from sklearn.metrics import accuracy_score\n",
        "accuracy_score(y_test,y_pred1)"
      ]
    },
    {
      "cell_type": "code",
      "execution_count": null,
      "metadata": {
        "id": "dJCFibL1K5Wa",
        "colab": {
          "base_uri": "https://localhost:8080/"
        },
        "outputId": "fd32ab1f-4282-411a-999e-e5de755a22f8"
      },
      "outputs": [
        {
          "output_type": "stream",
          "name": "stdout",
          "text": [
            "              precision    recall  f1-score   support\n",
            "\n",
            "           0       0.49      1.00      0.66        39\n",
            "           1       0.00      0.00      0.00        40\n",
            "\n",
            "    accuracy                           0.49        79\n",
            "   macro avg       0.25      0.50      0.33        79\n",
            "weighted avg       0.24      0.49      0.33        79\n",
            "\n"
          ]
        },
        {
          "output_type": "stream",
          "name": "stderr",
          "text": [
            "/usr/local/lib/python3.10/dist-packages/sklearn/metrics/_classification.py:1344: UndefinedMetricWarning: Precision and F-score are ill-defined and being set to 0.0 in labels with no predicted samples. Use `zero_division` parameter to control this behavior.\n",
            "  _warn_prf(average, modifier, msg_start, len(result))\n",
            "/usr/local/lib/python3.10/dist-packages/sklearn/metrics/_classification.py:1344: UndefinedMetricWarning: Precision and F-score are ill-defined and being set to 0.0 in labels with no predicted samples. Use `zero_division` parameter to control this behavior.\n",
            "  _warn_prf(average, modifier, msg_start, len(result))\n",
            "/usr/local/lib/python3.10/dist-packages/sklearn/metrics/_classification.py:1344: UndefinedMetricWarning: Precision and F-score are ill-defined and being set to 0.0 in labels with no predicted samples. Use `zero_division` parameter to control this behavior.\n",
            "  _warn_prf(average, modifier, msg_start, len(result))\n"
          ]
        }
      ],
      "source": [
        "from sklearn.metrics import classification_report\n",
        "print(classification_report(y_test,y_pred1))"
      ]
    },
    {
      "cell_type": "code",
      "source": [
        "def predict_rel(predict_relevance):\n",
        "    concatenated_text = ' '.join(predict_relevance)\n",
        "    onehot_reprr = [one_hot(concatenated_text.lower(), voc_size)]\n",
        "    padded = pad_sequences(onehot_reprr, maxlen=sent_length, padding='pre')\n",
        "    return model1.predict(padded)\n",
        "\n",
        "predict_relevance = [\"nike\", \"Shop Womens Shops: Amazon - Amazon.com Officia...\", \"www.amazon.com/apparel/womens-shops\"]\n",
        "predicted_score = predict_rel(predict_relevance)\n"
      ],
      "metadata": {
        "id": "N1_7xHr9zGd4",
        "colab": {
          "base_uri": "https://localhost:8080/"
        },
        "outputId": "b856a1ac-ddfd-49e1-a73d-498bddeb6c2b"
      },
      "execution_count": null,
      "outputs": [
        {
          "output_type": "stream",
          "name": "stdout",
          "text": [
            "1/1 [==============================] - 0s 81ms/step\n"
          ]
        }
      ]
    },
    {
      "cell_type": "code",
      "source": [
        "predicted_score"
      ],
      "metadata": {
        "id": "mEvo-onTzqtl",
        "colab": {
          "base_uri": "https://localhost:8080/"
        },
        "outputId": "b532d9c5-2fb8-4958-ac87-db02c3d72b98"
      },
      "execution_count": null,
      "outputs": [
        {
          "output_type": "execute_result",
          "data": {
            "text/plain": [
              "array([[0.541256]], dtype=float32)"
            ]
          },
          "metadata": {},
          "execution_count": 43
        }
      ]
    },
    {
      "cell_type": "code",
      "source": [
        "pip install streamlit"
      ],
      "metadata": {
        "id": "3MBrGnVCDgOd",
        "colab": {
          "base_uri": "https://localhost:8080/"
        },
        "outputId": "1f34ba14-36e7-4fd4-8d1d-ccdfccd7f443"
      },
      "execution_count": null,
      "outputs": [
        {
          "output_type": "stream",
          "name": "stdout",
          "text": [
            "Collecting streamlit\n",
            "  Downloading streamlit-1.27.2-py2.py3-none-any.whl (7.6 MB)\n",
            "\u001b[2K     \u001b[90m━━━━━━━━━━━━━━━━━━━━━━━━━━━━━━━━━━━━━━━━\u001b[0m \u001b[32m7.6/7.6 MB\u001b[0m \u001b[31m17.8 MB/s\u001b[0m eta \u001b[36m0:00:00\u001b[0m\n",
            "\u001b[?25hRequirement already satisfied: altair<6,>=4.0 in /usr/local/lib/python3.10/dist-packages (from streamlit) (4.2.2)\n",
            "Requirement already satisfied: blinker<2,>=1.0.0 in /usr/lib/python3/dist-packages (from streamlit) (1.4)\n",
            "Requirement already satisfied: cachetools<6,>=4.0 in /usr/local/lib/python3.10/dist-packages (from streamlit) (5.3.1)\n",
            "Requirement already satisfied: click<9,>=7.0 in /usr/local/lib/python3.10/dist-packages (from streamlit) (8.1.7)\n",
            "Requirement already satisfied: importlib-metadata<7,>=1.4 in /usr/local/lib/python3.10/dist-packages (from streamlit) (6.8.0)\n",
            "Requirement already satisfied: numpy<2,>=1.19.3 in /usr/local/lib/python3.10/dist-packages (from streamlit) (1.23.5)\n",
            "Requirement already satisfied: packaging<24,>=16.8 in /usr/local/lib/python3.10/dist-packages (from streamlit) (23.2)\n",
            "Requirement already satisfied: pandas<3,>=1.3.0 in /usr/local/lib/python3.10/dist-packages (from streamlit) (1.5.3)\n",
            "Requirement already satisfied: pillow<11,>=7.1.0 in /usr/local/lib/python3.10/dist-packages (from streamlit) (9.4.0)\n",
            "Requirement already satisfied: protobuf<5,>=3.20 in /usr/local/lib/python3.10/dist-packages (from streamlit) (3.20.3)\n",
            "Requirement already satisfied: pyarrow>=6.0 in /usr/local/lib/python3.10/dist-packages (from streamlit) (9.0.0)\n",
            "Requirement already satisfied: python-dateutil<3,>=2.7.3 in /usr/local/lib/python3.10/dist-packages (from streamlit) (2.8.2)\n",
            "Requirement already satisfied: requests<3,>=2.27 in /usr/local/lib/python3.10/dist-packages (from streamlit) (2.31.0)\n",
            "Requirement already satisfied: rich<14,>=10.14.0 in /usr/local/lib/python3.10/dist-packages (from streamlit) (13.6.0)\n",
            "Requirement already satisfied: tenacity<9,>=8.1.0 in /usr/local/lib/python3.10/dist-packages (from streamlit) (8.2.3)\n",
            "Requirement already satisfied: toml<2,>=0.10.1 in /usr/local/lib/python3.10/dist-packages (from streamlit) (0.10.2)\n",
            "Requirement already satisfied: typing-extensions<5,>=4.3.0 in /usr/local/lib/python3.10/dist-packages (from streamlit) (4.5.0)\n",
            "Requirement already satisfied: tzlocal<6,>=1.1 in /usr/local/lib/python3.10/dist-packages (from streamlit) (5.1)\n",
            "Collecting validators<1,>=0.2 (from streamlit)\n",
            "  Downloading validators-0.22.0-py3-none-any.whl (26 kB)\n",
            "Collecting gitpython!=3.1.19,<4,>=3.0.7 (from streamlit)\n",
            "  Downloading GitPython-3.1.37-py3-none-any.whl (190 kB)\n",
            "\u001b[2K     \u001b[90m━━━━━━━━━━━━━━━━━━━━━━━━━━━━━━━━━━━━━━\u001b[0m \u001b[32m190.0/190.0 kB\u001b[0m \u001b[31m15.5 MB/s\u001b[0m eta \u001b[36m0:00:00\u001b[0m\n",
            "\u001b[?25hCollecting pydeck<1,>=0.8.0b4 (from streamlit)\n",
            "  Downloading pydeck-0.8.1b0-py2.py3-none-any.whl (4.8 MB)\n",
            "\u001b[2K     \u001b[90m━━━━━━━━━━━━━━━━━━━━━━━━━━━━━━━━━━━━━━━━\u001b[0m \u001b[32m4.8/4.8 MB\u001b[0m \u001b[31m44.9 MB/s\u001b[0m eta \u001b[36m0:00:00\u001b[0m\n",
            "\u001b[?25hRequirement already satisfied: tornado<7,>=6.0.3 in /usr/local/lib/python3.10/dist-packages (from streamlit) (6.3.2)\n",
            "Collecting watchdog>=2.1.5 (from streamlit)\n",
            "  Downloading watchdog-3.0.0-py3-none-manylinux2014_x86_64.whl (82 kB)\n",
            "\u001b[2K     \u001b[90m━━━━━━━━━━━━━━━━━━━━━━━━━━━━━━━━━━━━━━━━\u001b[0m \u001b[32m82.1/82.1 kB\u001b[0m \u001b[31m4.8 MB/s\u001b[0m eta \u001b[36m0:00:00\u001b[0m\n",
            "\u001b[?25hRequirement already satisfied: entrypoints in /usr/local/lib/python3.10/dist-packages (from altair<6,>=4.0->streamlit) (0.4)\n",
            "Requirement already satisfied: jinja2 in /usr/local/lib/python3.10/dist-packages (from altair<6,>=4.0->streamlit) (3.1.2)\n",
            "Requirement already satisfied: jsonschema>=3.0 in /usr/local/lib/python3.10/dist-packages (from altair<6,>=4.0->streamlit) (4.19.1)\n",
            "Requirement already satisfied: toolz in /usr/local/lib/python3.10/dist-packages (from altair<6,>=4.0->streamlit) (0.12.0)\n",
            "Collecting gitdb<5,>=4.0.1 (from gitpython!=3.1.19,<4,>=3.0.7->streamlit)\n",
            "  Downloading gitdb-4.0.10-py3-none-any.whl (62 kB)\n",
            "\u001b[2K     \u001b[90m━━━━━━━━━━━━━━━━━━━━━━━━━━━━━━━━━━━━━━━━\u001b[0m \u001b[32m62.7/62.7 kB\u001b[0m \u001b[31m4.7 MB/s\u001b[0m eta \u001b[36m0:00:00\u001b[0m\n",
            "\u001b[?25hRequirement already satisfied: zipp>=0.5 in /usr/local/lib/python3.10/dist-packages (from importlib-metadata<7,>=1.4->streamlit) (3.17.0)\n",
            "Requirement already satisfied: pytz>=2020.1 in /usr/local/lib/python3.10/dist-packages (from pandas<3,>=1.3.0->streamlit) (2023.3.post1)\n",
            "Requirement already satisfied: six>=1.5 in /usr/local/lib/python3.10/dist-packages (from python-dateutil<3,>=2.7.3->streamlit) (1.16.0)\n",
            "Requirement already satisfied: charset-normalizer<4,>=2 in /usr/local/lib/python3.10/dist-packages (from requests<3,>=2.27->streamlit) (3.3.0)\n",
            "Requirement already satisfied: idna<4,>=2.5 in /usr/local/lib/python3.10/dist-packages (from requests<3,>=2.27->streamlit) (3.4)\n",
            "Requirement already satisfied: urllib3<3,>=1.21.1 in /usr/local/lib/python3.10/dist-packages (from requests<3,>=2.27->streamlit) (2.0.6)\n",
            "Requirement already satisfied: certifi>=2017.4.17 in /usr/local/lib/python3.10/dist-packages (from requests<3,>=2.27->streamlit) (2023.7.22)\n",
            "Requirement already satisfied: markdown-it-py>=2.2.0 in /usr/local/lib/python3.10/dist-packages (from rich<14,>=10.14.0->streamlit) (3.0.0)\n",
            "Requirement already satisfied: pygments<3.0.0,>=2.13.0 in /usr/local/lib/python3.10/dist-packages (from rich<14,>=10.14.0->streamlit) (2.16.1)\n",
            "Collecting smmap<6,>=3.0.1 (from gitdb<5,>=4.0.1->gitpython!=3.1.19,<4,>=3.0.7->streamlit)\n",
            "  Downloading smmap-5.0.1-py3-none-any.whl (24 kB)\n",
            "Requirement already satisfied: MarkupSafe>=2.0 in /usr/local/lib/python3.10/dist-packages (from jinja2->altair<6,>=4.0->streamlit) (2.1.3)\n",
            "Requirement already satisfied: attrs>=22.2.0 in /usr/local/lib/python3.10/dist-packages (from jsonschema>=3.0->altair<6,>=4.0->streamlit) (23.1.0)\n",
            "Requirement already satisfied: jsonschema-specifications>=2023.03.6 in /usr/local/lib/python3.10/dist-packages (from jsonschema>=3.0->altair<6,>=4.0->streamlit) (2023.7.1)\n",
            "Requirement already satisfied: referencing>=0.28.4 in /usr/local/lib/python3.10/dist-packages (from jsonschema>=3.0->altair<6,>=4.0->streamlit) (0.30.2)\n",
            "Requirement already satisfied: rpds-py>=0.7.1 in /usr/local/lib/python3.10/dist-packages (from jsonschema>=3.0->altair<6,>=4.0->streamlit) (0.10.4)\n",
            "Requirement already satisfied: mdurl~=0.1 in /usr/local/lib/python3.10/dist-packages (from markdown-it-py>=2.2.0->rich<14,>=10.14.0->streamlit) (0.1.2)\n",
            "Installing collected packages: watchdog, validators, smmap, pydeck, gitdb, gitpython, streamlit\n",
            "Successfully installed gitdb-4.0.10 gitpython-3.1.37 pydeck-0.8.1b0 smmap-5.0.1 streamlit-1.27.2 validators-0.22.0 watchdog-3.0.0\n"
          ]
        }
      ]
    },
    {
      "cell_type": "code",
      "source": [
        "import streamlit as st"
      ],
      "metadata": {
        "id": "JvWYtUuSDXNd"
      },
      "execution_count": null,
      "outputs": []
    },
    {
      "cell_type": "markdown",
      "source": [
        "Saving The Trained Model"
      ],
      "metadata": {
        "id": "AnfJ8U9APJYR"
      }
    },
    {
      "cell_type": "code",
      "source": [
        "# Assuming 'model' is your trained Keras model\n",
        "model.save('trained_model.h5')\n"
      ],
      "metadata": {
        "id": "cr-kOp91N1bx",
        "colab": {
          "base_uri": "https://localhost:8080/"
        },
        "outputId": "74d5992d-938a-49a0-9303-e27790398a84"
      },
      "execution_count": null,
      "outputs": [
        {
          "output_type": "stream",
          "name": "stderr",
          "text": [
            "/usr/local/lib/python3.10/dist-packages/keras/src/engine/training.py:3079: UserWarning: You are saving your model as an HDF5 file via `model.save()`. This file format is considered legacy. We recommend using instead the native Keras format, e.g. `model.save('my_model.keras')`.\n",
            "  saving_api.save_model(\n"
          ]
        }
      ]
    },
    {
      "cell_type": "code",
      "source": [
        "pip install keras\n"
      ],
      "metadata": {
        "id": "agNkGXI3xGGC",
        "colab": {
          "base_uri": "https://localhost:8080/"
        },
        "outputId": "82494a9d-ade3-4f01-b2c4-6f3584dda2f8"
      },
      "execution_count": null,
      "outputs": [
        {
          "output_type": "stream",
          "name": "stdout",
          "text": [
            "Requirement already satisfied: keras in /usr/local/lib/python3.10/dist-packages (2.14.0)\n"
          ]
        }
      ]
    },
    {
      "cell_type": "code",
      "source": [
        "from keras.models import load_model\n",
        "\n",
        "# Provide the correct file path to your saved model\n",
        "model_filepath = 'trained_model.h5'\n",
        "\n",
        "# Load the saved model\n",
        "loaded_model = load_model(model_filepath)\n"
      ],
      "metadata": {
        "id": "-sJER_k4si1z"
      },
      "execution_count": null,
      "outputs": []
    },
    {
      "cell_type": "code",
      "source": [
        "# Load the saved model\n",
        "#with open('trained_model.h5', 'rb') as model_file:\n",
        "    #loaded_model = load_model(model_file)\n",
        "\n",
        "# Define the text data you want to predict\n",
        "predict_relevance = ['Car shuttle from ann arbor to DTW', 'Book Airport Service Now - Top airport Car Service - Hassle-Free Airport Rides', 'limoinmiami.com/Miami Airport/Car Service']\n",
        "\n",
        "# Call the predict_rel function using the loaded model\n",
        "predicted_score = predict_rel(predict_relevance)\n",
        "print(predicted_score)\n"
      ],
      "metadata": {
        "id": "gkW2Llu_EPCO",
        "colab": {
          "base_uri": "https://localhost:8080/"
        },
        "outputId": "7789789f-cdf8-4d30-8ea4-48f79fb4050b"
      },
      "execution_count": null,
      "outputs": [
        {
          "output_type": "stream",
          "name": "stdout",
          "text": [
            "1/1 [==============================] - 0s 58ms/step\n",
            "[[0.5408209]]\n"
          ]
        }
      ]
    }
  ],
  "metadata": {
    "colab": {
      "provenance": []
    },
    "kernelspec": {
      "display_name": "Python 3",
      "name": "python3"
    },
    "language_info": {
      "name": "python"
    }
  },
  "nbformat": 4,
  "nbformat_minor": 0
}