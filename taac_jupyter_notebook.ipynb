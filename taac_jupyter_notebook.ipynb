{
 "cells": [
  {
   "cell_type": "markdown",
   "id": "59a3e859",
   "metadata": {},
   "source": [
    "This is a text classification project using Natural Language Processing technique. The text classification is part of an online paid classification task. The data was gathered from performing the online tasks and recording the data.\n",
    "The data gathered was only the data that had over 80% accuracy."
   ]
  },
  {
   "cell_type": "markdown",
   "id": "4f57bca4",
   "metadata": {},
   "source": [
    "The Steps involved are:\n",
    "    1. Loading all the necessary libraries\n",
    "    2. Loading the data\n",
    "    3. Text Cleaning \n",
    "    4. Text Preprocessing\n",
    "    5. Data Splitting for Modelling\n",
    "    6. Data Transformation\n",
    "    7. Target column values balancing (for train data)\n",
    "    8. Modelling\n",
    "    9. Model Evaluation\n",
    "    10. Model Serialization"
   ]
  },
  {
   "cell_type": "code",
   "execution_count": 1,
   "id": "f95fb315",
   "metadata": {},
   "outputs": [],
   "source": [
    "import pandas as pd #reading in the data\n",
    "import numpy as np ##numerical manipulation of the datasets"
   ]
  },
  {
   "cell_type": "code",
   "execution_count": 2,
   "id": "71dc1b7a",
   "metadata": {},
   "outputs": [
    {
     "name": "stderr",
     "output_type": "stream",
     "text": [
      "[nltk_data] Downloading package stopwords to\n",
      "[nltk_data]     C:\\Users\\kiptanui\\AppData\\Roaming\\nltk_data...\n",
      "[nltk_data]   Package stopwords is already up-to-date!\n"
     ]
    }
   ],
   "source": [
    "#text\n",
    "import nltk                   \n",
    "nltk.download(\"stopwords\")    #Downloading the 'stopwords' corpus from nltk\n",
    "import string                 #'string' module which contains string operations\n",
    "import re                     # The 're' module which provides support for regular expressions\n",
    "import json                   # Working with JSON data\n",
    "from bs4 import BeautifulSoup #library for parsing HTML and XML documents"
   ]
  },
  {
   "cell_type": "code",
   "execution_count": 3,
   "id": "f0176d08",
   "metadata": {},
   "outputs": [],
   "source": [
    "#Data Preprocessing\n",
    "from sklearn.feature_extraction.text import CountVectorizer"
   ]
  },
  {
   "cell_type": "code",
   "execution_count": 4,
   "id": "4b81b9a1",
   "metadata": {},
   "outputs": [],
   "source": [
    "#Importing SMOTE class for handling imbalanced datasets\n",
    "from imblearn.over_sampling import SMOTE"
   ]
  },
  {
   "cell_type": "code",
   "execution_count": 5,
   "id": "267bd5e7",
   "metadata": {},
   "outputs": [],
   "source": [
    "#Machine Learning Libraries for classification\n",
    "from sklearn.naive_bayes import MultinomialNB\n",
    "from sklearn.ensemble import RandomForestClassifier\n",
    "from sklearn.linear_model import LogisticRegression\n",
    "from sklearn.svm import SVC"
   ]
  },
  {
   "cell_type": "code",
   "execution_count": 6,
   "id": "713598a7",
   "metadata": {},
   "outputs": [],
   "source": [
    "from sklearn.model_selection import train_test_split, cross_val_score"
   ]
  },
  {
   "cell_type": "code",
   "execution_count": 7,
   "id": "eed4c351",
   "metadata": {},
   "outputs": [],
   "source": [
    "#Importing evaluation metrics\n",
    "from sklearn.metrics import accuracy_score, f1_score, confusion_matrix, classification_report"
   ]
  },
  {
   "cell_type": "code",
   "execution_count": 8,
   "id": "bbe05f2c",
   "metadata": {},
   "outputs": [],
   "source": [
    "#Deployment module\n",
    "import streamlit as st  #For creating a web app  \n",
    "import pickle           #For object serialization\n",
    "import joblib           #For object serialization\n",
    "from joblib import dump #Model saving"
   ]
  },
  {
   "cell_type": "code",
   "execution_count": 9,
   "id": "264e031c",
   "metadata": {},
   "outputs": [
    {
     "data": {
      "text/html": [
       "<div>\n",
       "<style scoped>\n",
       "    .dataframe tbody tr th:only-of-type {\n",
       "        vertical-align: middle;\n",
       "    }\n",
       "\n",
       "    .dataframe tbody tr th {\n",
       "        vertical-align: top;\n",
       "    }\n",
       "\n",
       "    .dataframe thead th {\n",
       "        text-align: right;\n",
       "    }\n",
       "</style>\n",
       "<table border=\"1\" class=\"dataframe\">\n",
       "  <thead>\n",
       "    <tr style=\"text-align: right;\">\n",
       "      <th></th>\n",
       "      <th>TaskId</th>\n",
       "      <th>User_Search_Term</th>\n",
       "      <th>Ad</th>\n",
       "      <th>Website</th>\n",
       "      <th>Relevance</th>\n",
       "    </tr>\n",
       "  </thead>\n",
       "  <tbody>\n",
       "    <tr>\n",
       "      <th>0</th>\n",
       "      <td>1</td>\n",
       "      <td>wwww ncquickpass com</td>\n",
       "      <td>Nc Quick Pass - Pay Your Bill Online</td>\n",
       "      <td>www.doxo.com/pay/nc-quick-pass</td>\n",
       "      <td>Other</td>\n",
       "    </tr>\n",
       "    <tr>\n",
       "      <th>1</th>\n",
       "      <td>2</td>\n",
       "      <td>peloton plano tx</td>\n",
       "      <td>Studio Cycle Comparison - Find The Best Exerci...</td>\n",
       "      <td>www.nordictrack.com/Studio-Cycles/S22i</td>\n",
       "      <td>Other</td>\n",
       "    </tr>\n",
       "    <tr>\n",
       "      <th>2</th>\n",
       "      <td>3</td>\n",
       "      <td>antelope canyon</td>\n",
       "      <td>Hotels near Antelope Canyon - 100% Real Custom...</td>\n",
       "      <td>www.booking.com/Antelope-Canyon/Hotels</td>\n",
       "      <td>Other</td>\n",
       "    </tr>\n",
       "    <tr>\n",
       "      <th>3</th>\n",
       "      <td>4</td>\n",
       "      <td>get vaccine after covid</td>\n",
       "      <td>Janssen COVID-19 Vaccine - Authorized For Emer...</td>\n",
       "      <td>www.janssencovid19vaccine.com</td>\n",
       "      <td>Other</td>\n",
       "    </tr>\n",
       "    <tr>\n",
       "      <th>4</th>\n",
       "      <td>5</td>\n",
       "      <td>ahs.com/my-accountlogin</td>\n",
       "      <td>Find First american home warranty login - Chec...</td>\n",
       "      <td>www.searchandshopping.org/Your Search/Results</td>\n",
       "      <td>Other</td>\n",
       "    </tr>\n",
       "    <tr>\n",
       "      <th>...</th>\n",
       "      <td>...</td>\n",
       "      <td>...</td>\n",
       "      <td>...</td>\n",
       "      <td>...</td>\n",
       "      <td>...</td>\n",
       "    </tr>\n",
       "    <tr>\n",
       "      <th>971</th>\n",
       "      <td>972</td>\n",
       "      <td>keto recipes when using balsamic vinaigrette</td>\n",
       "      <td>Keto Recipes - Easy Keto Cooking Ideas - Easy ...</td>\n",
       "      <td>www.diggsopp/keto/recipes</td>\n",
       "      <td>Good</td>\n",
       "    </tr>\n",
       "    <tr>\n",
       "      <th>972</th>\n",
       "      <td>973</td>\n",
       "      <td>for sale by owner tionesta pa</td>\n",
       "      <td>All Tionesta Lots for Sale - Land in Tionesta, PA</td>\n",
       "      <td>homes.com</td>\n",
       "      <td>Good</td>\n",
       "    </tr>\n",
       "    <tr>\n",
       "      <th>973</th>\n",
       "      <td>974</td>\n",
       "      <td>top ten mba programs</td>\n",
       "      <td>Online Master in Software Dev. - Boston Univer...</td>\n",
       "      <td>bumetprograms.bu.edu/MS_Software/Development</td>\n",
       "      <td>Other</td>\n",
       "    </tr>\n",
       "    <tr>\n",
       "      <th>974</th>\n",
       "      <td>975</td>\n",
       "      <td>kindle app</td>\n",
       "      <td>Kindle app - Amazon Kindle App - Free Android ...</td>\n",
       "      <td>www.appconner.com/free-app/kindle</td>\n",
       "      <td>Good</td>\n",
       "    </tr>\n",
       "    <tr>\n",
       "      <th>975</th>\n",
       "      <td>976</td>\n",
       "      <td>anthem vision</td>\n",
       "      <td>Anthem HealthKeepers Virginia - Enroll For Hea...</td>\n",
       "      <td>enroll.anthem.com</td>\n",
       "      <td>Good</td>\n",
       "    </tr>\n",
       "  </tbody>\n",
       "</table>\n",
       "<p>976 rows × 5 columns</p>\n",
       "</div>"
      ],
      "text/plain": [
       "     TaskId                              User_Search_Term  \\\n",
       "0         1                          wwww ncquickpass com   \n",
       "1         2                              peloton plano tx   \n",
       "2         3                               antelope canyon   \n",
       "3         4                       get vaccine after covid   \n",
       "4         5                       ahs.com/my-accountlogin   \n",
       "..      ...                                           ...   \n",
       "971     972  keto recipes when using balsamic vinaigrette   \n",
       "972     973                 for sale by owner tionesta pa   \n",
       "973     974                          top ten mba programs   \n",
       "974     975                                    kindle app   \n",
       "975     976                                 anthem vision   \n",
       "\n",
       "                                                    Ad  \\\n",
       "0                 Nc Quick Pass - Pay Your Bill Online   \n",
       "1    Studio Cycle Comparison - Find The Best Exerci...   \n",
       "2    Hotels near Antelope Canyon - 100% Real Custom...   \n",
       "3    Janssen COVID-19 Vaccine - Authorized For Emer...   \n",
       "4    Find First american home warranty login - Chec...   \n",
       "..                                                 ...   \n",
       "971  Keto Recipes - Easy Keto Cooking Ideas - Easy ...   \n",
       "972  All Tionesta Lots for Sale - Land in Tionesta, PA   \n",
       "973  Online Master in Software Dev. - Boston Univer...   \n",
       "974  Kindle app - Amazon Kindle App - Free Android ...   \n",
       "975  Anthem HealthKeepers Virginia - Enroll For Hea...   \n",
       "\n",
       "                                           Website Relevance  \n",
       "0                   www.doxo.com/pay/nc-quick-pass     Other  \n",
       "1           www.nordictrack.com/Studio-Cycles/S22i     Other  \n",
       "2           www.booking.com/Antelope-Canyon/Hotels     Other  \n",
       "3                    www.janssencovid19vaccine.com     Other  \n",
       "4    www.searchandshopping.org/Your Search/Results     Other  \n",
       "..                                             ...       ...  \n",
       "971                      www.diggsopp/keto/recipes      Good  \n",
       "972                                      homes.com      Good  \n",
       "973   bumetprograms.bu.edu/MS_Software/Development     Other  \n",
       "974              www.appconner.com/free-app/kindle      Good  \n",
       "975                              enroll.anthem.com      Good  \n",
       "\n",
       "[976 rows x 5 columns]"
      ]
     },
     "execution_count": 9,
     "metadata": {},
     "output_type": "execute_result"
    }
   ],
   "source": [
    "#Reading in the csv file\n",
    "df = pd.read_csv('taac_assistant_taac_7.csv')\n",
    "df"
   ]
  },
  {
   "cell_type": "code",
   "execution_count": 10,
   "id": "71eea4a3",
   "metadata": {},
   "outputs": [
    {
     "data": {
      "text/html": [
       "<div>\n",
       "<style scoped>\n",
       "    .dataframe tbody tr th:only-of-type {\n",
       "        vertical-align: middle;\n",
       "    }\n",
       "\n",
       "    .dataframe tbody tr th {\n",
       "        vertical-align: top;\n",
       "    }\n",
       "\n",
       "    .dataframe thead th {\n",
       "        text-align: right;\n",
       "    }\n",
       "</style>\n",
       "<table border=\"1\" class=\"dataframe\">\n",
       "  <thead>\n",
       "    <tr style=\"text-align: right;\">\n",
       "      <th></th>\n",
       "      <th>TaskId</th>\n",
       "      <th>User_Search_Term</th>\n",
       "      <th>Ad</th>\n",
       "      <th>Website</th>\n",
       "      <th>Relevance</th>\n",
       "    </tr>\n",
       "  </thead>\n",
       "  <tbody>\n",
       "    <tr>\n",
       "      <th>0</th>\n",
       "      <td>1</td>\n",
       "      <td>wwww ncquickpass com</td>\n",
       "      <td>Nc Quick Pass - Pay Your Bill Online</td>\n",
       "      <td>www.doxo.com/pay/nc-quick-pass</td>\n",
       "      <td>0</td>\n",
       "    </tr>\n",
       "    <tr>\n",
       "      <th>1</th>\n",
       "      <td>2</td>\n",
       "      <td>peloton plano tx</td>\n",
       "      <td>Studio Cycle Comparison - Find The Best Exerci...</td>\n",
       "      <td>www.nordictrack.com/Studio-Cycles/S22i</td>\n",
       "      <td>0</td>\n",
       "    </tr>\n",
       "    <tr>\n",
       "      <th>2</th>\n",
       "      <td>3</td>\n",
       "      <td>antelope canyon</td>\n",
       "      <td>Hotels near Antelope Canyon - 100% Real Custom...</td>\n",
       "      <td>www.booking.com/Antelope-Canyon/Hotels</td>\n",
       "      <td>0</td>\n",
       "    </tr>\n",
       "    <tr>\n",
       "      <th>3</th>\n",
       "      <td>4</td>\n",
       "      <td>get vaccine after covid</td>\n",
       "      <td>Janssen COVID-19 Vaccine - Authorized For Emer...</td>\n",
       "      <td>www.janssencovid19vaccine.com</td>\n",
       "      <td>0</td>\n",
       "    </tr>\n",
       "    <tr>\n",
       "      <th>4</th>\n",
       "      <td>5</td>\n",
       "      <td>ahs.com/my-accountlogin</td>\n",
       "      <td>Find First american home warranty login - Chec...</td>\n",
       "      <td>www.searchandshopping.org/Your Search/Results</td>\n",
       "      <td>0</td>\n",
       "    </tr>\n",
       "    <tr>\n",
       "      <th>5</th>\n",
       "      <td>6</td>\n",
       "      <td>nike</td>\n",
       "      <td>Shop Womens Shops: Amazon - Amazon.com Officia...</td>\n",
       "      <td>www.amazon.com/apparel/womens-shops</td>\n",
       "      <td>1</td>\n",
       "    </tr>\n",
       "    <tr>\n",
       "      <th>6</th>\n",
       "      <td>7</td>\n",
       "      <td>cfl fixture</td>\n",
       "      <td>Flashlight Accessories</td>\n",
       "      <td>www.Grainfer.com/Flashlights</td>\n",
       "      <td>0</td>\n",
       "    </tr>\n",
       "    <tr>\n",
       "      <th>7</th>\n",
       "      <td>8</td>\n",
       "      <td>nationwide pet insurance</td>\n",
       "      <td>2021's Top 10 Pet Insurance - Buyer's Guide (N...</td>\n",
       "      <td>buyersguide.org/Pet-Insurance</td>\n",
       "      <td>1</td>\n",
       "    </tr>\n",
       "    <tr>\n",
       "      <th>8</th>\n",
       "      <td>9</td>\n",
       "      <td>nike</td>\n",
       "      <td>Nike Official Site - Just Do It - Shop The Lat...</td>\n",
       "      <td>www.nike.com</td>\n",
       "      <td>1</td>\n",
       "    </tr>\n",
       "    <tr>\n",
       "      <th>9</th>\n",
       "      <td>10</td>\n",
       "      <td>used cars</td>\n",
       "      <td>CarMax Used Cars - Visit carmax.com - Large Na...</td>\n",
       "      <td>www.carmax.com/cars</td>\n",
       "      <td>1</td>\n",
       "    </tr>\n",
       "  </tbody>\n",
       "</table>\n",
       "</div>"
      ],
      "text/plain": [
       "   TaskId          User_Search_Term  \\\n",
       "0       1      wwww ncquickpass com   \n",
       "1       2          peloton plano tx   \n",
       "2       3           antelope canyon   \n",
       "3       4   get vaccine after covid   \n",
       "4       5   ahs.com/my-accountlogin   \n",
       "5       6                      nike   \n",
       "6       7               cfl fixture   \n",
       "7       8  nationwide pet insurance   \n",
       "8       9                      nike   \n",
       "9      10                 used cars   \n",
       "\n",
       "                                                  Ad  \\\n",
       "0               Nc Quick Pass - Pay Your Bill Online   \n",
       "1  Studio Cycle Comparison - Find The Best Exerci...   \n",
       "2  Hotels near Antelope Canyon - 100% Real Custom...   \n",
       "3  Janssen COVID-19 Vaccine - Authorized For Emer...   \n",
       "4  Find First american home warranty login - Chec...   \n",
       "5  Shop Womens Shops: Amazon - Amazon.com Officia...   \n",
       "6                             Flashlight Accessories   \n",
       "7  2021's Top 10 Pet Insurance - Buyer's Guide (N...   \n",
       "8  Nike Official Site - Just Do It - Shop The Lat...   \n",
       "9  CarMax Used Cars - Visit carmax.com - Large Na...   \n",
       "\n",
       "                                         Website  Relevance  \n",
       "0                 www.doxo.com/pay/nc-quick-pass          0  \n",
       "1         www.nordictrack.com/Studio-Cycles/S22i          0  \n",
       "2         www.booking.com/Antelope-Canyon/Hotels          0  \n",
       "3                  www.janssencovid19vaccine.com          0  \n",
       "4  www.searchandshopping.org/Your Search/Results          0  \n",
       "5            www.amazon.com/apparel/womens-shops          1  \n",
       "6                   www.Grainfer.com/Flashlights          0  \n",
       "7                  buyersguide.org/Pet-Insurance          1  \n",
       "8                                   www.nike.com          1  \n",
       "9                            www.carmax.com/cars          1  "
      ]
     },
     "execution_count": 10,
     "metadata": {},
     "output_type": "execute_result"
    }
   ],
   "source": [
    "#We can transform the Relevance column into our target varable\n",
    "\n",
    "mapping = {\n",
    "    'Good' : 1,\n",
    "    'Other' : 0,\n",
    "}\n",
    "df['Relevance'] = df['Relevance'].replace(mapping)\n",
    "df.head(10)"
   ]
  },
  {
   "cell_type": "code",
   "execution_count": 11,
   "id": "cfe019c4",
   "metadata": {},
   "outputs": [
    {
     "data": {
      "text/plain": [
       "False"
      ]
     },
     "execution_count": 11,
     "metadata": {},
     "output_type": "execute_result"
    }
   ],
   "source": [
    "# Check for any missing values\n",
    "df.isnull().sum().any()"
   ]
  },
  {
   "cell_type": "code",
   "execution_count": 12,
   "id": "1b0f3464",
   "metadata": {},
   "outputs": [],
   "source": [
    "#No missing values"
   ]
  },
  {
   "cell_type": "code",
   "execution_count": 13,
   "id": "bac52730",
   "metadata": {},
   "outputs": [
    {
     "data": {
      "text/plain": [
       "<AxesSubplot:>"
      ]
     },
     "execution_count": 13,
     "metadata": {},
     "output_type": "execute_result"
    },
    {
     "data": {
      "image/png": "[encoded data removed]",
      "text/plain": [
       "<Figure size 432x288 with 1 Axes>"
      ]
     },
     "metadata": {
      "needs_background": "light"
     },
     "output_type": "display_data"
    }
   ],
   "source": [
    "#Visualization of the overall distribution of the classes\n",
    "df[\"Relevance\"].value_counts().plot(kind = 'barh')"
   ]
  },
  {
   "cell_type": "code",
   "execution_count": 14,
   "id": "507ce0f9",
   "metadata": {},
   "outputs": [],
   "source": [
    "#The data is imbalanced, it has to be balanced"
   ]
  },
  {
   "cell_type": "code",
   "execution_count": 15,
   "id": "75d52ed1",
   "metadata": {},
   "outputs": [
    {
     "name": "stderr",
     "output_type": "stream",
     "text": [
      "2024-01-21 15:54:02.952 INFO    numexpr.utils: NumExpr defaulting to 8 threads.\n"
     ]
    }
   ],
   "source": [
    "# Combine the three feature columns into one, separated by a space\n",
    "df['Search_Term_Ad_Website'] = df['User_Search_Term'] + ' ' + df['Ad'] + ' ' + df['Website']\n",
    "\n",
    "# Drop the individual feature columns\n",
    "df = df.drop(['User_Search_Term', 'Ad', 'Website'], axis=1)\n",
    "\n",
    "# Now, 'combined_features' will contain the combined text from the three columns\n"
   ]
  },
  {
   "cell_type": "code",
   "execution_count": 16,
   "id": "12109f38",
   "metadata": {},
   "outputs": [
    {
     "data": {
      "text/html": [
       "<div>\n",
       "<style scoped>\n",
       "    .dataframe tbody tr th:only-of-type {\n",
       "        vertical-align: middle;\n",
       "    }\n",
       "\n",
       "    .dataframe tbody tr th {\n",
       "        vertical-align: top;\n",
       "    }\n",
       "\n",
       "    .dataframe thead th {\n",
       "        text-align: right;\n",
       "    }\n",
       "</style>\n",
       "<table border=\"1\" class=\"dataframe\">\n",
       "  <thead>\n",
       "    <tr style=\"text-align: right;\">\n",
       "      <th></th>\n",
       "      <th>TaskId</th>\n",
       "      <th>Relevance</th>\n",
       "      <th>Search_Term_Ad_Website</th>\n",
       "    </tr>\n",
       "  </thead>\n",
       "  <tbody>\n",
       "    <tr>\n",
       "      <th>0</th>\n",
       "      <td>1</td>\n",
       "      <td>0</td>\n",
       "      <td>wwww ncquickpass com Nc Quick Pass - Pay Your ...</td>\n",
       "    </tr>\n",
       "    <tr>\n",
       "      <th>1</th>\n",
       "      <td>2</td>\n",
       "      <td>0</td>\n",
       "      <td>peloton plano tx Studio Cycle Comparison - Fin...</td>\n",
       "    </tr>\n",
       "    <tr>\n",
       "      <th>2</th>\n",
       "      <td>3</td>\n",
       "      <td>0</td>\n",
       "      <td>antelope canyon Hotels near Antelope Canyon - ...</td>\n",
       "    </tr>\n",
       "    <tr>\n",
       "      <th>3</th>\n",
       "      <td>4</td>\n",
       "      <td>0</td>\n",
       "      <td>get vaccine after covid Janssen COVID-19 Vacci...</td>\n",
       "    </tr>\n",
       "    <tr>\n",
       "      <th>4</th>\n",
       "      <td>5</td>\n",
       "      <td>0</td>\n",
       "      <td>ahs.com/my-accountlogin Find First american ho...</td>\n",
       "    </tr>\n",
       "  </tbody>\n",
       "</table>\n",
       "</div>"
      ],
      "text/plain": [
       "   TaskId  Relevance                             Search_Term_Ad_Website\n",
       "0       1          0  wwww ncquickpass com Nc Quick Pass - Pay Your ...\n",
       "1       2          0  peloton plano tx Studio Cycle Comparison - Fin...\n",
       "2       3          0  antelope canyon Hotels near Antelope Canyon - ...\n",
       "3       4          0  get vaccine after covid Janssen COVID-19 Vacci...\n",
       "4       5          0  ahs.com/my-accountlogin Find First american ho..."
      ]
     },
     "execution_count": 16,
     "metadata": {},
     "output_type": "execute_result"
    }
   ],
   "source": [
    "#Reading in the combined features dataset\n",
    "df.head(5)"
   ]
  },
  {
   "cell_type": "code",
   "execution_count": 17,
   "id": "09fd79a0",
   "metadata": {},
   "outputs": [
    {
     "data": {
      "text/html": [
       "<div>\n",
       "<style scoped>\n",
       "    .dataframe tbody tr th:only-of-type {\n",
       "        vertical-align: middle;\n",
       "    }\n",
       "\n",
       "    .dataframe tbody tr th {\n",
       "        vertical-align: top;\n",
       "    }\n",
       "\n",
       "    .dataframe thead th {\n",
       "        text-align: right;\n",
       "    }\n",
       "</style>\n",
       "<table border=\"1\" class=\"dataframe\">\n",
       "  <thead>\n",
       "    <tr style=\"text-align: right;\">\n",
       "      <th></th>\n",
       "      <th>Relevance</th>\n",
       "      <th>Search_Term_Ad_Website</th>\n",
       "    </tr>\n",
       "  </thead>\n",
       "  <tbody>\n",
       "    <tr>\n",
       "      <th>0</th>\n",
       "      <td>0</td>\n",
       "      <td>wwww ncquickpass com Nc Quick Pass - Pay Your ...</td>\n",
       "    </tr>\n",
       "    <tr>\n",
       "      <th>1</th>\n",
       "      <td>0</td>\n",
       "      <td>peloton plano tx Studio Cycle Comparison - Fin...</td>\n",
       "    </tr>\n",
       "    <tr>\n",
       "      <th>2</th>\n",
       "      <td>0</td>\n",
       "      <td>antelope canyon Hotels near Antelope Canyon - ...</td>\n",
       "    </tr>\n",
       "    <tr>\n",
       "      <th>3</th>\n",
       "      <td>0</td>\n",
       "      <td>get vaccine after covid Janssen COVID-19 Vacci...</td>\n",
       "    </tr>\n",
       "    <tr>\n",
       "      <th>4</th>\n",
       "      <td>0</td>\n",
       "      <td>ahs.com/my-accountlogin Find First american ho...</td>\n",
       "    </tr>\n",
       "  </tbody>\n",
       "</table>\n",
       "</div>"
      ],
      "text/plain": [
       "   Relevance                             Search_Term_Ad_Website\n",
       "0          0  wwww ncquickpass com Nc Quick Pass - Pay Your ...\n",
       "1          0  peloton plano tx Studio Cycle Comparison - Fin...\n",
       "2          0  antelope canyon Hotels near Antelope Canyon - ...\n",
       "3          0  get vaccine after covid Janssen COVID-19 Vacci...\n",
       "4          0  ahs.com/my-accountlogin Find First american ho..."
      ]
     },
     "execution_count": 17,
     "metadata": {},
     "output_type": "execute_result"
    }
   ],
   "source": [
    "#Dropping an unncessary column\n",
    "new_df = df.drop(columns = ['TaskId'])\n",
    "new_df.head()"
   ]
  },
  {
   "cell_type": "code",
   "execution_count": 18,
   "id": "b5ef745a",
   "metadata": {},
   "outputs": [],
   "source": [
    "#We want to preprocess/clean this text first to remove things like punctuation symbols & ensure that our summary\n",
    "#text is in lower case"
   ]
  },
  {
   "cell_type": "code",
   "execution_count": 19,
   "id": "bdb411b4",
   "metadata": {},
   "outputs": [],
   "source": [
    "space_replace = re.compile('[/(){}\\[\\]\\|@,;)]')   #combine all the listed characters\n",
    "bad_symbols = re.compile('[^0-9a-z #+_]')         #combine the listed characters\n",
    "stopwords = nltk.corpus.stopwords.words('english') #filtering the English stopwords list from NLTK's corpus\n",
    "urls = re.compile('http[s]?://(?:[a-zA-Z]|[0-9]|[$-_@.&+]|''[!*\\(\\),]|(?:%[0-9a-fA-F][0-9a-fA-F]))+' 'rt')  #remove url links from text"
   ]
  },
  {
   "cell_type": "code",
   "execution_count": 20,
   "id": "19109645",
   "metadata": {},
   "outputs": [],
   "source": [
    "def text_cleaning(text):\n",
    "    text = BeautifulSoup(text, \"lxml\").text #Removing any html decoding\n",
    "    text = text.lower()                     #Removing capitalization\n",
    "    text = space_replace.sub(' ', text)     #replacing symbols with a space\n",
    "    text = bad_symbols.sub('',text)         #Deleting symbols from text\n",
    "    text = ' '.join(word for word in text.split() if word not in stopwords)   #Removing stopwords \n",
    "    text = urls.sub('', text)               #Removing urls\n",
    "    return text"
   ]
  },
  {
   "cell_type": "code",
   "execution_count": 21,
   "id": "f1f22fa1",
   "metadata": {},
   "outputs": [
    {
     "data": {
      "text/html": [
       "<div>\n",
       "<style scoped>\n",
       "    .dataframe tbody tr th:only-of-type {\n",
       "        vertical-align: middle;\n",
       "    }\n",
       "\n",
       "    .dataframe tbody tr th {\n",
       "        vertical-align: top;\n",
       "    }\n",
       "\n",
       "    .dataframe thead th {\n",
       "        text-align: right;\n",
       "    }\n",
       "</style>\n",
       "<table border=\"1\" class=\"dataframe\">\n",
       "  <thead>\n",
       "    <tr style=\"text-align: right;\">\n",
       "      <th></th>\n",
       "      <th>Relevance</th>\n",
       "      <th>Search_Term_Ad_Website</th>\n",
       "    </tr>\n",
       "  </thead>\n",
       "  <tbody>\n",
       "    <tr>\n",
       "      <th>0</th>\n",
       "      <td>0</td>\n",
       "      <td>wwww ncquickpass com nc quick pass pay bill on...</td>\n",
       "    </tr>\n",
       "    <tr>\n",
       "      <th>1</th>\n",
       "      <td>0</td>\n",
       "      <td>peloton plano tx studio cycle comparison find ...</td>\n",
       "    </tr>\n",
       "    <tr>\n",
       "      <th>2</th>\n",
       "      <td>0</td>\n",
       "      <td>antelope canyon hotels near antelope canyon 10...</td>\n",
       "    </tr>\n",
       "    <tr>\n",
       "      <th>3</th>\n",
       "      <td>0</td>\n",
       "      <td>get vaccine covid janssen covid19 vaccine auth...</td>\n",
       "    </tr>\n",
       "    <tr>\n",
       "      <th>4</th>\n",
       "      <td>0</td>\n",
       "      <td>ahscom myaccountlogin find first american home...</td>\n",
       "    </tr>\n",
       "  </tbody>\n",
       "</table>\n",
       "</div>"
      ],
      "text/plain": [
       "   Relevance                             Search_Term_Ad_Website\n",
       "0          0  wwww ncquickpass com nc quick pass pay bill on...\n",
       "1          0  peloton plano tx studio cycle comparison find ...\n",
       "2          0  antelope canyon hotels near antelope canyon 10...\n",
       "3          0  get vaccine covid janssen covid19 vaccine auth...\n",
       "4          0  ahscom myaccountlogin find first american home..."
      ]
     },
     "execution_count": 21,
     "metadata": {},
     "output_type": "execute_result"
    }
   ],
   "source": [
    "#applying our text cleaning function to our dataset\n",
    "new_df['Search_Term_Ad_Website'] = new_df['Search_Term_Ad_Website'].apply(text_cleaning)\n",
    "new_df.head()"
   ]
  },
  {
   "cell_type": "code",
   "execution_count": 22,
   "id": "0832beee",
   "metadata": {},
   "outputs": [],
   "source": [
    "#Defining the target and features\n",
    "x = new_df['Search_Term_Ad_Website']\n",
    "y = new_df['Relevance']"
   ]
  },
  {
   "cell_type": "code",
   "execution_count": 23,
   "id": "2403e595",
   "metadata": {},
   "outputs": [],
   "source": [
    "#Splitting the data for training\n",
    "x_train, x_test, y_train, y_test = train_test_split(x, y, test_size = 0.3, random_state = 42)"
   ]
  },
  {
   "cell_type": "code",
   "execution_count": 24,
   "id": "a276f33a",
   "metadata": {},
   "outputs": [
    {
     "data": {
      "text/plain": [
       "603    1\n",
       "568    1\n",
       "Name: Relevance, dtype: int64"
      ]
     },
     "execution_count": 24,
     "metadata": {},
     "output_type": "execute_result"
    }
   ],
   "source": [
    "y_train.head(2)"
   ]
  },
  {
   "cell_type": "code",
   "execution_count": 25,
   "id": "7987eadb",
   "metadata": {},
   "outputs": [
    {
     "data": {
      "text/plain": [
       "603    tinnitus ear protection ears ringing treatment...\n",
       "568    hilton related hotels scraton wilks barre area...\n",
       "Name: Search_Term_Ad_Website, dtype: object"
      ]
     },
     "execution_count": 25,
     "metadata": {},
     "output_type": "execute_result"
    }
   ],
   "source": [
    "x_train.head(2)"
   ]
  },
  {
   "cell_type": "markdown",
   "id": "20e49ba1",
   "metadata": {},
   "source": [
    "DATA TRANSFORMATION"
   ]
  },
  {
   "cell_type": "markdown",
   "id": "fdc4c7f1",
   "metadata": {},
   "source": [
    "Transforming  the text to vector (numerical form) then fed to our model"
   ]
  },
  {
   "cell_type": "code",
   "execution_count": 26,
   "id": "a699b2aa",
   "metadata": {},
   "outputs": [],
   "source": [
    "#initialize vectorizer used for text data preprocessing:\n",
    "count_vect = CountVectorizer()"
   ]
  },
  {
   "cell_type": "code",
   "execution_count": 27,
   "id": "b0b49c10",
   "metadata": {},
   "outputs": [],
   "source": [
    "count_vect=CountVectorizer(ngram_range=(1,3))"
   ]
  },
  {
   "cell_type": "code",
   "execution_count": 28,
   "id": "c6c7e3f4",
   "metadata": {},
   "outputs": [],
   "source": [
    "#We now need to transform our x_train and y_train so they are transformed \n",
    "#from text data to vectors"
   ]
  },
  {
   "cell_type": "code",
   "execution_count": 29,
   "id": "a7996b68",
   "metadata": {},
   "outputs": [],
   "source": [
    "x_train_cv = count_vect.fit_transform(x_train)  #For test, we use only transform\n",
    "x_test_cv = count_vect.transform(x_test)        #For train, we use fit_transform\n"
   ]
  },
  {
   "cell_type": "code",
   "execution_count": 30,
   "id": "1251fae8",
   "metadata": {},
   "outputs": [],
   "source": [
    "# Save the fitted vectorizer\n",
    "with open(\"count_vectorizer.pkl\", \"wb\") as vectorizer_file:\n",
    "    pickle.dump(count_vect, vectorizer_file)"
   ]
  },
  {
   "cell_type": "code",
   "execution_count": 31,
   "id": "d5c923f7",
   "metadata": {},
   "outputs": [
    {
     "data": {
      "text/plain": [
       "(683,)"
      ]
     },
     "execution_count": 31,
     "metadata": {},
     "output_type": "execute_result"
    }
   ],
   "source": [
    "#Shape of train data\n",
    "y_train.shape"
   ]
  },
  {
   "cell_type": "code",
   "execution_count": 32,
   "id": "11ba1438",
   "metadata": {},
   "outputs": [
    {
     "data": {
      "text/plain": [
       "(683,)"
      ]
     },
     "execution_count": 32,
     "metadata": {},
     "output_type": "execute_result"
    }
   ],
   "source": [
    "#Shape of train data\n",
    "x_train.shape"
   ]
  },
  {
   "cell_type": "code",
   "execution_count": 33,
   "id": "8fa09736",
   "metadata": {},
   "outputs": [
    {
     "data": {
      "text/plain": [
       "(683, 18046)"
      ]
     },
     "execution_count": 33,
     "metadata": {},
     "output_type": "execute_result"
    }
   ],
   "source": [
    "x_train_cv.shape"
   ]
  },
  {
   "cell_type": "markdown",
   "id": "02790657",
   "metadata": {},
   "source": [
    "Apply SMOTE to balance the dataset"
   ]
  },
  {
   "cell_type": "code",
   "execution_count": 34,
   "id": "57e4b4d5",
   "metadata": {},
   "outputs": [],
   "source": [
    "smote = SMOTE(random_state=42)\n",
    "x_train_cv_resampled, y_train_cv_resampled = smote.fit_resample(x_train_cv, y_train)"
   ]
  },
  {
   "cell_type": "code",
   "execution_count": 35,
   "id": "abc771d1",
   "metadata": {},
   "outputs": [],
   "source": [
    "from collections import Counter"
   ]
  },
  {
   "cell_type": "code",
   "execution_count": 36,
   "id": "ce202780",
   "metadata": {},
   "outputs": [
    {
     "name": "stdout",
     "output_type": "stream",
     "text": [
      "Class distribution before SMOTE: Counter({1: 412, 0: 271})\n"
     ]
    }
   ],
   "source": [
    "# Class distribution before applying SMOTE\n",
    "print(\"Class distribution before SMOTE:\", Counter(y_train))"
   ]
  },
  {
   "cell_type": "code",
   "execution_count": 37,
   "id": "994a50cd",
   "metadata": {},
   "outputs": [
    {
     "name": "stdout",
     "output_type": "stream",
     "text": [
      "Class distribution after SMOTE: Counter({1: 412, 0: 412})\n"
     ]
    }
   ],
   "source": [
    "# Class distribution after SMOTE\n",
    "print(\"Class distribution after SMOTE:\", Counter(y_train_cv_resampled))"
   ]
  },
  {
   "cell_type": "markdown",
   "id": "cf01fac3",
   "metadata": {},
   "source": [
    "MODELLING"
   ]
  },
  {
   "cell_type": "code",
   "execution_count": 38,
   "id": "2e878e35",
   "metadata": {},
   "outputs": [],
   "source": [
    "multinomial_nb = MultinomialNB()\n",
    "logistic_rgr = LogisticRegression()\n",
    "random_fr = RandomForestClassifier()\n",
    "svm_model = SVC()"
   ]
  },
  {
   "cell_type": "code",
   "execution_count": 39,
   "id": "640ae7c1",
   "metadata": {},
   "outputs": [],
   "source": [
    "# List of different classification models \n",
    "models = {\n",
    "    'Multinomial Naive Bayes': multinomial_nb,\n",
    "    'Logistic Regression': logistic_rgr,\n",
    "    'Random Forest': random_fr, \n",
    "    'svm':svm_model\n",
    "}\n",
    "\n",
    "# Function to initialize models, fit them to the training data, and make predictions on the test data\n",
    "def classification_models():\n",
    "    # Creating an empty dictionary to store model-score pairs\n",
    "    model_scores = {}\n",
    "    for model_name, model in models.items():\n",
    "        \n",
    "        model.fit(x_train_cv_resampled, y_train_cv_resampled)        \n",
    "        predictions = model.predict(x_test_cv)\n",
    "        \n",
    "        # Calculating accuracy score for each model\n",
    "        score = accuracy_score(predictions, y_test)\n",
    "        model_scores[model_name] = score\n",
    "    \n",
    "    return model_scores\n"
   ]
  },
  {
   "cell_type": "code",
   "execution_count": 40,
   "id": "46f29854",
   "metadata": {},
   "outputs": [
    {
     "name": "stdout",
     "output_type": "stream",
     "text": [
      "Model: Multinomial Naive Bayes, Accuracy Score: 0.621160409556314\n",
      "Model: Logistic Regression, Accuracy Score: 0.5460750853242321\n",
      "Model: Random Forest, Accuracy Score: 0.5187713310580204\n",
      "Model: svm, Accuracy Score: 0.5085324232081911\n"
     ]
    }
   ],
   "source": [
    "# Call the function and store the returned model-score pairs\n",
    "model_accuracy_scores = classification_models()\n",
    "\n",
    "for model, score in model_accuracy_scores.items():\n",
    "    print(f\"Model: {model}, Accuracy Score: {score}\")\n"
   ]
  },
  {
   "cell_type": "code",
   "execution_count": 41,
   "id": "ef0c4ccf",
   "metadata": {},
   "outputs": [
    {
     "name": "stdout",
     "output_type": "stream",
     "text": [
      "Confusion Matrix for Multinomial Naive Bayes:\n",
      "[[ 60  64]\n",
      " [ 47 122]]\n",
      "Classification Report for Multinomial Naive Bayes:\n",
      "              precision    recall  f1-score   support\n",
      "\n",
      "           0       0.56      0.48      0.52       124\n",
      "           1       0.66      0.72      0.69       169\n",
      "\n",
      "    accuracy                           0.62       293\n",
      "   macro avg       0.61      0.60      0.60       293\n",
      "weighted avg       0.62      0.62      0.62       293\n",
      "\n",
      "Confusion Matrix for Logistic Regression:\n",
      "[[ 99  25]\n",
      " [108  61]]\n",
      "Classification Report for Logistic Regression:\n",
      "              precision    recall  f1-score   support\n",
      "\n",
      "           0       0.48      0.80      0.60       124\n",
      "           1       0.71      0.36      0.48       169\n",
      "\n",
      "    accuracy                           0.55       293\n",
      "   macro avg       0.59      0.58      0.54       293\n",
      "weighted avg       0.61      0.55      0.53       293\n",
      "\n",
      "Confusion Matrix for Random Forest:\n",
      "[[115   9]\n",
      " [132  37]]\n",
      "Classification Report for Random Forest:\n",
      "              precision    recall  f1-score   support\n",
      "\n",
      "           0       0.47      0.93      0.62       124\n",
      "           1       0.80      0.22      0.34       169\n",
      "\n",
      "    accuracy                           0.52       293\n",
      "   macro avg       0.63      0.57      0.48       293\n",
      "weighted avg       0.66      0.52      0.46       293\n",
      "\n",
      "Confusion Matrix for svm:\n",
      "[[117   7]\n",
      " [137  32]]\n",
      "Classification Report for svm:\n",
      "              precision    recall  f1-score   support\n",
      "\n",
      "           0       0.46      0.94      0.62       124\n",
      "           1       0.82      0.19      0.31       169\n",
      "\n",
      "    accuracy                           0.51       293\n",
      "   macro avg       0.64      0.57      0.46       293\n",
      "weighted avg       0.67      0.51      0.44       293\n",
      "\n"
     ]
    }
   ],
   "source": [
    "# Iterate through models and generate confusion matrix and classification report\n",
    "for model_name, model in models.items():\n",
    "    y_pred = model.predict(x_test_cv)\n",
    "    \n",
    "    print(f\"Confusion Matrix for {model_name}:\")\n",
    "    print(confusion_matrix(y_test, y_pred))\n",
    "    \n",
    "    print(f\"Classification Report for {model_name}:\")\n",
    "    print(classification_report(y_test, y_pred))\n"
   ]
  },
  {
   "cell_type": "code",
   "execution_count": 42,
   "id": "2560f974",
   "metadata": {},
   "outputs": [
    {
     "name": "stdout",
     "output_type": "stream",
     "text": [
      "{'Multinomial Naive Bayes': array([0], dtype=int64), 'Logistic Regression': array([0], dtype=int64), 'Random Forest': array([0], dtype=int64), 'svm': array([0], dtype=int64)}\n"
     ]
    }
   ],
   "source": [
    "def predict_rel(predict_relevance, models):\n",
    "    combined_text = ' '.join(predict_relevance)\n",
    "    cleaned_text = text_cleaning(combined_text)\n",
    "    text_features = count_vect.transform([cleaned_text])\n",
    "    \n",
    "    # Dictionary to store predictions for each model\n",
    "    predictions = {}\n",
    "    \n",
    "    # Loop through each model and make predictions\n",
    "    for model_name, model in models.items():\n",
    "        prediction = model.predict(text_features)\n",
    "        predictions[model_name] = prediction\n",
    "    \n",
    "    return predictions\n",
    "\n",
    "predict_relevance = [\"wheres my refund\", \"E-file Online Income Tax Preparation & Electronic Filing\", \"e-file.com\"]\n",
    "\n",
    "# 'models' dictionary containing instances of the models (MultinomialNB, LogisticRegression, RandomForestClassifier, )\n",
    "models = {\n",
    "    'Multinomial Naive Bayes': multinomial_nb,\n",
    "    'Logistic Regression': logistic_rgr,\n",
    "    'Random Forest': random_fr,\n",
    "    'svm': svm_model\n",
    "}\n",
    "\n",
    "predicted_scores = predict_rel(predict_relevance, models)\n",
    "print(predicted_scores)\n"
   ]
  },
  {
   "cell_type": "code",
   "execution_count": 43,
   "id": "3006446b",
   "metadata": {},
   "outputs": [],
   "source": [
    "### Create a Pickle file using serialization \n",
    "import pickle\n",
    "pickle_out = open(\"mnb_classifier.pkl\",\"wb\")\n",
    "pickle.dump(multinomial_nb, pickle_out)\n",
    "pickle_out.close()"
   ]
  }
 ],
 "metadata": {
  "kernelspec": {
   "display_name": "Python 3",
   "language": "python",
   "name": "python3"
  },
  "language_info": {
   "codemirror_mode": {
    "name": "ipython",
    "version": 3
   },
   "file_extension": ".py",
   "mimetype": "text/x-python",
   "name": "python",
   "nbconvert_exporter": "python",
   "pygments_lexer": "ipython3",
   "version": "3.8.8"
  }
 },
 "nbformat": 4,
 "nbformat_minor": 5
}
